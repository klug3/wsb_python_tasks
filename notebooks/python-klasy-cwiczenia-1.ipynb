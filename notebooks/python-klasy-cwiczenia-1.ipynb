{
 "cells": [
  {
   "cell_type": "markdown",
   "id": "virtual-senate",
   "metadata": {},
   "source": [
    "### Definiujemy pierwsza klase: Punkt\n",
    "- deklaracja prostej (pustej) klasy\n",
    "- jak tworzymy nowa instancje\n",
    "- wyswietlamy informacje o obiekcie uzywajac:\n",
    "     - `type()`\n",
    "     - `id()`\n",
    "     - `isinstance(obj, cls)`\n",
    "- wyswitlamy zawartosc obiektu uzywajac:\n",
    "     - `a.__dict__`\n",
    "\n"
   ]
  },
  {
   "cell_type": "code",
   "execution_count": 5,
   "id": "numeric-photographer",
   "metadata": {},
   "outputs": [
    {
     "name": "stdout",
     "output_type": "stream",
     "text": [
      "{'x': 123, 'y': 242}\n",
      "x={'x': 123, 'y': 242} i=5\n",
      "x={'x': 123, 'y': 242}, i=5\n"
     ]
    }
   ],
   "source": [
    "# Hint:  jak uzyc print() do wyswietlenia zmiennej/obiektu\n",
    "x = {'x': 123, 'y':242}\n",
    "i = 5\n",
    "\n",
    "print(x)\n",
    "print(\"x=%s i=%d\" % (x, i) )\n",
    "\n",
    "print(f\"x={x}, i={i}\")  ###"
   ]
  },
  {
   "cell_type": "code",
   "execution_count": 10,
   "id": "4e44a7e5",
   "metadata": {},
   "outputs": [
    {
     "name": "stdout",
     "output_type": "stream",
     "text": [
      "a=<__main__.Punkt object at 0x00000285201AF7D0> id=2770792544208 typ=<class '__main__.Punkt'> \n",
      "b=<__main__.Punkt object at 0x00000285201AF910> id=2770792544528 typ=<class '__main__.Punkt'> \n"
     ]
    }
   ],
   "source": [
    "class Punkt:\n",
    "    pass\n",
    "\n",
    "a = Punkt()\n",
    "b = Punkt()\n",
    "\n",
    "\n",
    "print(f\"a={a} id={id(a)} typ={type(a)} \")\n",
    "print(f\"b={b} id={id(b)} typ={type(b)} \")\n"
   ]
  },
  {
   "cell_type": "code",
   "execution_count": 16,
   "id": "f290f358",
   "metadata": {},
   "outputs": [
    {
     "data": {
      "text/plain": [
       "True"
      ]
     },
     "execution_count": 16,
     "metadata": {},
     "output_type": "execute_result"
    }
   ],
   "source": [
    "x = [123, 12321]\n",
    "\n",
    "isinstance(b, Punkt)"
   ]
  },
  {
   "cell_type": "markdown",
   "id": "neither-contemporary",
   "metadata": {},
   "source": [
    "### Dodajemy atrybut do klasy\n",
    "- dodajemy atrybuty x, y\n",
    "- ustawiamy wartosc. Jak odwolujemy sie do elementow obiektu\n",
    "- wyswietlamy zawartosc obiekt\n"
   ]
  },
  {
   "cell_type": "code",
   "execution_count": 20,
   "id": "neural-neighbor",
   "metadata": {},
   "outputs": [
    {
     "name": "stdout",
     "output_type": "stream",
     "text": [
      "a: x=10, y=20 dict={'x': 10, 'y': 20, 'z': 213} id=2770792490640 \n",
      "b: x=4234, y=23432 dict={'x': 4234, 'y': 23432} id=2770792490192 \n"
     ]
    }
   ],
   "source": [
    "class Punkt:\n",
    "    pass\n",
    "\n",
    "\n",
    "a = Punkt()\n",
    "a.x = 10\n",
    "a.y = 20\n",
    "a.z = 213\n",
    "\n",
    "b = Punkt()\n",
    "b.x = 4234\n",
    "b.y = 23432\n",
    "\n",
    "print(f\"a: x={a.x}, y={a.y} dict={a.__dict__} id={id(a)} \")\n",
    "print(f\"b: x={b.x}, y={b.y} dict={b.__dict__} id={id(b)} \")\n"
   ]
  },
  {
   "cell_type": "markdown",
   "id": "abandoned-assignment",
   "metadata": {},
   "source": [
    "### Porownujemy dwa obiekty\n",
    "- tworzymy 2 instancje Punkt\n",
    "- sprawdzamy czy a == b (przy tych samych wartosciach x i y)\n",
    "- tworzymy obiekt c = a i porownujemy do a i b\n",
    "\n",
    "- dwa typu kopiowania obiektu:  kopia płytka i kopia 'głęboka' (deep copy)\n"
   ]
  },
  {
   "cell_type": "code",
   "execution_count": 23,
   "id": "stock-somalia",
   "metadata": {},
   "outputs": [
    {
     "name": "stdout",
     "output_type": "stream",
     "text": [
      "a: x=10, y=20 dict={'x': 10, 'y': 20} id=2770792614096 \n",
      "b: x=10, y=20 dict={'x': 10, 'y': 20} id=2770792357136 \n"
     ]
    },
    {
     "data": {
      "text/plain": [
       "False"
      ]
     },
     "execution_count": 23,
     "metadata": {},
     "output_type": "execute_result"
    }
   ],
   "source": [
    "class Punkt:\n",
    "    pass\n",
    "\n",
    "\n",
    "a = Punkt()\n",
    "a.x = 10\n",
    "a.y = 20\n",
    "\n",
    "\n",
    "b = Punkt()\n",
    "b.x = 10\n",
    "b.y = 20\n",
    "\n",
    "print(f\"a: x={a.x}, y={a.y} dict={a.__dict__} id={id(a)} \")\n",
    "print(f\"b: x={b.x}, y={b.y} dict={b.__dict__} id={id(b)} \")\n",
    "\n",
    "\n",
    "a == b"
   ]
  },
  {
   "cell_type": "code",
   "execution_count": 27,
   "id": "bb46fa14",
   "metadata": {},
   "outputs": [
    {
     "name": "stdout",
     "output_type": "stream",
     "text": [
      "a: x=10, y=20 dict={'x': 10, 'y': 20} id=2770792614096 \n",
      "b: x=10, y=20 dict={'x': 10, 'y': 20} id=2770792357136 \n",
      "c: x=10, y=20 dict={'x': 10, 'y': 20} id=2770792614096 \n"
     ]
    },
    {
     "data": {
      "text/plain": [
       "True"
      ]
     },
     "execution_count": 27,
     "metadata": {},
     "output_type": "execute_result"
    }
   ],
   "source": [
    "c = a\n",
    "\n",
    "print(f\"a: x={a.x}, y={a.y} dict={a.__dict__} id={id(a)} \")\n",
    "print(f\"b: x={b.x}, y={b.y} dict={b.__dict__} id={id(b)} \")\n",
    "print(f\"c: x={c.x}, y={c.y} dict={c.__dict__} id={id(c)} \")\n",
    "\n",
    "a == c"
   ]
  },
  {
   "cell_type": "code",
   "execution_count": 28,
   "id": "d0c2c29a",
   "metadata": {},
   "outputs": [
    {
     "name": "stdout",
     "output_type": "stream",
     "text": [
      "a.x = 123213\n",
      "c.x = 123213\n"
     ]
    }
   ],
   "source": [
    "a.x = 123213 \n",
    "\n",
    "print(f\"a.x = {a.x}\")\n",
    "print(f\"c.x = {c.x}\")\n"
   ]
  },
  {
   "cell_type": "markdown",
   "id": "aggressive-mattress",
   "metadata": {},
   "source": [
    "### Atrybut klasy vs atrybut obiektu\n",
    "- dodajemy do klasy atrybut 'kolor'\n",
    "- sprawdamy jaki kolor ma a i b\n",
    "- w Punkt.kolor zmieniamy kolor - wyswietlamy kolory naszych obiektow: a.kolor i b.kolor  i porownujemy.\n",
    "- sprawdzamy uzywajac id(): Punkt.kolor i b.kolor\n"
   ]
  },
  {
   "cell_type": "code",
   "execution_count": 32,
   "id": "everyday-identification",
   "metadata": {},
   "outputs": [
    {
     "name": "stdout",
     "output_type": "stream",
     "text": [
      "a: a.x=10, a.y=20, a.kolor=red\n",
      "b: b.x=1, b.y=2, b.kolor=red\n"
     ]
    }
   ],
   "source": [
    "class Punkt:\n",
    "    kolor = 'red'\n",
    "\n",
    "\n",
    "a = Punkt()\n",
    "a.x = 10\n",
    "a.y = 20\n",
    "\n",
    "b = Punkt()\n",
    "b.x = 1\n",
    "b.y = 2\n",
    "\n",
    "print(f\"a: a.x={a.x}, a.y={a.y}, a.kolor={a.kolor}\")\n",
    "print(f\"b: b.x={b.x}, b.y={b.y}, b.kolor={b.kolor}\")\n"
   ]
  },
  {
   "cell_type": "code",
   "execution_count": 39,
   "id": "9f996c7e",
   "metadata": {},
   "outputs": [
    {
     "name": "stdout",
     "output_type": "stream",
     "text": [
      "id(Punkt.kolor)=2770744684656\n",
      "a: a.x=10, a.y=20, a.kolor=yellow id(a.kolor)=2770744684656\n",
      "b: b.x=1, b.y=2, b.kolor=green id(b.kolor)=2770740206960\n",
      "a: a.x=10, a.y=20, a.kolor=pink id(a.kolor)=2770792614704\n",
      "b: b.x=1, b.y=2, b.kolor=green id(b.kolor)=2770740206960\n"
     ]
    }
   ],
   "source": [
    "Punkt.kolor = 'yellow'\n",
    "print(f\"id(Punkt.kolor)={id(Punkt.kolor)}\")\n",
    "\n",
    "\n",
    "b.kolor = 'green'\n",
    "\n",
    "print(f\"a: a.x={a.x}, a.y={a.y}, a.kolor={a.kolor} id(a.kolor)={id(a.kolor)}\")\n",
    "print(f\"b: b.x={b.x}, b.y={b.y}, b.kolor={b.kolor} id(b.kolor)={id(b.kolor)}\")\n",
    "\n",
    "Punkt.kolor = 'pink'\n",
    "print(f\"a: a.x={a.x}, a.y={a.y}, a.kolor={a.kolor} id(a.kolor)={id(a.kolor)}\")\n",
    "print(f\"b: b.x={b.x}, b.y={b.y}, b.kolor={b.kolor} id(b.kolor)={id(b.kolor)}\")\n"
   ]
  },
  {
   "cell_type": "markdown",
   "id": "proprietary-pennsylvania",
   "metadata": {},
   "source": [
    "### Dodajemy pierwsza metode do klasy\n",
    "- definiujemy funkcje foo() oraz tak samo metode w klasie. Wykonujemy i sprawdzamy blad\n",
    "- jak wywolujemy metody\n",
    "- czym sie rozni funkcja od metody. Sprawdzamy type() \n",
    " "
   ]
  },
  {
   "cell_type": "code",
   "execution_count": 41,
   "id": "5632ff59",
   "metadata": {},
   "outputs": [
    {
     "name": "stdout",
     "output_type": "stream",
     "text": [
      "foo: type=<class 'function'>\n",
      "Jestm funkcja: foo\n"
     ]
    }
   ],
   "source": [
    "def foo():\n",
    "    print(\"Jestm funkcja: foo\")\n",
    "    \n",
    "print(f\"foo: type={type(foo)}\")\n",
    "foo()"
   ]
  },
  {
   "cell_type": "code",
   "execution_count": 44,
   "id": "6385e8ad",
   "metadata": {
    "scrolled": true
   },
   "outputs": [
    {
     "name": "stdout",
     "output_type": "stream",
     "text": [
      "p.foo: type=<class 'method'>\n",
      "Jestm metoda: foo x=<class '__main__.Punkt'>\n"
     ]
    }
   ],
   "source": [
    "class Punkt:\n",
    "    def foo(x):\n",
    "        print(f\"Jestm metoda: foo x={type(x)}\")\n",
    "    \n",
    "    \n",
    "p = Punkt()\n",
    "print(f\"p.foo: type={type(p.foo)}\")\n",
    "\n",
    "p.foo()"
   ]
  },
  {
   "cell_type": "markdown",
   "id": "8dcd2a37",
   "metadata": {},
   "source": [
    "### Co to jest: self\n",
    "- sprawdzamy type() i id() \n"
   ]
  },
  {
   "cell_type": "code",
   "execution_count": 49,
   "id": "f774442b",
   "metadata": {},
   "outputs": [
    {
     "name": "stdout",
     "output_type": "stream",
     "text": [
      "id(p)=2770798787344\n",
      "p.foo: type=<class 'method'>\n",
      "Jestm metoda: foo self=<class '__main__.Punkt'> id(self)=2770798787344\n"
     ]
    }
   ],
   "source": [
    "class Punkt:\n",
    "    def foo(self):\n",
    "        print(f\"Jestm metoda: foo self={type(self)} id(self)={id(self)}\")\n",
    "\n",
    "        \n",
    "p = Punkt()\n",
    "print(f\"id(p)={id(p)}\")\n",
    "\n",
    "print(f\"p.foo: type={type(p.foo)}\")\n",
    "p.foo()\n",
    "\n"
   ]
  },
  {
   "cell_type": "markdown",
   "id": "040d6d56",
   "metadata": {},
   "source": [
    "### Dodajemy argumenty do naszej metody\n",
    "- definiujemy metode `przedun(dx, dy)` ktora zmieni atrybuty x i y w naszym obiekcie o wartosci odpowiednio dx/dy\n",
    "- co sie stanie jak nie uzyjemy self. - co odczytamy?\n",
    "- pokazac ze pierwszy attr nie musi nazywac sie 'self'"
   ]
  },
  {
   "cell_type": "code",
   "execution_count": 60,
   "id": "4af99868",
   "metadata": {},
   "outputs": [
    {
     "name": "stdout",
     "output_type": "stream",
     "text": [
      "przed: a.x=100, a.y=200\n",
      "-->przesun(13, 20)\n",
      "po: a.x=113, a.y=220\n",
      "(113,220)\n"
     ]
    }
   ],
   "source": [
    "class Punkt:\n",
    "    def przesun(self, dx, dy):\n",
    "        print(f\"-->przesun({dx}, {dy})\")\n",
    "        self.x += dx\n",
    "        self.y += dy\n",
    "      \n",
    "    def napisz(self):\n",
    "        print(f\"({self.x},{self.y})\")\n",
    "        \n",
    "        \n",
    "a = Punkt()\n",
    "a.x = 100\n",
    "a.y = 200\n",
    "print(f\"przed: a.x={a.x}, a.y={a.y}\")\n",
    "\n",
    "a.przesun(13, 20)\n",
    "        \n",
    "print(f\"po: a.x={a.x}, a.y={a.y}\")\n",
    "\n",
    "a.napisz()"
   ]
  },
  {
   "cell_type": "markdown",
   "id": "25f12cf1",
   "metadata": {},
   "source": [
    "### [S] Zadanie do samodzielnego wykonania:\n",
    "\n",
    "Zdefiniuj klase: Trojkat\n",
    "ktora ma atrybuty:\n",
    "* a - podstawa\n",
    "* h - wysokowc\n",
    "\n",
    "Dodaj metody:\n",
    "* pokaz() - wyswietli \"Trojkat: a=,   h=\"\n",
    "* liczPole() -> int  - pole trojkata\n",
    "* skaluj(faktor)  `a*faktor`  `h*faktor`\n",
    "\n"
   ]
  },
  {
   "cell_type": "code",
   "execution_count": null,
   "id": "62897def",
   "metadata": {},
   "outputs": [],
   "source": [
    "# zdefiniuj swoja klase Trojkat\n",
    "\n",
    "    \n",
    "t = Trojkat()\n",
    "t.a = 20\n",
    "t.h = 100\n",
    "\n",
    "t.pokaz()\n",
    "print(f\"pole={t.liczPole()}\")\n",
    "\n",
    "t.skaluj(2)\n",
    "print(f\"pole={t.liczPole()}\")\n",
    "\n"
   ]
  },
  {
   "cell_type": "markdown",
   "id": "eight-voice",
   "metadata": {},
   "source": [
    "### Przekazujemy dodatkowe arg do metody\n",
    "- rozszerzamy nasza metode dodajac nowe argumenty\n",
    " - sprobowac `*arg` i `**kwarg`\n",
    "- pamietamy o uzywaniu self. \n",
    "- przyklad jakie bledy moga powstac jak nie uzyjemy self.\n",
    "  - ustawiamy zmienna loklana w metodzie (a nie atrybut klasy)\n",
    "  - odczytujemy zmienna globalna a nie atrybut klasy\n"
   ]
  },
  {
   "cell_type": "code",
   "execution_count": 68,
   "id": "4faf2d8e",
   "metadata": {},
   "outputs": [
    {
     "name": "stdout",
     "output_type": "stream",
     "text": [
      "rysuj: x=1, y=2, kolor=red\n",
      "rysuj: x=4, y=5, kolor=yellow\n",
      "rysuj: x=0, y=0, kolor=yellow\n",
      "rysuj: x=0, y=123, kolor=yellow\n",
      "rysuj: x=12, y=0, kolor=black\n",
      "rysuj: x=12, y=123, kolor=black\n"
     ]
    }
   ],
   "source": [
    "class Figura:\n",
    "    def rysuj(self, x=0, y=0, kolor='yellow'):\n",
    "        print(f\"rysuj: x={x}, y={y}, kolor={kolor}\")\n",
    "        \n",
    "        \n",
    "a = Figura()\n",
    "a.rysuj(1, 2, 'red')\n",
    "a.rysuj(4, 5)\n",
    "a.rysuj()\n",
    "\n",
    "a.rysuj(y=123)\n",
    "a.rysuj(kolor='black', x=12)\n",
    "a.rysuj(kolor='black', y=123, x=12)\n"
   ]
  },
  {
   "cell_type": "code",
   "execution_count": 78,
   "id": "c616dfc8",
   "metadata": {},
   "outputs": [
    {
     "name": "stdout",
     "output_type": "stream",
     "text": [
      "rysuj: args=(1, 2, 3)\n",
      "x=1\n",
      "y=2\n",
      "kolor=3\n",
      "rysuj: args=()\n",
      "Nieporpawna ilosc argumentow: 0\n"
     ]
    }
   ],
   "source": [
    "# argc\n",
    "class Figura:\n",
    "    def rysuj(self, *args):\n",
    "        print(f\"rysuj: args={args}\")\n",
    "        # args[0] - x\n",
    "        # args[1] - y\n",
    "        # args[2] = kolor\n",
    "        if len(args) > 2:\n",
    "            print(f\"x={args[0]}\")\n",
    "            print(f\"y={args[1]}\")\n",
    "            print(f\"kolor={args[2]}\")\n",
    "        else:\n",
    "            print(f\"Nieporpawna ilosc argumentow: {len(args)}\")\n",
    "            \n",
    "        \n",
    "        \n",
    "        \n",
    "a = Figura()\n",
    "a.rysuj(1, 2, 3)\n",
    "a.rysuj()\n",
    "\n"
   ]
  },
  {
   "cell_type": "code",
   "execution_count": 77,
   "id": "cdbd9a02",
   "metadata": {},
   "outputs": [
    {
     "name": "stdout",
     "output_type": "stream",
     "text": [
      "rysuj: args=(100, 200, 300)\n",
      "x=100\n",
      "y=200\n",
      "kolor=300\n"
     ]
    }
   ],
   "source": [
    "x = [100, 200, 300]\n",
    "a.rysuj(*x)"
   ]
  },
  {
   "cell_type": "code",
   "execution_count": 87,
   "id": "044cf3e4",
   "metadata": {},
   "outputs": [
    {
     "name": "stdout",
     "output_type": "stream",
     "text": [
      "ustaw: kwargs={'x': 12, 'y': 13, 'kolor': 'red'}\n",
      "rysuj: x=12, y=13, kolor=red\n",
      "======================\n",
      "ustaw: kwargs={'x': 12, 'kolor': 'red'}\n",
      "rysuj: x=12, y=0, kolor=red\n",
      "======================\n",
      "ustaw: kwargs={'x': 12, 'foo': 21312, 'bar': 234324}\n",
      "rysuj: x=12, y=0, kolor=black\n"
     ]
    }
   ],
   "source": [
    "# kwargs\n",
    "class Figura:\n",
    "    def rysuj(self):\n",
    "        print(f\"rysuj: x={self.x}, y={self.y}, kolor={self.kolor}\")\n",
    "\n",
    "    def ustaw(self, **kwargs):\n",
    "        print(f\"ustaw: kwargs={kwargs}\")\n",
    "        if 'x' in kwargs:\n",
    "            self.x = kwargs['x']\n",
    "            \n",
    "        self.y = kwargs['y'] if 'y' in kwargs else 0\n",
    "        self.kolor = kwargs['kolor'] if 'kolor' in kwargs else 'black'\n",
    "        \n",
    "        \n",
    "a = Figura()\n",
    "a.ustaw(x=12, y=13, kolor='red')\n",
    "a.rysuj()\n",
    "print(\"======================\")\n",
    "a.ustaw(x=12, kolor='red')\n",
    "a.rysuj()\n",
    "print(\"======================\")\n",
    "a.ustaw(x=12, foo=21312, bar=234324)\n",
    "a.rysuj()\n",
    "\n"
   ]
  },
  {
   "cell_type": "code",
   "execution_count": 91,
   "id": "f926102c",
   "metadata": {},
   "outputs": [
    {
     "name": "stdout",
     "output_type": "stream",
     "text": [
      "ustaw: args=(13, 14) kwargs={'kolor': 'red', 'x': 12}\n",
      "rysuj: x=12, y=0, kolor=red\n"
     ]
    }
   ],
   "source": [
    "# args + kwargs\n",
    "class Figura:\n",
    "    def rysuj(self):\n",
    "        print(f\"rysuj: x={self.x}, y={self.y}, kolor={self.kolor}\")\n",
    "\n",
    "    def ustaw(self, *args, **kwargs):\n",
    "        print(f\"ustaw: args={args} kwargs={kwargs}\")\n",
    "        if 'x' in kwargs:\n",
    "            self.x = kwargs['x']\n",
    "            \n",
    "        self.y = kwargs['y'] if 'y' in kwargs else 0\n",
    "        self.kolor = kwargs['kolor'] if 'kolor' in kwargs else 'black'\n",
    "\n",
    "        \n",
    "        \n",
    "a = Figura()\n",
    "a.ustaw(13, 14, kolor='red', x=12)\n",
    "a.rysuj()\n",
    "\n"
   ]
  },
  {
   "cell_type": "markdown",
   "id": "95adf390",
   "metadata": {},
   "source": [
    "### [S] Praktyczne wykorzystanie `args` i `kwargs`\n",
    "Napisz klase `Kolekcja`\n",
    "Dodaj metode `dodaj` ktora:\n",
    "* przyjmuje jako argumenty liste elementow kolekcji\n",
    "* kopiuje te elementy do atrybutu klasy: `self.dane`\n",
    "* pozwala na podanie argumentu `duplikaty` ktory dla wartosci `True` pozwala na skopiowanie duplikatu na `self.dane`\n",
    "\n",
    "Przyklad:\n",
    "`k.dodaj(1, 2, 5, 7, 21, 33, 7, 11, 2, duplikaty=True)`"
   ]
  },
  {
   "cell_type": "code",
   "execution_count": 1,
   "id": "d81b663b",
   "metadata": {},
   "outputs": [
    {
     "name": "stdout",
     "output_type": "stream",
     "text": [
      "jest\n"
     ]
    }
   ],
   "source": [
    "# Hint: jak sprawdzic czy element znajduje sie na liscie\n",
    "d = [1,2,3,4,5]\n",
    "\n",
    "if 3 in d:\n",
    "    print(\"jest\")\n",
    "else:\n",
    "    print(\"nie ma\")"
   ]
  },
  {
   "cell_type": "code",
   "execution_count": 3,
   "id": "14daff7e",
   "metadata": {},
   "outputs": [],
   "source": [
    "class Kolekcja:\n",
    "     def dodaj(self, *args, **kwargs):\n",
    "        print(f\"dodaj: args={args}, kwargs={kwargs}\")\n",
    "        self.dane = args\n",
    "        if kwargs['duplikaty']==True:\n",
    "            print(f\"kolekcja z duplikatami: {self.dane}\")\n",
    "        else:\n",
    "            self.dane = set(self.dane)\n",
    "            print(f\"kolekcja bez duplikatow: {self.dane}\")\n",
    "            \n",
    "    \n",
    " \n",
    "k = Kolekcja()\n",
    "k.dodaj(1,2,3,4,5,6,4,3,duplikaty=False)\n"
   ]
  },
  {
   "cell_type": "code",
   "execution_count": null,
   "id": "f7473a88",
   "metadata": {},
   "outputs": [],
   "source": []
  },
  {
   "cell_type": "code",
   "execution_count": null,
   "id": "afd86d57",
   "metadata": {},
   "outputs": [],
   "source": []
  },
  {
   "cell_type": "markdown",
   "id": "enabling-blues",
   "metadata": {},
   "source": [
    "### Wywolanie metody z innej metody\n",
    "- dodajemy metode - przykladowa klasa Raport\n",
    "- dodajemy metode generuj() ktora wykorzysta inne metody: naglowek(), zawartosc(), stopka()"
   ]
  },
  {
   "cell_type": "code",
   "execution_count": 18,
   "id": "indirect-strap",
   "metadata": {},
   "outputs": [
    {
     "name": "stdout",
     "output_type": "stream",
     "text": [
      "Naglowek\n",
      "Zawartosc: dane=[213, 32234, 23423, 23432]\n",
      "Stopka\n"
     ]
    }
   ],
   "source": [
    "class Raport:\n",
    "    # private\n",
    "    def naglowek(self):\n",
    "        print(\"Naglowek\")\n",
    "        \n",
    "    def _zawartosc(self, dane):\n",
    "        print(f\"Zawartosc: dane={dane}\")\n",
    "        \n",
    "    # prywatna, nie jest dostepna na zewnatrz    \n",
    "    def __stopka(self):\n",
    "        print(\"Stopka\")\n",
    "        \n",
    "        \n",
    "    def generuj(self, dane):\n",
    "        self.naglowek()\n",
    "        self._zawartosc(dane)\n",
    "        self.__stopka()\n",
    "        \n",
    "    \n",
    "    \n",
    "r = Raport()\n",
    "r.generuj([213,32234,23423,23432])\n",
    "#r.__stopka()\n"
   ]
  },
  {
   "cell_type": "markdown",
   "id": "alpha-promise",
   "metadata": {},
   "source": [
    "### Definiujemy konstruktor dla naszej klasy: `__init__`\n",
    "- dodajemy `__init__`\n",
    "- przyklad bledu jak zapomnimy dodac self. inicjalizujac atrybuty\n",
    "- tworzymy kilka instancji z roznymi x,y i wyswietlamy\n",
    "- modyfikujemy atrybuty w obiektach w sposob:  `a.x=`  `a.y=`  i  wyswietlamy\n",
    "\n",
    "- dostep do atrybutow globalnych klasy z konstruktora: robimy licznik obiektow\n",
    "- destruktor klasy `__del__`"
   ]
  },
  {
   "cell_type": "code",
   "execution_count": 21,
   "id": "synthetic-racing",
   "metadata": {},
   "outputs": [
    {
     "name": "stdout",
     "output_type": "stream",
     "text": [
      "punkt={'x': 12, 'y': 323}\n",
      "punkt={'x': 0, 'y': 100}\n"
     ]
    }
   ],
   "source": [
    "class Punkt:\n",
    "    def __init__(self, ix=0 , iy=100):\n",
    "        self.x = ix\n",
    "        self.y = iy\n",
    "\n",
    "\n",
    "p = Punkt(12, 323)\n",
    "print(f\"punkt={p.__dict__}\")\n",
    "\n",
    "\n",
    "b = Punkt()\n",
    "print(f\"punkt={b.__dict__}\")\n"
   ]
  },
  {
   "cell_type": "code",
   "execution_count": 29,
   "id": "a7027024",
   "metadata": {},
   "outputs": [
    {
     "name": "stdout",
     "output_type": "stream",
     "text": [
      "type=<class 'type'>, calss=Punkt2 \n",
      "punkt={'x': 12, 'y': 323, 'kolor': 'green'}\n"
     ]
    }
   ],
   "source": [
    "class Punkt2:\n",
    "    bazowy_kolor = 'green'\n",
    "    \n",
    "    def __init__(self, ix=0 , iy=100, ikolor=None):\n",
    "        print(f\"type={type(__class__)}, calss={__class__.__name__} \")\n",
    "        self.x = ix\n",
    "        self.y = iy\n",
    "        if ikolor is None:\n",
    "            #self.kolor = Punkt.bazowy_kolor\n",
    "            self.kolor = __class__.bazowy_kolor\n",
    "        else:\n",
    "            self.kolor = ikolor\n",
    "\n",
    "\n",
    "p = Punkt2(12, 323)\n",
    "print(f\"punkt={p.__dict__}\")\n"
   ]
  },
  {
   "cell_type": "code",
   "execution_count": 34,
   "id": "4fda1f7c",
   "metadata": {},
   "outputs": [
    {
     "name": "stdout",
     "output_type": "stream",
     "text": [
      "Punkt.licznik_obiektow=0\n",
      "Punkt.licznik_obiektow=1\n",
      "punkt {'x': 10, 'y': 10, 'id': 0}\n",
      "punkt {'x': 10, 'y': 10, 'id': 7}\n",
      "Punkt.licznik_obiektow=8\n"
     ]
    }
   ],
   "source": [
    "class Punkt:\n",
    "    licznik_obiektow = 0\n",
    "    \n",
    "    def __init__(self, x=0, y=0):\n",
    "        self.x = x\n",
    "        self.y = y\n",
    "        self.id = __class__.licznik_obiektow\n",
    "        \n",
    "        __class__.licznik_obiektow += 1\n",
    "        \n",
    "print(f\"Punkt.licznik_obiektow={Punkt.licznik_obiektow}\")\n",
    "\n",
    "\n",
    "a = Punkt(10, 10)\n",
    "print(f\"Punkt.licznik_obiektow={Punkt.licznik_obiektow}\")\n",
    "print(f\"punkt {a.__dict__}\")\n",
    "\n",
    "x = [\n",
    "    Punkt(1,1),\n",
    "    Punkt(1,1),\n",
    "    Punkt(1,1),\n",
    "    Punkt(1,1),\n",
    "    Punkt(1,1),\n",
    "    Punkt(1,1)\n",
    "]\n",
    "\n",
    "b = Punkt(10, 10)\n",
    "print(f\"punkt {b.__dict__}\")\n",
    "\n",
    "print(f\"Punkt.licznik_obiektow={Punkt.licznik_obiektow}\")\n"
   ]
  },
  {
   "cell_type": "markdown",
   "id": "e1e1fea3",
   "metadata": {},
   "source": [
    "### Dodajemy destruktor dla naszej klasy `__del__`\n",
    "\n",
    "* rozbudowujemy nasz licznik instancji, zmniejszajac o 1 ilosc obiektow podczas destrukcji obiektu\n",
    "* kiedy nastepuje destrukcja obiektu?\n",
    "    * zakres widocznosci zmiennej\n",
    "    * jawne przypisanie do None"
   ]
  },
  {
   "cell_type": "code",
   "execution_count": 39,
   "id": "cb923d2a",
   "metadata": {},
   "outputs": [
    {
     "name": "stdout",
     "output_type": "stream",
     "text": [
      ">> __init__ 1, 1\n",
      "-------\n",
      ">> __del__ 1, 1\n",
      "przed wolaniem foo()\n",
      ">> foo\n",
      ">> __init__ 2, 2\n",
      "<< foo\n",
      ">> __del__ 2, 2\n",
      "po wolaniem foo()\n"
     ]
    }
   ],
   "source": [
    "class Punkt:\n",
    "    def __init__(self, x=0, y=0):\n",
    "        self.x = x\n",
    "        self.y = y\n",
    "        print(f\">> __init__ {self.x}, {self.y}\")\n",
    "\n",
    "    def __del__(self):\n",
    "        print(f\">> __del__ {self.x}, {self.y}\")\n",
    "        \n",
    "        \n",
    "a = Punkt(1,1)\n",
    "print(\"-------\")\n",
    "a = None\n",
    "\n",
    "def foo():\n",
    "    print(\">> foo\")\n",
    "    b = Punkt(2,2)\n",
    "    print(\"<< foo\")\n",
    "    \n",
    "print(\"przed wolaniem foo()\")\n",
    "foo()\n",
    "print(\"po wolaniem foo()\")\n"
   ]
  },
  {
   "cell_type": "code",
   "execution_count": 41,
   "id": "9f8619a7",
   "metadata": {},
   "outputs": [
    {
     "name": "stdout",
     "output_type": "stream",
     "text": [
      "Punkt.licznik_obiektow=0\n",
      "Punkt.licznik_obiektow=1\n",
      "punkt {'x': 10, 'y': 10, 'id': 0}\n",
      "Punkt.licznik_obiektow=7\n",
      "Punkt.licznik_obiektow=6\n",
      "Punkt.licznik_obiektow=0\n"
     ]
    }
   ],
   "source": [
    "class Punkt:\n",
    "    licznik_obiektow = 0\n",
    "    \n",
    "    def __init__(self, x=0, y=0):\n",
    "        self.x = x\n",
    "        self.y = y\n",
    "        self.id = __class__.licznik_obiektow\n",
    "        \n",
    "        __class__.licznik_obiektow += 1\n",
    "        \n",
    "    def __del__(self):\n",
    "        __class__.licznik_obiektow -= 1\n",
    "        \n",
    "        \n",
    "        \n",
    "        \n",
    "print(f\"Punkt.licznik_obiektow={Punkt.licznik_obiektow}\")\n",
    "\n",
    "\n",
    "a = Punkt(10, 10)\n",
    "print(f\"Punkt.licznik_obiektow={Punkt.licznik_obiektow}\")\n",
    "print(f\"punkt {a.__dict__}\")\n",
    "\n",
    "x = [\n",
    "    Punkt(1,1),\n",
    "    Punkt(1,1),\n",
    "    Punkt(1,1),\n",
    "    Punkt(1,1),\n",
    "    Punkt(1,1),\n",
    "    Punkt(1,1)\n",
    "]\n",
    "print(f\"Punkt.licznik_obiektow={Punkt.licznik_obiektow}\")\n",
    "\n",
    "a = None\n",
    "print(f\"Punkt.licznik_obiektow={Punkt.licznik_obiektow}\")\n",
    "\n",
    "x = None\n",
    "print(f\"Punkt.licznik_obiektow={Punkt.licznik_obiektow}\")\n"
   ]
  },
  {
   "cell_type": "markdown",
   "id": "b7566482",
   "metadata": {},
   "source": [
    "### Zmienna lista argumentow `args`, `kwargs` w konstruktorze obiektu\n",
    "* tworzymy klase Slowo ktora w konstruktorze przyjmie liste znakow z ktorych zbuduje slowo\n",
    "* w konstruktorze mozemy podac argument `kropka` ktory dla wartosci True doda znak `.` na koncu slowa\n",
    "* [S] w konstruktorze mozemy podac argument `zduzej` ktory dla wartosci True pierwsza litere slowa zapisze z wielkiej litery\n"
   ]
  },
  {
   "cell_type": "code",
   "execution_count": 59,
   "id": "83e80c25",
   "metadata": {},
   "outputs": [
    {
     "name": "stdout",
     "output_type": "stream",
     "text": [
      "Slowo.__init__: args=('a', 'l', 'a') kwargs={'kropka': True, 'zduzej': True} kropka=True, duza=True\n",
      "{'dane': 'Ala.'}\n"
     ]
    }
   ],
   "source": [
    "class Slowo:\n",
    "    def __init__(self, *args, **kwargs):\n",
    "        kropka = kwargs['kropka'] if 'kropka' in kwargs else False\n",
    "        duza = kwargs['zduzej'] if 'zduzej' in kwargs else False\n",
    "        print(f\"Slowo.__init__: args={args} kwargs={kwargs} kropka={kropka}, duza={duza}\")\n",
    "        \n",
    "        '''\n",
    "        sposob 1:\n",
    "        self.dane = \"\"\n",
    "        for l in args:\n",
    "            self.dane += l\n",
    "        '''\n",
    "        self.dane = \"\".join(args)\n",
    "        if kropka:\n",
    "            self.dane += '.'\n",
    "        \n",
    "        if duza:\n",
    "            self.dane = self.dane[0].upper() + self.dane[1:]\n",
    "        \n",
    "        \n",
    "        \n",
    "\n",
    "s = Slowo('a', 'l', 'a', kropka=True, zduzej=True)\n",
    "print(f\"{s.__dict__}\")\n"
   ]
  },
  {
   "cell_type": "code",
   "execution_count": 50,
   "id": "467e02ab",
   "metadata": {},
   "outputs": [
    {
     "data": {
      "text/plain": [
       "'A'"
      ]
     },
     "execution_count": 50,
     "metadata": {},
     "output_type": "execute_result"
    }
   ],
   "source": [
    "'a'.upper()"
   ]
  },
  {
   "cell_type": "code",
   "execution_count": null,
   "id": "ec3ae522",
   "metadata": {},
   "outputs": [],
   "source": []
  },
  {
   "cell_type": "markdown",
   "id": "competitive-broadway",
   "metadata": {},
   "source": [
    "### Inne specjalne metody w klasach\n",
    "- `__str__` - sprawdzamy jak mozna wyswietlic obiekt print'em\n",
    "- `__repr__` - przyklad z lista obiektow typu Punkt"
   ]
  },
  {
   "cell_type": "code",
   "execution_count": 74,
   "id": "balanced-beauty",
   "metadata": {},
   "outputs": [
    {
     "ename": "AttributeError",
     "evalue": "'Punkt' object has no attribute 'y'",
     "output_type": "error",
     "traceback": [
      "\u001b[1;31m---------------------------------------------------------------------------\u001b[0m",
      "\u001b[1;31mAttributeError\u001b[0m                            Traceback (most recent call last)",
      "Cell \u001b[1;32mIn[74], line 15\u001b[0m\n\u001b[0;32m     11\u001b[0m         \u001b[38;5;28;01mreturn\u001b[39;00m \u001b[38;5;28mself\u001b[39m\u001b[38;5;241m.\u001b[39m\u001b[38;5;21m__str__\u001b[39m()\n\u001b[0;32m     14\u001b[0m a \u001b[38;5;241m=\u001b[39m Punkt(\u001b[38;5;241m1\u001b[39m,\u001b[38;5;241m13\u001b[39m)\n\u001b[1;32m---> 15\u001b[0m \u001b[38;5;28mprint\u001b[39m(\u001b[38;5;124mf\u001b[39m\u001b[38;5;124m\"\u001b[39m\u001b[38;5;124ma=\u001b[39m\u001b[38;5;132;01m{\u001b[39;00ma\u001b[38;5;132;01m}\u001b[39;00m\u001b[38;5;124m\"\u001b[39m)\n",
      "Cell \u001b[1;32mIn[74], line 8\u001b[0m, in \u001b[0;36mPunkt.__str__\u001b[1;34m(self)\u001b[0m\n\u001b[0;32m      6\u001b[0m \u001b[38;5;28;01mdef\u001b[39;00m \u001b[38;5;21m__str__\u001b[39m(\u001b[38;5;28mself\u001b[39m):\n\u001b[0;32m      7\u001b[0m \u001b[38;5;250m    \u001b[39m\u001b[38;5;124;03m''' must return object of type str '''\u001b[39;00m\n\u001b[1;32m----> 8\u001b[0m     \u001b[38;5;28;01mreturn\u001b[39;00m \u001b[38;5;124mf\u001b[39m\u001b[38;5;124m\"\u001b[39m\u001b[38;5;132;01m{\u001b[39;00m\u001b[38;5;18m__class__\u001b[39m\u001b[38;5;241m.\u001b[39m\u001b[38;5;18m__name__\u001b[39m\u001b[38;5;132;01m}\u001b[39;00m\u001b[38;5;124m(\u001b[39m\u001b[38;5;132;01m{\u001b[39;00m\u001b[38;5;28mself\u001b[39m\u001b[38;5;241m.\u001b[39mx\u001b[38;5;132;01m}\u001b[39;00m\u001b[38;5;124m, \u001b[39m\u001b[38;5;132;01m{\u001b[39;00m\u001b[38;5;28;43mself\u001b[39;49m\u001b[38;5;241;43m.\u001b[39;49m\u001b[43my\u001b[49m\u001b[38;5;132;01m}\u001b[39;00m\u001b[38;5;124m)\u001b[39m\u001b[38;5;124m\"\u001b[39m\n",
      "\u001b[1;31mAttributeError\u001b[0m: 'Punkt' object has no attribute 'y'"
     ]
    }
   ],
   "source": [
    "class Punkt:\n",
    "    def __init__(self, x, y):\n",
    "        self.x = x\n",
    "        self.y = y\n",
    "        \n",
    "    def __str__(self):\n",
    "        ''' must return object of type str '''\n",
    "        return f\"{__class__.__name__}({self.x}, {self.y})\"\n",
    "    \n",
    "    def __repr__(self):\n",
    "        return self.__str__()\n",
    "        \n",
    "        \n",
    "a = Punkt(1,13)\n",
    "print(f\"a={a}\")\n",
    "\n"
   ]
  },
  {
   "cell_type": "code",
   "execution_count": 73,
   "id": "c93eb79c",
   "metadata": {},
   "outputs": [
    {
     "name": "stdout",
     "output_type": "stream",
     "text": [
      "kolekcja punktow: [Punkt(1, 1), Punkt(2, 1), Punkt(3, 1), Punkt(4, 1)]\n"
     ]
    }
   ],
   "source": [
    "x = [\n",
    "    Punkt(1,1),\n",
    "    Punkt(2,1),\n",
    "    Punkt(3,1),\n",
    "    Punkt(4,1)    \n",
    "]\n",
    "\n",
    "print(f\"kolekcja punktow: {x}\")"
   ]
  },
  {
   "cell_type": "markdown",
   "id": "5bc6cc1e",
   "metadata": {},
   "source": [
    "### [S] Napisz klase Trojkat\n",
    "* w konstruktorze klasy przekazujemy 2 argumenty:  a - podstawa, h - wysokowc\n",
    "* dodaj metode ktora wyswietli informacje o obiekcie w postaci:\n",
    "\n",
    "`Trojkat a=..., h=...`"
   ]
  },
  {
   "cell_type": "code",
   "execution_count": null,
   "id": "0e76484a",
   "metadata": {},
   "outputs": [],
   "source": [
    "# ... tutaj twoja klasa\n",
    "    \n",
    "t=Trojkat(12, 12)\n",
    "print(t)\n",
    "\n",
    "x = [\n",
    "    Trojkat(1,2),\n",
    "    Trojkat(1,3),\n",
    "    Trojkat(1,4)    \n",
    "]\n",
    "print(x)"
   ]
  },
  {
   "cell_type": "markdown",
   "id": "010fecd1",
   "metadata": {},
   "source": [
    "- `__eq__` - sprawdzamy ze teraz a == b jak x i y sa identyczne. \n",
    "    - sprawdz porownanie z innym typem, np: Okrag(x,y,r). Dodaj kod ktory spowoduje ze takie porownanie zwroci False nawet jak wartosci x i y beda takie same w obu obiektach"
   ]
  },
  {
   "cell_type": "code",
   "execution_count": 89,
   "id": "acdf5438",
   "metadata": {},
   "outputs": [
    {
     "name": "stdout",
     "output_type": "stream",
     "text": [
      "id(b)=2782868174288\n",
      ">Punkt.__eq__: type(b)=<class '__main__.Punkt'> id(b)=2782868174288\n"
     ]
    },
    {
     "data": {
      "text/plain": [
       "True"
      ]
     },
     "execution_count": 89,
     "metadata": {},
     "output_type": "execute_result"
    }
   ],
   "source": [
    "class Punkt:\n",
    "    def __init__(self, x, y):\n",
    "        self.x = x\n",
    "        self.y = y\n",
    "\n",
    "    def __eq__(self, b):\n",
    "        print(f\">Punkt.__eq__: type(b)={type(b)} id(b)={id(b)}\")\n",
    "        \n",
    "        if type(b) != type(self):\n",
    "            return False\n",
    "        \n",
    "        if self.x == b.x and self.y == b.y:\n",
    "            return True\n",
    "        else:\n",
    "            return False\n",
    "        \n",
    "a = Punkt(1,1)\n",
    "b = Punkt(1,1)\n",
    "print(f\"id(b)={id(b)}\")\n",
    "\n",
    "a == b\n",
    "# a.__eq__(b)"
   ]
  },
  {
   "cell_type": "code",
   "execution_count": 90,
   "id": "958c470e",
   "metadata": {},
   "outputs": [
    {
     "name": "stdout",
     "output_type": "stream",
     "text": [
      ">Punkt.__eq__: type(b)=<class '__main__.Okrag'> id(b)=2782869140432\n",
      "False\n"
     ]
    }
   ],
   "source": [
    "class Okrag:\n",
    "    def __init__(self, x, y, r):\n",
    "        self.x = x\n",
    "        self.y = y\n",
    "        self.r = r\n",
    "        \n",
    "o = Okrag(1,1, 10)\n",
    "print(a == o)\n",
    "\n"
   ]
  },
  {
   "cell_type": "markdown",
   "id": "7d49e3b2",
   "metadata": {},
   "source": [
    "`__ne__`"
   ]
  },
  {
   "cell_type": "code",
   "execution_count": 99,
   "id": "d7a64f90",
   "metadata": {},
   "outputs": [
    {
     "name": "stdout",
     "output_type": "stream",
     "text": [
      ">Punkt.__ne__: type(b)=<class '__main__.Punkt'> id(b)=2782867855312\n",
      ">Punkt.__eq__: type(b)=<class '__main__.Punkt'> id(b)=2782867855312\n",
      "True\n"
     ]
    }
   ],
   "source": [
    "class Punkt:\n",
    "    def __init__(self, x, y):\n",
    "        self.x = x\n",
    "        self.y = y\n",
    "\n",
    "    def __eq__(self, b):\n",
    "        print(f\">Punkt.__eq__: type(b)={type(b)} id(b)={id(b)}\")\n",
    "        \n",
    "        if type(b) != type(self):\n",
    "            return False\n",
    "        \n",
    "        if self.x == b.x and self.y == b.y:\n",
    "            return True\n",
    "        else:\n",
    "            return False\n",
    "\n",
    "    def __ne__(self, b):\n",
    "        print(f\">Punkt.__ne__: type(b)={type(b)} id(b)={id(b)}\")\n",
    "        return not self == b # return not self.__eq__(b)\n",
    "        \n",
    "        \n",
    "a = Punkt(2,1)\n",
    "b = Punkt(1,1)\n",
    "\n",
    "print(a != b)\n"
   ]
  },
  {
   "cell_type": "markdown",
   "id": "a0d0bc61",
   "metadata": {},
   "source": [
    "* `__lt__` < - tworzymy liste punktow i sortjemy. udowodnic ze sortowanie uzywa naszego operatora\n",
    "*  `__gt__` >\n"
   ]
  },
  {
   "cell_type": "code",
   "execution_count": 114,
   "id": "886bb079",
   "metadata": {},
   "outputs": [
    {
     "name": "stdout",
     "output_type": "stream",
     "text": [
      ">Punkt:__lt__: b=Punkt({'x': 2, 'y': 2})\n"
     ]
    },
    {
     "data": {
      "text/plain": [
       "True"
      ]
     },
     "execution_count": 114,
     "metadata": {},
     "output_type": "execute_result"
    }
   ],
   "source": [
    "class Punkt:\n",
    "    def __init__(self, x, y):\n",
    "        self.x = x\n",
    "        self.y = y\n",
    "        \n",
    "    def __str__(self):\n",
    "        return f\"{__class__.__name__}({self.__dict__})\"\n",
    "        \n",
    "    def __repr__(self):\n",
    "        return self.__str__()\n",
    "        \n",
    "    def __lt__(self, b):\n",
    "        print(f\">Punkt:__lt__: b={b}\")\n",
    "        if type(self) != type(b):\n",
    "            return False\n",
    "        \n",
    "        if self.x < b.x:\n",
    "            return True\n",
    "        else:\n",
    "            return False\n",
    "\n",
    "    def __gt__(self, b):\n",
    "        return not (self.__lt__(b))\n",
    "        \n",
    "        \n",
    "a = Punkt(2,1)\n",
    "b = Punkt(2,2)\n",
    "\n",
    "#o = Okrag(3, 1, 10)\n",
    "#a < o\n",
    "\n",
    "a > b"
   ]
  },
  {
   "cell_type": "code",
   "execution_count": 113,
   "id": "457c0d45",
   "metadata": {},
   "outputs": [
    {
     "name": "stdout",
     "output_type": "stream",
     "text": [
      ">Punkt:__lt__: b=Punkt(1, 1)\n",
      ">Punkt:__lt__: b=Punkt(10, 1)\n",
      ">Punkt:__lt__: b=Punkt(10, 1)\n",
      ">Punkt:__lt__: b=Punkt(1, 1)\n",
      ">Punkt:__lt__: b=Punkt(3, 1)\n",
      ">Punkt:__lt__: b=Punkt(10, 1)\n",
      ">Punkt:__lt__: b=Punkt(5, 1)\n",
      ">Punkt:__lt__: b=Punkt(10, 1)\n",
      "[Punkt(1, 1), Punkt(3, 1), Punkt(5, 1), Punkt(7, 1), Punkt(10, 1)]\n"
     ]
    }
   ],
   "source": [
    "lp = [\n",
    "    Punkt(1, 1),\n",
    "    Punkt(10, 1),\n",
    "    Punkt(3, 1),\n",
    "    Punkt(5, 1),\n",
    "    Punkt(7, 1)   \n",
    "]\n",
    "\n",
    "print(sorted(lp))"
   ]
  },
  {
   "cell_type": "markdown",
   "id": "818c066b",
   "metadata": {},
   "source": [
    "- `__len__` - podaje wielkosc kolekcji"
   ]
  },
  {
   "cell_type": "code",
   "execution_count": 119,
   "id": "00990687",
   "metadata": {},
   "outputs": [
    {
     "name": "stdout",
     "output_type": "stream",
     "text": [
      ">>Slowo.__len__\n",
      "4\n"
     ]
    }
   ],
   "source": [
    "class Slowo:\n",
    "    def __init__(self, *args):\n",
    "        self.dane = \"\".join(args)\n",
    "\n",
    "    def __len__(self):\n",
    "        print(f\">>Slowo.__len__\")\n",
    "        return len(self.dane)\n",
    "    \n",
    "\n",
    "x = Slowo('a','b','c', 'x')\n",
    "print(len(x))"
   ]
  },
  {
   "cell_type": "markdown",
   "id": "3903120d",
   "metadata": {},
   "source": [
    "- `__call__`- tworzymy klase ktora mozna wywolac jak funkcje\n",
    "    - https://docs.python.org/3/reference/datamodel.html#emulating-callable-objects\n",
    "    - klasa Skaluj(skala)\n",
    "    - funkcja ktora przetwarza dane z listy i jako argument przyjmuje funkcje manipuljaca elementem\n",
    " "
   ]
  },
  {
   "cell_type": "code",
   "execution_count": 135,
   "id": "29667e14",
   "metadata": {},
   "outputs": [
    {
     "name": "stdout",
     "output_type": "stream",
     "text": [
      "2000\n",
      "1000\n"
     ]
    }
   ],
   "source": [
    "class Skaluj:\n",
    "    def __init__(self, faktor):\n",
    "        self.faktor = faktor\n",
    "\n",
    "    def __call__(self, liczba):\n",
    "        #print(f\"Skaluj.__call__({liczba})\")\n",
    "        return liczba * self.faktor\n",
    "\n",
    "skalowanie_x_20 = Skaluj(20)\n",
    "skalowanie_x_10 = Skaluj(10)\n",
    "\n",
    "\n",
    "print(skalowanie_x_20(100))\n",
    "print(skalowanie_x_10(100))\n"
   ]
  },
  {
   "cell_type": "code",
   "execution_count": 137,
   "id": "3c37b86a",
   "metadata": {},
   "outputs": [
    {
     "name": "stdout",
     "output_type": "stream",
     "text": [
      "[20, 40, 160, 660, 220, 60, 440, 260, 0, 40, 220, 1400, 160, 60, 100, 680, 1840, 1020]\n",
      "[1, 33, 11, 3, 13, 11, 3, 5, 51]\n"
     ]
    }
   ],
   "source": [
    "dane = [1, 2, 8, 33, 11, 3, 22, 13, 0, 2, 11, 70, 8, 3, 5, 34, 92, 51]\n",
    "\n",
    "def przetwarzejDane(kol, oper):\n",
    "    out = []\n",
    "    if oper:\n",
    "        for itm in kol:\n",
    "            new = oper(itm)\n",
    "            if not new is None:\n",
    "                out.append(new)\n",
    "    return out\n",
    "\n",
    "def usun_parzyste(el):\n",
    "    if el % 2 == 0:\n",
    "        return None\n",
    "    return el\n",
    "\n",
    "print(przetwarzejDane(dane, skalowanie_x_20))\n",
    "print(przetwarzejDane(dane, usun_parzyste))\n"
   ]
  },
  {
   "cell_type": "markdown",
   "id": "23bf03d9",
   "metadata": {},
   "source": [
    "- `__getitem__` - odczytanie atrybutu w klasie uzywajac nazwy atrybutu\n",
    "    - https://docs.python.org/3/reference/datamodel.html#emulating-callable-objects\n",
    "    - Called to implement evaluation of `self[key]`.\n",
    "    - uzyj dowolnej nazwy np: \"moj-x\" zeby odczytac wartosc atrybutu `x`\n"
   ]
  },
  {
   "cell_type": "code",
   "execution_count": 153,
   "id": "6017d9b4",
   "metadata": {},
   "outputs": [
    {
     "name": "stdout",
     "output_type": "stream",
     "text": [
      ">__getitem__(2)\n",
      "10\n"
     ]
    }
   ],
   "source": [
    "class Punkt:\n",
    "    def __init__(self, x, y):\n",
    "        self.x = x\n",
    "        self.y = y\n",
    "      \n",
    "    def __getitem__(self, idx):\n",
    "        print(f\">__getitem__({idx})\")\n",
    "        if idx == 1:\n",
    "            return self.x\n",
    "        if idx == 2:\n",
    "            return self.y\n",
    "        print(f\"Blad. {idx} nie jest atrybutem klasy\")\n",
    "\n",
    "    \n",
    "a = Punkt(1,10)\n",
    "print(a[2])\n",
    "\n"
   ]
  },
  {
   "cell_type": "markdown",
   "id": "5d82e9f7",
   "metadata": {},
   "source": [
    "- `__setitem__`- ustawiamy atrybut w klasie uzywajac jego nazwy\n",
    "    - Called to implement assignment to `self[key]`.\n",
    "    * podobnie jak w poprzednim przykladzie, uzyj dowolnej nazwy np: 'moj-x' zeby ustawic wartosc dla atrybutu `x` w klasie Punkt\n"
   ]
  },
  {
   "cell_type": "code",
   "execution_count": 160,
   "id": "e19ffac7",
   "metadata": {},
   "outputs": [
    {
     "name": "stdout",
     "output_type": "stream",
     "text": [
      "a:{'x': 1, 'y': 10}\n",
      ">__setitem__(1, 100)\n",
      ">__setitem__(2, 222)\n",
      "a:{'x': 100, 'y': 222}\n",
      ">__setitem__(3, 333)\n",
      "Blad. 3 nie jest atrybutem klasy\n"
     ]
    }
   ],
   "source": [
    "class Punkt:\n",
    "    def __init__(self, x, y):\n",
    "        self.x = x\n",
    "        self.y = y\n",
    "      \n",
    "    # __getitem__ zwraca wartosc elementu\n",
    "    def __getitem__(self, idx):\n",
    "        print(f\">__getitem__({idx})\")\n",
    "        if idx == 1:\n",
    "            return self.x\n",
    "        if idx == 2:\n",
    "            return self.y\n",
    "        print(f\"Blad. {idx} nie jest atrybutem klasy\")\n",
    "\n",
    "    # nie zwraca wartosci - nie musimy robic return\n",
    "    def __setitem__(self, idx, v):\n",
    "        print(f\">__setitem__({idx}, {v})\")\n",
    "        if idx == 1:\n",
    "            self.x = v\n",
    "        elif idx == 2:\n",
    "            self.y = v\n",
    "        else:\n",
    "            print(f\"Blad. {idx} nie jest atrybutem klasy\")\n",
    "        \n",
    "    \n",
    "a = Punkt(1,10)\n",
    "print(f\"a:{a.__dict__}\")\n",
    "\n",
    "# ustaw x\n",
    "a[1] = 100\n",
    "# ustaw y\n",
    "a[2] = 222\n",
    "print(f\"a:{a.__dict__}\")\n",
    "\n",
    "a[3] = 333"
   ]
  },
  {
   "cell_type": "markdown",
   "id": "b7b9d31a",
   "metadata": {},
   "source": [
    "* pierwszy argument w `__getitem__`, `__setitem__` moze byc liczba (indexem - jak w tablicy). Mozna zmieniac wartosci atrybutow w klasie uzywajac indexu "
   ]
  },
  {
   "cell_type": "code",
   "execution_count": 161,
   "id": "bcad9b15",
   "metadata": {},
   "outputs": [
    {
     "name": "stdout",
     "output_type": "stream",
     "text": [
      ">__getitem__(x)\n",
      "a['x']=1\n",
      "a:{'x': 1, 'y': 10}\n",
      ">__setitem__(x, 100)\n",
      ">__setitem__(y, 222)\n",
      "a:{'x': 100, 'y': 222}\n",
      ">__setitem__(foo, 333)\n",
      "Blad. foo nie jest atrybutem klasy\n"
     ]
    }
   ],
   "source": [
    "class Punkt:\n",
    "    def __init__(self, x, y):\n",
    "        self.x = x\n",
    "        self.y = y\n",
    "      \n",
    "    # __getitem__ zwraca wartosc elementu\n",
    "    def __getitem__(self, n):\n",
    "        print(f\">__getitem__({n})\")\n",
    "        if n == 'x':\n",
    "            return self.x\n",
    "        if n == 'y':\n",
    "            return self.y\n",
    "        print(f\"Blad. {n} nie jest atrybutem klasy\")\n",
    "\n",
    "    # nie zwraca wartosci - nie musimy robic return\n",
    "    def __setitem__(self, n, v):\n",
    "        print(f\">__setitem__({n}, {v})\")\n",
    "        if n == 'x':\n",
    "            self.x = v\n",
    "        elif n == 'y':\n",
    "            self.y = v\n",
    "        else:\n",
    "            print(f\"Blad. {n} nie jest atrybutem klasy\")\n",
    "        \n",
    "\n",
    "a = Punkt(1,10)\n",
    "print(f\"a['x']={a['x']}\")  #a.__getitem__('x')\n",
    "print(f\"a:{a.__dict__}\")\n",
    "\n",
    "# ustaw x\n",
    "a['x'] = 100  #   # a.__setitem__('x', 100)\n",
    "# ustaw y\n",
    "a['y'] = 222  #\n",
    "\n",
    "print(f\"a:{a.__dict__}\")\n",
    "\n",
    "a['foo'] = 333"
   ]
  },
  {
   "cell_type": "markdown",
   "id": "906b0ca4",
   "metadata": {},
   "source": [
    "- `__setattr__` - dostosowanie/kontrola dostepu do atrybutu w klasie. Metoda wykonuje sie podczas wywolania `self.x = ...`\n",
    "    - https://docs.python.org/3/reference/datamodel.html#customizing-attribute-access\n",
    "    - Przyklad: blokujemy mozliwosc dynamicznego dodawania argumentow. Jako ciekawostka: mozna uzyc tez `__slots__`"
   ]
  },
  {
   "cell_type": "code",
   "execution_count": 173,
   "id": "9d73aff9",
   "metadata": {},
   "outputs": [
    {
     "name": "stdout",
     "output_type": "stream",
     "text": [
      ">__setattr__: n=x, v=1\n",
      ">__setattr__: n=y, v=1\n",
      "--------\n",
      ">__setattr__: n=x, v=123\n",
      ">__setattr__: n=kolor, v=red\n",
      "'Punkt' object has no attribute 'kolor'\n",
      "a:{'x': 123, 'y': 1}\n"
     ]
    }
   ],
   "source": [
    "class Punkt:\n",
    "    def __init__(self, x, y):\n",
    "        self.x = x\n",
    "        self.y = y\n",
    "\n",
    "    def __setattr__(self, n, v):\n",
    "        print(f\">__setattr__: n={n}, v={v}\")\n",
    "        if n == 'x' or n == 'y':\n",
    "            self.__dict__[n] = v\n",
    "        else:\n",
    "            print(f\"'{__class__.__name__}' object has no attribute '{n}'\")\n",
    "            \n",
    "\n",
    "a = Punkt(1,1)\n",
    "print(\"--------\")\n",
    "a.x = 123    # a.__setattr__('x', 123)\n",
    "a.kolor = 'red'\n",
    "\n",
    "print(f\"a:{a.__dict__}\")"
   ]
  },
  {
   "cell_type": "code",
   "execution_count": 172,
   "id": "0549880c",
   "metadata": {},
   "outputs": [
    {
     "ename": "AttributeError",
     "evalue": "'str' object has no attribute 'kolor'",
     "output_type": "error",
     "traceback": [
      "\u001b[1;31m---------------------------------------------------------------------------\u001b[0m",
      "\u001b[1;31mAttributeError\u001b[0m                            Traceback (most recent call last)",
      "Cell \u001b[1;32mIn[172], line 2\u001b[0m\n\u001b[0;32m      1\u001b[0m x \u001b[38;5;241m=\u001b[39m \u001b[38;5;124m'\u001b[39m\u001b[38;5;124mala\u001b[39m\u001b[38;5;124m'\u001b[39m\n\u001b[1;32m----> 2\u001b[0m \u001b[43mx\u001b[49m\u001b[38;5;241;43m.\u001b[39;49m\u001b[43mkolor\u001b[49m \u001b[38;5;241m=\u001b[39m \u001b[38;5;124m'\u001b[39m\u001b[38;5;124mred\u001b[39m\u001b[38;5;124m'\u001b[39m\n",
      "\u001b[1;31mAttributeError\u001b[0m: 'str' object has no attribute 'kolor'"
     ]
    }
   ],
   "source": [
    "x = 'ala'\n",
    "x.kolor = 'red'"
   ]
  },
  {
   "cell_type": "markdown",
   "id": "83c08eef",
   "metadata": {},
   "source": [
    "### Operatory dla operacji numerycznych\n",
    "- https://docs.python.org/3/reference/datamodel.html#emulating-numeric-types\n",
    "- `__add__`, `__sub__`, `__mul__` - operatory `+`, `-`, `*`\n",
    "- `__iadd__` - operator `+=` \n",
    "- `__lshift__`, `__rshift__` - operatory `<<` oraz `>>`\n",
    "- zobacz inne mozliwosci: https://micropyramid.com/blog/python-special-class-methods-or-magic-methods/"
   ]
  },
  {
   "cell_type": "code",
   "execution_count": 197,
   "id": "bfe51ec2",
   "metadata": {
    "scrolled": true
   },
   "outputs": [
    {
     "name": "stdout",
     "output_type": "stream",
     "text": [
      "20\n",
      "+ 20+30=50  type(b)=<class '__main__.Liczba'>\n",
      "+ 20-10=10  type(c)=<class '__main__.Liczba'>\n",
      "+ 20*10=200  type(d)=<class '__main__.Liczba'>\n",
      "+=10: 30   type(a) =<class '__main__.Liczba'>\n",
      "+ 30<<2 =120  type(e)=<class '__main__.Liczba'>\n",
      "+ 30>>1 =15  type(f)=<class '__main__.Liczba'>\n"
     ]
    }
   ],
   "source": [
    "class Liczba:\n",
    "    def __init__(self, val):\n",
    "        self.val = val\n",
    "        \n",
    "    def __str__(self):\n",
    "        return f\"{self.val}\"\n",
    "     \n",
    "    def __add__(self, v):\n",
    "        # sprawdz jakigo typu jest v\n",
    "        return Liczba(self.val + v) \n",
    "\n",
    "    def __sub__(self, v):\n",
    "        return Liczba(self.val - v) \n",
    "    \n",
    "    def __mul__(self, v):\n",
    "        return Liczba(self.val * v) \n",
    "\n",
    "    def __iadd__(self, v):\n",
    "        self.val += v\n",
    "        return self\n",
    "    \n",
    "    def __lshift__(self, bits):\n",
    "        return Liczba( self.val << bits )\n",
    "\n",
    "    def __rshift__(self, bits):\n",
    "        return Liczba( self.val >> bits )\n",
    "\n",
    "    \n",
    "a = Liczba(20)\n",
    "print(a)\n",
    "        \n",
    "b = a + 30   # b = a.__add__(30)\n",
    "print(f\"+ {a}+30={b}  type(b)={type(b)}\")\n",
    "    \n",
    "c = a - 10   # c = a.__sub__(10)\n",
    "print(f\"+ {a}-10={c}  type(c)={type(c)}\")\n",
    "\n",
    "d = a * 10   # d = a.__mul__(10)\n",
    "print(f\"+ {a}*10={d}  type(d)={type(d)}\")\n",
    "\n",
    "a += 10  # a = a + 10:   a.__iadd__(10)\n",
    "print(f\"+=10: {a}   type(a) ={type(a)}\")\n",
    "\n",
    "e = a << 2\n",
    "print(f\"+ {a}<<2 ={e}  type(e)={type(e)}\")\n",
    "\n",
    "f = a >> 1\n",
    "print(f\"+ {a}>>1 ={f}  type(f)={type(f)}\")\n"
   ]
  },
  {
   "cell_type": "code",
   "execution_count": null,
   "id": "4df93f41",
   "metadata": {},
   "outputs": [],
   "source": []
  },
  {
   "cell_type": "markdown",
   "id": "b478aa81",
   "metadata": {},
   "source": [
    "- `__contains__` - sprawdza czy element istnieje w kolekcji:  np  if 'key' in tablica"
   ]
  },
  {
   "cell_type": "code",
   "execution_count": 201,
   "id": "9ed794bd",
   "metadata": {},
   "outputs": [
    {
     "name": "stdout",
     "output_type": "stream",
     "text": [
      "Punkt(2, 1)\n",
      "Punkt(2, 1) nie nalezy do prostej\n"
     ]
    }
   ],
   "source": [
    "class Punkt:\n",
    "    def __init__(self, x, y):\n",
    "        self.x = x\n",
    "        self.y = y\n",
    "        \n",
    "    def __str__(self):\n",
    "        return f\"{__class__.__name__}({self.x}, {self.y})\"\n",
    "    \n",
    "# y = ax + b\n",
    "class Prosta:\n",
    "    def __init__(self, a, b):\n",
    "        self.a = a\n",
    "        self.b = b\n",
    "        \n",
    "    def __contains__(self, p):\n",
    "        # sprawdz czy p to jest Punkt\n",
    "        if p.y == self.a * p.x + self.b:\n",
    "            return True\n",
    "        return False\n",
    "    \n",
    "    \n",
    "p = Punkt(2,1)\n",
    "print(p)\n",
    "\n",
    "# y = x\n",
    "prosta = Prosta(1, 0)\n",
    "if p in prosta:\n",
    "    print (f\"{p} nalezy do prostej\")\n",
    "else:\n",
    "    print (f\"{p} nie nalezy do prostej\")\n",
    "    "
   ]
  },
  {
   "cell_type": "markdown",
   "id": "smart-analysis",
   "metadata": {},
   "source": [
    "### Dokumentujemy klase\n",
    "- dodajemy docstringi do klasy, i metod\n",
    "- sprawdzamy klase help()'em \n"
   ]
  },
  {
   "cell_type": "code",
   "execution_count": 212,
   "id": "incorrect-roller",
   "metadata": {},
   "outputs": [],
   "source": [
    "class Punkt:\n",
    "    '''\n",
    "    To jest moja klasa Punkt ...\n",
    "    ...\n",
    "    \n",
    "     linijek helpa\n",
    "    \n",
    "    '''\n",
    "    def __init__(self, x, y):\n",
    "        '''\n",
    "        kontruktor\n",
    "        x - .....\n",
    "        y - ....\n",
    "        \n",
    "        \n",
    "        '''\n",
    "        self.x = x\n",
    "        self.y = y\n",
    "        \n",
    "    def przesun(self, dx, dy):\n",
    "        '''\n",
    "        to jest moja metoda przesuwajaca punkt o wektor\n",
    "        dx - ....\n",
    "        dy - ...\n",
    "        \n",
    "        '''\n",
    "        pass\n",
    "\n"
   ]
  },
  {
   "cell_type": "code",
   "execution_count": null,
   "id": "2d50eab3",
   "metadata": {},
   "outputs": [],
   "source": []
  },
  {
   "cell_type": "code",
   "execution_count": 213,
   "id": "5ea8c207",
   "metadata": {},
   "outputs": [
    {
     "name": "stdout",
     "output_type": "stream",
     "text": [
      "Help on class Punkt in module __main__:\n",
      "\n",
      "class Punkt(builtins.object)\n",
      " |  Punkt(x, y)\n",
      " |  \n",
      " |  To jest moja klasa Punkt ...\n",
      " |  ...\n",
      " |  \n",
      " |   linijek helpa\n",
      " |  \n",
      " |  Methods defined here:\n",
      " |  \n",
      " |  __init__(self, x, y)\n",
      " |      kontruktor\n",
      " |      x - .....\n",
      " |      y - ....\n",
      " |  \n",
      " |  przesun(self, dx, dy)\n",
      " |      to jest moja metoda przesuwajaca punkt o wektor\n",
      " |      dx - ....\n",
      " |      dy - ...\n",
      " |  \n",
      " |  ----------------------------------------------------------------------\n",
      " |  Data descriptors defined here:\n",
      " |  \n",
      " |  __dict__\n",
      " |      dictionary for instance variables (if defined)\n",
      " |  \n",
      " |  __weakref__\n",
      " |      list of weak references to the object (if defined)\n",
      "\n"
     ]
    }
   ],
   "source": [
    "help(Punkt)"
   ]
  },
  {
   "cell_type": "markdown",
   "id": "7594d120",
   "metadata": {},
   "source": [
    "### Cwiczenie podsumowujace\n",
    "\n",
    "Napisz klase `Tablica`, ktora \n",
    "- bedzie przechowywac liste unikalnych obiektow (np uzywajac atrybut: self.dane = [])\n",
    "- tworzac obiekt, chce podawac w konstruktorze poczatkowa liste elementow. Duplikaty z listy powinny byc usuniete:  \n",
    " - `t = Tablica(1, 2, 3, 2, 1)`  powinno utworzyc kolekcje z takimi elementami:  `<1, 2, 3>`    \n",
    " - szczegolny przypadek:  `t = Tablica()`  tworzy pusta kolekcje.\n",
    "- wolajac `print(f\"{t}\")` chce zeby elementy wyswietlily sie w postaci:  `< 1, 2, 3, .. >`  (tak samo jak lista, tylko < > )\n",
    "- wolajac `len(t)`  chce sprawdzic wielkosc mojej kolekcji\n",
    "- chcialbym moc porownac dwie kolekcje:  `tab1 < tab2`  - chce porownywac rozmiar kolekcji \n",
    "- chcialbym sprawdzic czy dwie kolekcje sa identyczne:  `tab1 == tab2`   - obie tablice maja ten sam rozmiar i te same elementy na tych samych pozycjach  <1, 2, 3> == <1, 2, 3>   ale  <1, 2, 3> != <2, 1, 3>\n",
    "- chcialbym moc odwolywac sie do elementow tablicy uzywajac `[ ]`: np.  `tab[1] = 10`  albo   print(tab[3])\n",
    "- chcialbym moc dodawac nowy element do kolekcji, jesli nie istnieje, w taki sposob:  `tab << 13`\n",
    "- chcialbym usuwac element z kolekcji, jesli istnieje,  uzywajac:  `tab >> 13`\n",
    "- chcialbym moc sprawdzic czy jakis element istnieje w kolekcji uzywajac operatora `in`:   `if 13 in tab:`\n",
    "- chcialbym moc dodac 2 kolekcje, tworzac nowa zawierajaca sume elementow z obu kolekcji. Zduplikowane elementy sa pomijane:  `<1, 2, 3>  +  <2, 5, 6>` ->  `<1, 2, 3, 5, 6>` \n",
    "\n",
    "\n"
   ]
  },
  {
   "cell_type": "code",
   "execution_count": 9,
   "id": "b37feb30",
   "metadata": {},
   "outputs": [],
   "source": [
    "# hint: jak pozbyc sie duplikatow z listy\n",
    "x = [1,2,7, 3,1,2,3, 4,5]\n"
   ]
  },
  {
   "cell_type": "code",
   "execution_count": 58,
   "id": "deadly-couple",
   "metadata": {},
   "outputs": [],
   "source": [
    "class Tablica:\n",
    "    def __init__(self, *args):\n",
    "        self.dane = []\n",
    "        for x in args:\n",
    "            if x in self.dane:\n",
    "                continue\n",
    "            self.dane.append(x)\n",
    "            \n",
    "    def __str__(self):\n",
    "        out = \"<\"\n",
    "        for el in self.dane:\n",
    "            out += str(el) + \",\"\n",
    "        out = out[:-1] + \">\"\n",
    "        return out\n",
    "    \n",
    "    def __repr__(self):\n",
    "        return \"<\" + \",\".join([str(x) for x in self.dane]) + '>'\n",
    "    \n",
    "    def __len__(self):\n",
    "        return len(self.dane)\n",
    "    \n",
    "    def __lt__(self, v):\n",
    "        return len(self) < len(v)\n",
    "    \n",
    "    def __eq__(self, col):\n",
    "        # sprawdzenie czy col jest odpowiedniego typu\n",
    "        if type(col) != type(self):\n",
    "            return False\n",
    "        \n",
    "        if len(self) != len(col):\n",
    "            return False\n",
    "        \n",
    "        return self.dane == col.dane\n",
    "        \n",
    "        \n",
    "        '''\n",
    "        for el in self.dane:\n",
    "            if el not in col.dane:\n",
    "                return False\n",
    "            \n",
    "        return True\n",
    "        '''\n",
    "    \n",
    "    def __getitem__(self, idx):\n",
    "        return self.dane[idx]\n",
    "    \n",
    "    def __setitem__(self, idx, val):\n",
    "        self.dane[idx] = val\n",
    "    \n",
    "    \n",
    "    def __lshift__(self, val):\n",
    "        if val not in self.dane:\n",
    "            self.dane.append(val)\n",
    "    \n",
    "    def __rshift__(self, val):\n",
    "        if val in self.dane:\n",
    "            self.dane.remove(val)\n",
    "            \n",
    "    def __contains__(self, val):\n",
    "        if val in self.dane:\n",
    "            return True\n",
    "        return False\n",
    "        # return val in self.dane\n",
    "    \n",
    "    def __add__(self, col):\n",
    "        wynik = Tablica(*self.dane) # gleboka kopia obiektu self\n",
    "        \n",
    "        for el in col:\n",
    "            wynik << el\n",
    "            \n",
    "        return wynik\n"
   ]
  },
  {
   "cell_type": "code",
   "execution_count": null,
   "id": "bbd4c14f",
   "metadata": {},
   "outputs": [],
   "source": []
  },
  {
   "cell_type": "code",
   "execution_count": 59,
   "id": "expressed-glenn",
   "metadata": {},
   "outputs": [
    {
     "name": "stdout",
     "output_type": "stream",
     "text": [
      "<1,2,3,4,5>\n",
      "len=5\n",
      "tab < tab2\n",
      "tab == tab3\n",
      "tab[1]=13\n",
      "<1,13,3,4,5>\n",
      "<1,3,4,5,15>\n",
      "15 jest w <1,3,4,5,15>\n",
      "<1,3,4,5,15,2,6,7> = <1,3,4,5,15> + <1,2,3,4,5,6,7>\n"
     ]
    }
   ],
   "source": [
    "tab = Tablica(1,2,3,4,5,2,3,1)\n",
    "print(tab)\n",
    "\n",
    "print(f\"len={len(tab)}\")\n",
    "\n",
    "# __lt__\n",
    "tab2 = Tablica(1,2,3,4,5,6,7)\n",
    "if tab < tab2:\n",
    "    print(\"tab < tab2\")\n",
    "else:\n",
    "    print(\"tab > tab2\")\n",
    "\n",
    "# __eq__    \n",
    "tab3 = Tablica(1,2,3,4,5)\n",
    "if tab == tab3:\n",
    "    print(\"tab == tab3\")\n",
    "else:\n",
    "    print(\"tab != tab3\")\n",
    "\n",
    "# __getitem__, __setitem__\n",
    "tab[1] = 13\n",
    "print(f\"tab[1]={tab[1]}\")\n",
    "print(tab)\n",
    "    \n",
    "    \n",
    "# __lshift__, __rshift__\n",
    "tab << 15\n",
    "tab >> 13\n",
    "print(tab)\n",
    "\n",
    "#__contains__\n",
    "if 15 in tab:\n",
    "    print(f\"15 jest w {tab}\")\n",
    "else:\n",
    "    print(f\"15 nie znajduje sie w {tab}\")\n",
    "    \n",
    "# __add__\n",
    "tab4 = tab + tab2\n",
    "print(f\"{tab4} = {tab} + {tab2}\")"
   ]
  },
  {
   "cell_type": "code",
   "execution_count": null,
   "id": "million-breath",
   "metadata": {},
   "outputs": [],
   "source": [
    "\n"
   ]
  },
  {
   "cell_type": "code",
   "execution_count": null,
   "id": "consolidated-transparency",
   "metadata": {},
   "outputs": [],
   "source": []
  }
 ],
 "metadata": {
  "kernelspec": {
   "display_name": "Python 3 (ipykernel)",
   "language": "python",
   "name": "python3"
  },
  "language_info": {
   "codemirror_mode": {
    "name": "ipython",
    "version": 3
   },
   "file_extension": ".py",
   "mimetype": "text/x-python",
   "name": "python",
   "nbconvert_exporter": "python",
   "pygments_lexer": "ipython3",
   "version": "3.11.3"
  }
 },
 "nbformat": 4,
 "nbformat_minor": 5
}
