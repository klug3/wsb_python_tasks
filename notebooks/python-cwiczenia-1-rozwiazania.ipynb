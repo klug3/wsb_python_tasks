{
 "cells": [
  {
   "cell_type": "markdown",
   "id": "several-method",
   "metadata": {},
   "source": [
    "Python3 / Ćwiczenia 1\n",
    "=======\n",
    "\n",
    "# Zmienne"
   ]
  },
  {
   "cell_type": "code",
   "execution_count": 9,
   "id": "demanding-defense",
   "metadata": {},
   "outputs": [
    {
     "name": "stdout",
     "output_type": "stream",
     "text": [
      "100\n",
      "0.5\n",
      "True\n",
      "tekst\n"
     ]
    }
   ],
   "source": [
    "# wstaw liczbę calkowitą\n",
    "i = 100\n",
    "\n",
    "# wstaw liczbę zmiennoprzecinkową\n",
    "f =  0.5\n",
    "\n",
    "# wstaw text\n",
    "s = 'tekst'\n",
    "\n",
    "# wstaw prawda/falsz\n",
    "b = True\n",
    "\n",
    "print(i)\n",
    "print(f)\n",
    "print(b)\n",
    "print(s)"
   ]
  },
  {
   "cell_type": "code",
   "execution_count": 23,
   "id": "important-stuff",
   "metadata": {},
   "outputs": [
    {
     "name": "stdout",
     "output_type": "stream",
     "text": [
      "100\n",
      "20\n"
     ]
    }
   ],
   "source": [
    "# wypisz na ekran wartość bezwzględną liczby\n",
    "\n",
    "a = 100\n",
    "b = -20\n",
    "\n",
    "print(abs(a))\n",
    "print(abs(b))"
   ]
  },
  {
   "cell_type": "code",
   "execution_count": 24,
   "id": "3aaed17e",
   "metadata": {},
   "outputs": [
    {
     "name": "stdout",
     "output_type": "stream",
     "text": [
      "100 100 100 100 100.0\n"
     ]
    }
   ],
   "source": [
    "def wb1(x):\n",
    "    if x > 0:\n",
    "        return x\n",
    "    return -x\n",
    "\n",
    "def wb2(x):\n",
    "    return x if x > 0 else -x\n",
    "\n",
    "def wb3(x):\n",
    "    return x * (-1 if x < 0 else 1)\n",
    "\n",
    "def wb4(x):\n",
    "    import math\n",
    "    return math.sqrt(x**2)\n",
    "\n",
    "print(wb1(a),wb1(a),wb2(a),wb3(a),wb4(a))\n"
   ]
  },
  {
   "cell_type": "code",
   "execution_count": 11,
   "id": "dutch-victoria",
   "metadata": {},
   "outputs": [
    {
     "name": "stdout",
     "output_type": "stream",
     "text": [
      "70\n"
     ]
    }
   ],
   "source": [
    "# wypisz sumę trzech podanych liczb a, b, c\n",
    "\n",
    "# a, b, c = 10, 20, 30\n",
    "a = 10\n",
    "b = 20\n",
    "c = 40\n",
    "print(a + b + c)"
   ]
  },
  {
   "cell_type": "code",
   "execution_count": 31,
   "id": "083422ef",
   "metadata": {},
   "outputs": [
    {
     "name": "stdout",
     "output_type": "stream",
     "text": [
      "1*x^2 + 0*x + 0\n",
      " ma 1 rozwiazanie\n",
      "-1*x^2 + 0*x + 1\n",
      " ma 2 rozwiazania\n",
      "1*x^2 + 1*x + 1\n",
      " nie ma rozwiazań\n"
     ]
    }
   ],
   "source": [
    "# sprawdz czy podane liczby \n",
    "# a*x^2 + b*x + c = 0 maja 1 rozwiązanie (wykorzystaj deltę)\n",
    "\n",
    "def oblicz_delta(a, b, c):\n",
    "    return (b*b) - (4*a*c)\n",
    "\n",
    "def rozwiazania(a, b, c):\n",
    "    print(\"%d*x^2 + %d*x + %d\" % (a, b, c))\n",
    "    delta = oblicz_delta(a, b, c)\n",
    "    if delta == 0:\n",
    "        print(' ma 1 rozwiazanie')\n",
    "    elif delta > 0:\n",
    "        print(' ma 2 rozwiazania')\n",
    "    else:\n",
    "        print(' nie ma rozwiazań')\n",
    "\n",
    "rozwiazania(1, 0, 0)  # x^2\n",
    "rozwiazania(-1, 0, 1) # -x^2 + 1\n",
    "rozwiazania(1, 1, 1)  # X^2 + x + 1"
   ]
  },
  {
   "cell_type": "code",
   "execution_count": 33,
   "id": "a269d0ad",
   "metadata": {},
   "outputs": [
    {
     "name": "stdout",
     "output_type": "stream",
     "text": [
      "True\n",
      "False\n",
      "False\n"
     ]
    }
   ],
   "source": [
    "def czy_jedno_rozwiazanie(a, b, c):\n",
    "    return oblicz_delta(a, b, c) == 0\n",
    "\n",
    "print(czy_jedno_rozwiazanie(1, 0, 0))  # x^2\n",
    "print(czy_jedno_rozwiazanie(1, 0, -1)) # x^2 - 1\n",
    "print(czy_jedno_rozwiazanie(1, 1, 1))  # X^2 + x + 1"
   ]
  },
  {
   "cell_type": "code",
   "execution_count": 41,
   "id": "experienced-mailman",
   "metadata": {},
   "outputs": [
    {
     "name": "stdout",
     "output_type": "stream",
     "text": [
      "True\n",
      "True\n",
      "True\n"
     ]
    }
   ],
   "source": [
    "# napisz funkcje obliczającą średnią arytmentyczną dwóch liczb\n",
    "\n",
    "def srednia(x, y):\n",
    "    return (x + y) / 2\n",
    "#     return x + y / 2 #jest bledne\n",
    "    \n",
    "# sprawdzenie\n",
    "print(srednia(2, 2) == 2)\n",
    "print(srednia(0, 0) == 0)\n",
    "print(srednia(1.0, 2.0) == 1.5)"
   ]
  },
  {
   "cell_type": "code",
   "execution_count": 47,
   "id": "incomplete-compatibility",
   "metadata": {},
   "outputs": [
    {
     "name": "stdout",
     "output_type": "stream",
     "text": [
      "True\n",
      "True\n",
      "True\n",
      "True\n",
      "True\n",
      "False\n"
     ]
    }
   ],
   "source": [
    "# napisz funkcję, ktora zwraca True, gdy oba argumenty są True\n",
    "\n",
    "def prawda(x, y):\n",
    "#     return x and y\n",
    "#     return x == True and y == True\n",
    "#     return x == y and x == True\n",
    "#     return isinstance(x, bool) and isinstance(y, bool) and x == True and y == True\n",
    "    return str(x).lower() == 'true' and str(y).lower() == 'true'\n",
    "    \n",
    "# sprawdzenie\n",
    "print(prawda(True, True) == True)\n",
    "print(not prawda(True, False) == True)\n",
    "print(not prawda(False, False) == True)\n",
    "print(prawda('True', True))\n",
    "print(prawda('true', True))\n",
    "print(prawda('False', True))\n"
   ]
  },
  {
   "cell_type": "code",
   "execution_count": 54,
   "id": "guilty-senate",
   "metadata": {},
   "outputs": [
    {
     "name": "stdout",
     "output_type": "stream",
     "text": [
      "True\n",
      "True\n",
      "True\n",
      "True\n"
     ]
    }
   ],
   "source": [
    "# napisz funkcję, która zwraca logiczne XOR (wylacznie gdy jeden element jest True)\n",
    "\n",
    "def xor2(x, y):\n",
    "    \"\"\"zwraca True jesli wylacznie jeden element jest True\"\"\"\n",
    "    return (x or y) and not (x == y)\n",
    "\n",
    "# sprawdzenie\n",
    "print(xor2(True, True) == False)\n",
    "print(xor2(True, False) == True)\n",
    "print(xor2(False, True) == True)\n",
    "print(xor2(False, False) == False) "
   ]
  },
  {
   "cell_type": "code",
   "execution_count": 53,
   "id": "6a92e06c",
   "metadata": {},
   "outputs": [
    {
     "name": "stdout",
     "output_type": "stream",
     "text": [
      "True\n",
      "True\n"
     ]
    }
   ],
   "source": [
    "# napisz funkcje sprawdzajacą czy liczba jest kwadratem liczby calkowitej (np. 4=2*2)\n",
    "import math\n",
    "\n",
    "def jest_kwadratem(a):\n",
    "    \n",
    "#     return int(math.sqrt(a))**2 == a\n",
    "#     return math.sqrt(a) % 1 == 0\n",
    "\n",
    "    for i in range(a+1):\n",
    "        if i*i == a:\n",
    "            return True\n",
    "    return False\n",
    "\n",
    "# sprawdzenie\n",
    "print(jest_kwadratem(1) == True)\n",
    "print(jest_kwadratem(5) == False)"
   ]
  },
  {
   "cell_type": "markdown",
   "id": "brief-perfume",
   "metadata": {},
   "source": [
    "# Napisy"
   ]
  },
  {
   "cell_type": "code",
   "execution_count": 68,
   "id": "incorporated-julian",
   "metadata": {},
   "outputs": [
    {
     "name": "stdout",
     "output_type": "stream",
     "text": [
      "14\n"
     ]
    }
   ],
   "source": [
    "text = ' Ala ma kota. '\n",
    "\n",
    "# oblicz dlugosc textu\n",
    "dlugosc = len(text)\n",
    "print(dlugosc)"
   ]
  },
  {
   "cell_type": "code",
   "execution_count": 69,
   "id": "88429b8a",
   "metadata": {},
   "outputs": [],
   "source": [
    "# zamien text odpowiednio na małe litery, duże litery, usuń spacje\n",
    "male = text.lower()\n",
    "duze = text.upper()\n",
    "bez_spacji = text.replace(' ', '')"
   ]
  },
  {
   "cell_type": "code",
   "execution_count": 70,
   "id": "f6862334",
   "metadata": {},
   "outputs": [
    {
     "name": "stdout",
     "output_type": "stream",
     "text": [
      "ala ma psa.\n"
     ]
    }
   ],
   "source": [
    "# zamien slowo 'kota' na 'psa'\n",
    "nowy_text = \"ala ma kota.\".replace('kota', 'psa')\n",
    "print(nowy_text)"
   ]
  },
  {
   "cell_type": "code",
   "execution_count": 92,
   "id": "tropical-minutes",
   "metadata": {},
   "outputs": [
    {
     "name": "stdout",
     "output_type": "stream",
     "text": [
      "True\n",
      "True\n",
      "True\n",
      "True\n",
      "nowy_text:ala ma psa. bez_spacji:Alamakota. male: ala ma kota. \n",
      "male: ala ma kota.  bez_spacji:Alamakota.\n"
     ]
    }
   ],
   "source": [
    "# sprawdzenie\n",
    "print(dlugosc == 14)\n",
    "print(male == ' ala ma kota. ')\n",
    "print(bez_spacji == 'Alamakota.')\n",
    "print('kota' not in nowy_text)\n",
    "\n",
    "print(f\"nowy_text:{nowy_text} bez_spacji:{bez_spacji} male:{text.lower()}\")\n",
    "print(\"male:{male} bez_spacji:{bezspacji}\".format(male=male, bezspacji=bez_spacji))"
   ]
  },
  {
   "cell_type": "code",
   "execution_count": 116,
   "id": "circular-disposition",
   "metadata": {},
   "outputs": [],
   "source": [
    "# napisz funkcje obliczającą dlugość tekstu (w oparciu o for lub while)\n",
    "def size(txt):\n",
    "    i = 0\n",
    "    while True:\n",
    "        try:\n",
    "            print(txt[i])\n",
    "        except (IndexError):\n",
    "            break\n",
    "        i += 1\n",
    "    return i"
   ]
  },
  {
   "cell_type": "code",
   "execution_count": 119,
   "id": "96a7635c",
   "metadata": {},
   "outputs": [
    {
     "name": "stdout",
     "output_type": "stream",
     "text": [
      "True\n",
      "a\n",
      "True\n",
      "a\n",
      "b\n",
      "c\n",
      "d\n",
      "True\n"
     ]
    }
   ],
   "source": [
    "# sprawdzenie\n",
    "print(size('') == 0)\n",
    "print(size('a') == 1)\n",
    "print(size ('abcd') == 4)"
   ]
  },
  {
   "cell_type": "code",
   "execution_count": 120,
   "id": "massive-reducing",
   "metadata": {},
   "outputs": [
    {
     "name": "stdout",
     "output_type": "stream",
     "text": [
      "True\n",
      "True\n",
      "True\n",
      "True\n"
     ]
    }
   ],
   "source": [
    "# napisz funkcję sprawdzającą czy dane znak jest w tekscie\n",
    "\n",
    "def basic_jest(txt, znak):\n",
    "    return znak in txt\n",
    "    \n",
    "    # return txt.count(znak) > 0\n",
    "\n",
    "def jest(txt, znak):\n",
    "    #return znak in txt\n",
    "    for z in txt:\n",
    "        if z == znak:\n",
    "            return True\n",
    "    return False\n",
    "    \n",
    "def jest_c_like(txt, znak):\n",
    "    for i in range(0, len(txt)):\n",
    "        if txt[i] == znak:\n",
    "            return True\n",
    "    return False\n",
    "             \n",
    "print(jest('abcd', 'a'))\n",
    "print(jest('abcd', 'z') == False)\n",
    "\n",
    "print(jest_c_like('abcd', 'a'))\n",
    "print(jest_c_like('abcd', 'z') == False)"
   ]
  },
  {
   "cell_type": "markdown",
   "id": "empty-burst",
   "metadata": {},
   "source": [
    "# Napisy wielolinijkowe"
   ]
  },
  {
   "cell_type": "code",
   "execution_count": 130,
   "id": "usual-integration",
   "metadata": {},
   "outputs": [
    {
     "name": "stdout",
     "output_type": "stream",
     "text": [
      "\n",
      "text1\n",
      "text2\n",
      "\n"
     ]
    }
   ],
   "source": [
    "# utworz napis conajmniej 2 wierszowy skladajacy sie z kilku słów\n",
    "\n",
    "text = '''\n",
    "text1\n",
    "text2\n",
    "'''\n",
    "print(text)"
   ]
  },
  {
   "cell_type": "code",
   "execution_count": 131,
   "id": "nervous-situation",
   "metadata": {},
   "outputs": [
    {
     "name": "stdout",
     "output_type": "stream",
     "text": [
      "True\n",
      "True\n"
     ]
    }
   ],
   "source": [
    "# sprawdzenie\n",
    "print(len(text.split('\\n')) > 1)\n",
    "print(len(text.split()) > 1)"
   ]
  },
  {
   "cell_type": "code",
   "execution_count": 150,
   "id": "smaller-spectrum",
   "metadata": {},
   "outputs": [],
   "source": [
    "lorem = \"\"\"lorem ipsum dolor sit amet, consectetur adipiscing elit. \n",
    "phasellus bibendum lacinia nisl vel eleifend. Integer ac arcu est.\n",
    "Mauris eget gravida odio. Donec posuere sodales elit.\n",
    "Mauris nibh est, porttitor id sapien quis, mattis finibus dolor. \n",
    "Maecenas sit amet eros eget mi rutrum mattis sit amet sed purus.\n",
    "Ut mollis, ipsum a aliquet facilisis, libero quam ultricies nunc, eu rhoncus tellus dolor in orci.\"\"\"\n",
    "\n",
    "# oblicz ile jest wystapien dolor\n",
    "ilosc_dolor = lorem.count('dolor')\n",
    "\n",
    "# odwroc kolejnosc znakow w tekscie lorem\n",
    "odwrocone = lorem[::-1]\n",
    "\n",
    "# wybierz 1sze slowo\n",
    "slowo = lorem.split()[0]\n",
    "\n",
    "# wybierz ostatnie slowo\n",
    "ostatnie = lorem.split()[-1]\n",
    "\n",
    "# utworz liste zdan, ktore rozdzielone sa '.'\n",
    "zdania = lorem.split('.')\n",
    "\n",
    "# odwroc kolejnosc zdan\n",
    "odwrocone_zdania = zdania[::-1]"
   ]
  },
  {
   "cell_type": "code",
   "execution_count": 151,
   "id": "mobile-cruise",
   "metadata": {},
   "outputs": [
    {
     "name": "stdout",
     "output_type": "stream",
     "text": [
      "True\n",
      "False\n",
      "False\n",
      "True\n",
      "True\n",
      "['', '\\nUt mollis, ipsum a aliquet facilisis, libero quam ultricies nunc, eu rhoncus tellus dolor in orci', ' \\nMaecenas sit amet eros eget mi rutrum mattis sit amet sed purus', '\\nMauris nibh est, porttitor id sapien quis, mattis finibus dolor', ' Donec posuere sodales elit', '\\nMauris eget gravida odio', ' Integer ac arcu est', ' \\nphasellus bibendum lacinia nisl vel eleifend', 'lorem ipsum dolor sit amet, consectetur adipiscing elit']\n",
      "False\n"
     ]
    }
   ],
   "source": [
    "# sprawdzenie\n",
    "print(ilosc_dolor == 3)\n",
    "print(odwrocone.split()[-1] == \"meroL\")\n",
    "print(slowo == 'Lorem')\n",
    "print(ostatnie == \"orci.\") \n",
    "print(len(zdania) == 9)\n",
    "print(odwrocone_zdania)\n",
    "print(odwrocone_zdania[-1] == \"Lorem ipsum dolor sit amet, consectetur adipiscing elit\")"
   ]
  },
  {
   "cell_type": "code",
   "execution_count": 153,
   "id": "9d4b6bab",
   "metadata": {},
   "outputs": [
    {
     "name": "stdout",
     "output_type": "stream",
     "text": [
      "Lorem Ipsum Dolor Sit Amet, Consectetur Adipiscing Elit\n",
      "Phasellus Bibendum Lacinia Nisl Vel Eleifend\n",
      "Integer Ac Arcu Est\n",
      "Mauris Eget Gravida Odio\n",
      "Donec Posuere Sodales Elit\n",
      "Mauris Nibh Est, Porttitor Id Sapien Quis, Mattis Finibus Dolor\n",
      "Maecenas Sit Amet Eros Eget Mi Rutrum Mattis Sit Amet Sed Purus\n",
      "Ut Mollis, Ipsum A Aliquet Facilisis, Libero Quam Ultricies Nunc, Eu Rhoncus Tellus Dolor In Orci\n",
      "\n"
     ]
    }
   ],
   "source": [
    "zdania = lorem.split('.')\n",
    "zdania = [zdanie.strip().title() for zdanie in zdania]\n",
    "print(\"\\n\".join(zdania))"
   ]
  },
  {
   "cell_type": "code",
   "execution_count": null,
   "id": "824ca955",
   "metadata": {},
   "outputs": [],
   "source": []
  }
 ],
 "metadata": {
  "kernelspec": {
   "display_name": "Python 3 (ipykernel)",
   "language": "python",
   "name": "python3"
  },
  "language_info": {
   "codemirror_mode": {
    "name": "ipython",
    "version": 3
   },
   "file_extension": ".py",
   "mimetype": "text/x-python",
   "name": "python",
   "nbconvert_exporter": "python",
   "pygments_lexer": "ipython3",
   "version": "3.11.2"
  }
 },
 "nbformat": 4,
 "nbformat_minor": 5
}
