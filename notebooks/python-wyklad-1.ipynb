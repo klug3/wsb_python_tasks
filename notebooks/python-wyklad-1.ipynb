{
 "cells": [
  {
   "cell_type": "markdown",
   "id": "0b2f1ab8",
   "metadata": {},
   "source": [
    "![](https://www.python.org/static/community_logos/python-logo-master-v3-TM.png)"
   ]
  },
  {
   "cell_type": "markdown",
   "id": "23b8f379",
   "metadata": {},
   "source": [
    "# Programowanie w języku Python (część pierwsza)\n",
    "* Krzysztof Geściak [krzysztof.gesciak@nokia.com]"
   ]
  },
  {
   "cell_type": "markdown",
   "id": "d85d0e5c",
   "metadata": {},
   "source": [
    "# Spis Treści"
   ]
  },
  {
   "cell_type": "markdown",
   "id": "58631dfd",
   "metadata": {},
   "source": [
    "1. Python - wprowadzenie\n",
    "1. Podstawowa składnia języka (słowa kluczowe, instrukcje sterujące)\n",
    "1. Podstawowe typy danych \n",
    "1. Operatory\n",
    "1. Napisy\n",
    "1. Funkcje, wprowadzenie\n",
    "1. Podstawowe struktury danych \n",
    "1. Iteracje\n",
    "1. Funkcje, zakresy, argumenty\n",
    "1. Pliki i deskryptory\n",
    "1. Moduły"
   ]
  },
  {
   "cell_type": "markdown",
   "id": "fc9fcc2d",
   "metadata": {},
   "source": [
    "## Przydatne materiały"
   ]
  },
  {
   "cell_type": "markdown",
   "id": "f0bb2083",
   "metadata": {},
   "source": [
    "\n",
    "|Url                       |Opis                   |\n",
    "|--------------------------|-----------------------|\n",
    "|Official Python Web       | http://www.python.org/ |\n",
    "|Official Documentation    | http://docs.python.org/3/ |\n",
    "|Official Tutorial         | https://docs.python.org/3/tutorial/index.html |\n",
    "|Quick Reference           | https://perso.limsi.fr/pointal/_media/python:cours:mementopython3-english.pdf |\n",
    "|Learn Python              | http://www.learnpython.org/pl/ |\n",
    "|Learn Python the Hard Way | http://learnpythonthehardway.org/book/ |\n",
    "|Dive Into Python          | https://diveintopython3.problemsolving.io/ |\n"
   ]
  },
  {
   "cell_type": "markdown",
   "id": "1494cf67",
   "metadata": {},
   "source": [
    "# Python"
   ]
  },
  {
   "cell_type": "markdown",
   "id": "efc80a22",
   "metadata": {},
   "source": [
    "* język programowania wysokiego poziomu ogólnego przeznaczenia\n",
    "* jeden z najbardziej popularnych języków programowania\n",
    "* język skryptowy (interpretowany)\n",
    "    * nie wymaga kompilacji ale wymaga środowiska uruchomieniowego (interpreter pythona)\n",
    "* posiada „naturalną”, przejrzystą i zwięzłą składnię oparta o polecenia języka angielskiego\n",
    "* wspiera różne paradygmaty programowania\n",
    "    * strukturalny/imperatywny\n",
    "    * obiektowy\n",
    "    * oraz w mniejszym stopniu funkcyjny\n",
    "* posiada dynamiczny system typów\n",
    "* posiada automatyczne zarządzanie pamięcią\n",
    "* jest dostępny na wielu systemach operacyjnych (Windows, Linux, macOS)\n",
    "* standardową implementacją jest CPython (napisany w C)\n",
    "    * istnieją również wersje w Jython (Java), CLPython (Common List), IronPyton (.NET)\n"
   ]
  },
  {
   "cell_type": "markdown",
   "id": "60399ce3",
   "metadata": {},
   "source": [
    "## Popularność Pythona"
   ]
  },
  {
   "cell_type": "markdown",
   "id": "114397c1",
   "metadata": {},
   "source": [
    " * https://www.tiobe.com/tiobe-index/python/\n",
    " ![https://www.tiobe.com/tiobe-index/python/](png/python-tiobe.png)\n",
    " * https://stackoverflow.blog/2017/09/06/incredible-growth-python/\n",
    " |Wzrost|Projekcje|\n",
    " |-|-|\n",
    " |![Wzrost](png/growth_major_languages.png) | ![Projekcje](png/projections.png)|"
   ]
  },
  {
   "cell_type": "markdown",
   "id": "a6880135",
   "metadata": {},
   "source": [
    "## Gdzie jest używany Python\n",
    "* Google, Dropbox, Spotify, Netflix, Facebook, Instagram, Yahoo, Quora, Pinterest, Disqus.\n",
    "* At Google, python is one of the 3 \"official languages\" alongside with C++ and Java. \n",
    "    * Official here means that Googlers are allowed to deploy these languages to production services. (Internally Google people use many technologies including PHP, C#, Ruby and Perl). \n",
    "    * Python is well suited to the engineering process at Google. \n"
   ]
  },
  {
   "cell_type": "markdown",
   "id": "f84bd551",
   "metadata": {},
   "source": [
    "## Python2 czy Python3"
   ]
  },
  {
   "cell_type": "markdown",
   "id": "9ba75ef3",
   "metadata": {},
   "source": [
    "* Python został stworzony w 1990 by Guido van Rossum.\n",
    "* Python 2.0 został wydany w 2000 roku. \n",
    "    * Ostatnią wersją jest 2.7.18 z kwietnia 2020 roku.\n",
    "    * Python2.0, nie jest rozwijany od 2021 roku.\n",
    "* Python 3.0 został wydany w 2008. \n",
    "    * Python3 został stworzony aby usunąć problemy istniejące w wersji Python2.\n",
    "    * Python3 nie jest kompatybilny z wersją 2 ale część funkcjonalności została przeniesiona do wersji 2 aby uprościć migrację.\n"
   ]
  },
  {
   "cell_type": "markdown",
   "id": "9a4c35fb",
   "metadata": {},
   "source": [
    "|% of Stack Overflow questions|Major differences|\n",
    "|-|-|\n",
    "|![Python2 vs Python3](png/python2-python3-01.png)|![Python2 vs Python3](png/python2-python3-02.png)|"
   ]
  },
  {
   "cell_type": "markdown",
   "id": "d09015c9",
   "metadata": {},
   "source": [
    "# Interpreter Python'a"
   ]
  },
  {
   "cell_type": "markdown",
   "id": "5c1f76b3",
   "metadata": {},
   "source": [
    "| kompilator| interpreter|\n",
    "|-|-|\n",
    "![](png/kompilator.png)| ![](png/interpreter.png)|"
   ]
  },
  {
   "cell_type": "markdown",
   "id": "614e317c",
   "metadata": {},
   "source": [
    "# Składnia języka Python"
   ]
  },
  {
   "cell_type": "code",
   "execution_count": null,
   "id": "f774b444",
   "metadata": {},
   "outputs": [],
   "source": [
    "# komentarz"
   ]
  },
  {
   "cell_type": "code",
   "execution_count": null,
   "id": "2af75154",
   "metadata": {},
   "outputs": [],
   "source": [
    "# assing value to variable\n",
    "tekst = \"Dzien dobry\"               \n",
    "\n",
    "# print on screen\n",
    "print(tekst)"
   ]
  },
  {
   "cell_type": "code",
   "execution_count": null,
   "id": "c8b20c46",
   "metadata": {},
   "outputs": [],
   "source": [
    "def oblicz_pole(a,b):                   # define function              \n",
    "    \"\"\"calculate rectangle field\"\"\"     # documentation string\n",
    "    # pole prostokata                   # comment\n",
    "    return a * b                        # return value"
   ]
  },
  {
   "cell_type": "code",
   "execution_count": null,
   "id": "f50921de",
   "metadata": {},
   "outputs": [],
   "source": [
    "# calculate the field value\n",
    "pole = oblicz_pole(2,3)                 \n",
    "\n",
    "# print on screen\n",
    "print(\"pole=%d\" % pole)                                                 "
   ]
  },
  {
   "cell_type": "markdown",
   "id": "e3a9e79f",
   "metadata": {},
   "source": [
    "## Przykład - Równanie kwadratowe"
   ]
  },
  {
   "cell_type": "markdown",
   "id": "884c6791",
   "metadata": {},
   "source": [
    "Algorytm obliczenia pierwiastków równania kwadratowego:\n",
    "\n",
    "1. oblicz deltę\n",
    "    1. jeżeli delta < 0 to brak rozwiązań\n",
    "    1. jeżeli delta > 0 to dwa rozwiązania (x1, x2)\n",
    "    1. jeżeli delta = 0 to jedno rozwiązanie (x)\n",
    "\n",
    "![](png/funkcja-kwadratowa.png)"
   ]
  },
  {
   "cell_type": "markdown",
   "id": "1080558b",
   "metadata": {},
   "source": [
    "### Przykładowe rozwiązanie (javascript vs python)"
   ]
  },
  {
   "cell_type": "markdown",
   "id": "8cbb67f8",
   "metadata": {},
   "source": [
    "|Javascript|Python|\n",
    "|-|-|\n",
    "|![](png/rownanie-js.png)|![](png/rownanie-py.png)|"
   ]
  },
  {
   "cell_type": "code",
   "execution_count": null,
   "id": "b084ca97",
   "metadata": {},
   "outputs": [],
   "source": [
    "#!/usr/bin/env python3\n",
    "import math\n",
    "\n",
    "def delta(a, b, c):\n",
    "    \"\"\" calculate delta b^2 - 4ac\"\"\"\n",
    "    return (b * b) - (4 * a * c)\n",
    "\n",
    "def solutions(a, b, c):\n",
    "    \"\"\"calculate solutions\"\"\"\n",
    "\n",
    "    d = delta(a, b, c)\n",
    "    if d < 0:\n",
    "        return None\n",
    "    \n",
    "    elif d == 0:\n",
    "        x = -b / (2 * a)\n",
    "        return x\n",
    "    \n",
    "    x1 = (-b - math.sqrt(d)) / (2 * a)\n",
    "    x2 = (-b + math.sqrt(d)) / (2 * a)\n",
    "    return x1, x2\n"
   ]
  },
  {
   "cell_type": "code",
   "execution_count": null,
   "id": "f4237f07",
   "metadata": {},
   "outputs": [],
   "source": [
    "print(solutions(-1, 0, -1))     # -x^2 - 1"
   ]
  },
  {
   "cell_type": "code",
   "execution_count": null,
   "id": "a59f8acf",
   "metadata": {},
   "outputs": [],
   "source": [
    "print(solutions(1, 0 , 0))      # x^2"
   ]
  },
  {
   "cell_type": "code",
   "execution_count": null,
   "id": "5f05c052",
   "metadata": {},
   "outputs": [],
   "source": [
    "print(solutions(1, 1 , 0))      # x(x+1)"
   ]
  },
  {
   "cell_type": "code",
   "execution_count": null,
   "id": "bebd37a4",
   "metadata": {},
   "outputs": [],
   "source": [
    "print(solutions(1, 0 , -1))      # (x-1)(x+1)"
   ]
  },
  {
   "cell_type": "code",
   "execution_count": null,
   "id": "ae7879ed",
   "metadata": {},
   "outputs": [],
   "source": [
    "rozwiazania = solutions(1,1,0)\n",
    "print(rozwiazania)"
   ]
  },
  {
   "cell_type": "markdown",
   "id": "bcfe3d9b",
   "metadata": {},
   "source": [
    "## Wcięcia jako integralna część języka"
   ]
  },
  {
   "cell_type": "markdown",
   "id": "51b0f10f",
   "metadata": {},
   "source": [
    "* Funkcje oraz generalnie bloki kodu w Pythonie nie posiadają sprecyzowanych początków i końców oraz żadnych nawiasów służących do zaznaczania, gdzie blok się zaczyna, a gdzie kończy. \n",
    "* Jedynym separatorem jest dwukropek ( : ) oraz wcięcia kodu.\n",
    "    * wcięcia są odpowiednikiem {} w kodzie Javascript/C"
   ]
  },
  {
   "cell_type": "markdown",
   "id": "212243d4",
   "metadata": {},
   "source": [
    "![](png/wciecia.png)"
   ]
  },
  {
   "cell_type": "code",
   "execution_count": null,
   "id": "734372ee",
   "metadata": {},
   "outputs": [],
   "source": [
    "# błędne wcięcia\n",
    "\n",
    "def echo(x):\n",
    "    x = x * x\n",
    "    return x"
   ]
  },
  {
   "cell_type": "code",
   "execution_count": null,
   "id": "fb9c8219",
   "metadata": {
    "scrolled": true
   },
   "outputs": [],
   "source": [
    "# błędne wcięcia\n",
    "if x > y:\n",
    "    print(x,y)\n",
    "    print('x > y')\n",
    "    "
   ]
  },
  {
   "cell_type": "markdown",
   "id": "1ad82a7a",
   "metadata": {},
   "source": [
    "## Zen of Python\n",
    "\n",
    "* Piękny jest lepszy niż brzydki.\n",
    "* Jawny jest lepszy niż domyślny.\n",
    "* Prosty jest lepszy niż złożony.\n",
    "* Złożony jest lepszy niż skomplikowany.\n",
    "* Płaski jest lepszy niż zagnieżdżony.\n",
    "* Rzadki jest lepszy niż zagęszczony.\n",
    "* Czytelność ma znaczenie.\n",
    "* Sytuacje wyjątkowe nie są na tyle wyjątkowe, aby łamać reguły.\n",
    "* Aczkolwiek pragmatyzm wygrywa z puryzmem sztywnego trzymania się reguł.\n",
    "* Błędy zawsze powinny być sygnalizowane.\n",
    "* No chyba, że zostaną celowo ukryte.\n",
    "* W obliczu dwuznaczności odrzuć pokusę aby zgadywać.\n",
    "* Powinien istnieć jeden, i najlepiej tylko jeden, oczywisty sposób do zrobienia danej rzeczy.\n",
    "* Chociaż sposób ten nie musi być początkowo oczywisty jeśli nie jesteś Holendrem.\n",
    "* Teraz jest lepsze niż nigdy.\n",
    "* Chociaż nigdy jest często lepsze niż właśnie teraz.\n",
    "* Źle, jeśli implementację jest trudno wyjaśnić.\n",
    "* Dobrze, jeśli implementację jest łatwo wyjaśnić.\n",
    "* Przestrzenie nazw są świetnym pomysłem – stwórzmy ich więcej!\n",
    " \n",
    "\n",
    "* https://www.python.org/dev/peps/pep-0020\n",
    "* http://blog.zabiello.com/2008/09/01/zen-of-python"
   ]
  },
  {
   "cell_type": "markdown",
   "id": "0185d74d",
   "metadata": {},
   "source": [
    "# Typy danych w Pythonie (wbudowane)\n",
    "\n",
    "## Typy proste\n",
    "|opis|type|przykład|\n",
    "|-|-|-|\n",
    "|liczby całkowite|int|10|\n",
    "|liczby zmiennoprzecinkowe|float|0.5 |\n",
    "|napisy|str|'text' \"text\" \"\"\"text\"\"\" '''text'''|\n",
    "|typ logiczny|bool| True False|\n",
    "|binarny|bytes, bytearray, memoryview|b'1234'"
   ]
  },
  {
   "cell_type": "code",
   "execution_count": null,
   "id": "5ddcb3a0",
   "metadata": {},
   "outputs": [],
   "source": [
    "# print(type(10))\n",
    "# print(type(0.5))\n",
    "# print(type('text'))\n",
    "# print(type(\"text\"))\n",
    "# print(type(True))\n",
    "# print(type(b'123'))\n",
    "\n",
    "a = 10\n",
    "b = 10.0\n",
    "c = \"'text'\"\n",
    "d = '\"text\"'\n",
    "\n",
    "# text = \"a=%s b=%s c=%s d=%s\\n\" % (a, b, c, d)\n",
    "# print(text)\n",
    "# print(c==d)\n",
    "# e = \"text\"\n",
    "# f = '''text'''\n",
    "# print(e==f)\n",
    "# print(type(c))\n",
    "# print(c.lower())\n",
    "# print(c.upper())\n",
    "# print(c.title())\n",
    "# print('txt' in  c)\n",
    "print(\" \".join(sorted(\"to jest text\".split())))"
   ]
  },
  {
   "cell_type": "code",
   "execution_count": null,
   "id": "24123d49",
   "metadata": {},
   "outputs": [],
   "source": [
    "a, b = 10, '10'\n",
    "\n",
    "if float(a) > float(b):\n",
    "    print('%s > %s' % (a, b))\n",
    "else:\n",
    "    print('%s <= %s' % (a, b))\n",
    "    \n",
    "a = [5,4,3,2,1]\n",
    "print(sorted(a))\n",
    "\n",
    "b = [\"5\", \"4\", \"3\", \"2\", \"1\", \"10\"]\n",
    "print(sorted(b))\n",
    "\n",
    "dir('to Jest text')\n",
    "help(str)"
   ]
  },
  {
   "cell_type": "markdown",
   "id": "e81a18f3",
   "metadata": {},
   "source": [
    "## Type złożone\n",
    "\n",
    "|typ|opis|przykład|\n",
    "|-|-|-|\n",
    "|lista|sekwencja danych | [1, 2, 3]|\n",
    "|słownik| mapa, tablica asocjacyjna | {'x':0, 'y':0, 'z':0}\n",
    "|zbiór|nieuporządkowany zbiór danych | {'a', 'b', 'c'}"
   ]
  },
  {
   "cell_type": "code",
   "execution_count": null,
   "id": "23f30477",
   "metadata": {},
   "outputs": [],
   "source": [
    "lista = [5,1,2,3,4,5,5,5,5,5]\n",
    "zbior = {5,1,2,3,4,5,5,5,5,5}\n",
    "\n",
    "print('lista:', lista)\n",
    "print('zbior:', zbior)\n",
    "\n",
    "def tworz_lista():\n",
    "    return [1,2,3,4]\n",
    "\n",
    "class Lista:\n",
    "    def __init__(self, lista):\n",
    "        self.lista = list(lista)\n",
    "    def __str__(self):\n",
    "        return \"%s\" % self.lista\n",
    "\n",
    "print(Lista([1,0]))\n",
    "\n",
    "# print(set(lista))"
   ]
  },
  {
   "cell_type": "markdown",
   "id": "729557a1",
   "metadata": {},
   "source": [
    "\n",
    "# Dynamiczny system typowania w Pythonie\n",
    "\n",
    "* Typowanie dynamiczne (np. Python)\n",
    "    * to przypisywanie typów do wartości przechowywanych w zmiennych w trakcie działania programu\n",
    "    * zmienne nie posiadają typów przypisanych statycznie, czyli przed uruchomieniem programu np. w trakcie kompilacji\n",
    "    * typ zmiennej wynika z wartości jaką dana zmienna przechowuje\n",
    "    * Zmienna może w różnych momentach wykonania programu przechowywać wartości różnych typów.\n",
    "\n",
    "* Typowanie statyczne (np. C)\n",
    "    * nadawanie typów zmiennym odbywa się w czasie kompilacji programu. \n",
    "    * zmienna musi zostać zadeklarowana jako zmienna konkretnego typu i przez cały swój czas życia ta zmienna będzie mogła przyjmować tylko wartości tego typu."
   ]
  },
  {
   "cell_type": "code",
   "execution_count": null,
   "id": "93080e70",
   "metadata": {},
   "outputs": [],
   "source": [
    "# # boolean\n",
    "# zmienna = True          \n",
    "# print(zmienna, type(zmienna))\n",
    "\n",
    "# # integer\n",
    "# zmienna = 1 + 2         \n",
    "# print(zmienna, type(zmienna))\n",
    "\n",
    "# # string\n",
    "# zmienna = \"A\" + \"B\"     \n",
    "# print(zmienna, type(zmienna))\n",
    "\n",
    "# def echo(a):\n",
    "#     print(a)\n",
    "\n",
    "# zmienna = echo\n",
    "# print(zmienna, type(zmienna))\n",
    "# zmienna(10)\n",
    "# zmienna = \"text\"\n",
    "# print(zmienna.upper())\n",
    "\n",
    "def suma(a, b):\n",
    "    return int(a) + int(b)\n",
    "\n",
    "print(suma(1,2))\n"
   ]
  },
  {
   "cell_type": "code",
   "execution_count": null,
   "id": "aa37ccfa",
   "metadata": {},
   "outputs": [],
   "source": [
    "def echo(t):\n",
    "    print(t)\n",
    "    \n",
    "echo(100)\n",
    "echo('sto')\n",
    "echo(True)\n",
    "zmienna = echo"
   ]
  },
  {
   "cell_type": "code",
   "execution_count": null,
   "id": "0c34935e",
   "metadata": {},
   "outputs": [],
   "source": [
    "echo == zmienna"
   ]
  },
  {
   "cell_type": "markdown",
   "id": "a7f9f329",
   "metadata": {},
   "source": [
    "# Słowa kluczowe\n",
    "\n",
    "* słowa zastrzeżone, które definiują składnię języka\n",
    "* nie mogą być przypisane zmiennym, funkcjom ani innym identyfikatorom\n",
    "\n",
    "\n",
    "        False   await       else        import      pass\n",
    "        None    break       except      in          raise\n",
    "        True    class       finally     is          return\n",
    "        and     continue    for         lambda      try\n",
    "        as      def         from        nonlocal    while\n",
    "        assert  del         global      not         with\n",
    "        async   elif        if          or          yield\n"
   ]
  },
  {
   "cell_type": "code",
   "execution_count": null,
   "id": "72ef0015",
   "metadata": {},
   "outputs": [],
   "source": [
    "def true(): \n",
    "    pass\n",
    "\n",
    "x = None\n",
    "\n",
    "assert x is None\n"
   ]
  },
  {
   "cell_type": "markdown",
   "id": "55b8b6cc",
   "metadata": {},
   "source": [
    "# Kolejność operatorów"
   ]
  },
  {
   "cell_type": "code",
   "execution_count": null,
   "id": "8fc13a6b",
   "metadata": {},
   "outputs": [],
   "source": [
    "(2 + 3) * 4 == 2 + 3 * 4"
   ]
  },
  {
   "cell_type": "code",
   "execution_count": null,
   "id": "045bcd3d",
   "metadata": {},
   "outputs": [],
   "source": [
    "2 + 3 * 4 == 2 + (3 * 4)"
   ]
  },
  {
   "cell_type": "code",
   "execution_count": null,
   "id": "fc4cd3ef",
   "metadata": {},
   "outputs": [],
   "source": [
    "(2 + 3) * 4"
   ]
  },
  {
   "cell_type": "code",
   "execution_count": null,
   "id": "2f5d6fb4",
   "metadata": {},
   "outputs": [],
   "source": [
    "2 + 3 * 4"
   ]
  },
  {
   "cell_type": "code",
   "execution_count": null,
   "id": "65cfc51c",
   "metadata": {},
   "outputs": [],
   "source": [
    "2 + (3 * 4)"
   ]
  },
  {
   "cell_type": "markdown",
   "id": "989b99fd",
   "metadata": {},
   "source": [
    "## Kolejność operatorów (od najmniej ważnych)\n",
    "\n",
    "    \n",
    "    lambda          Wyrażenie lambda\n",
    "    or              Logiczne OR (lub)\n",
    "    and             Logiczne AND (i)\n",
    "    not x           Logiczne NOT (nie)\n",
    "    in, not in      Testy przynależności\n",
    "    is, is not      Testy tożsamości\n",
    "    <, <=, >, >=, <>, !=, ==    Porównania\n",
    "    |               Bitowe OR (lub)\n",
    "    ^               Bitowe XOR (różnica symetryczna)\n",
    "    \\&              Bitowe AND (i)\n",
    "    <<, >>          Bitowe przesunięcia\n",
    "    +, -             Dodawanie, odejmowanie\n",
    "    *, /, %          Mnożenie, dzielenie, reszta z dzielenia\n",
    "    +x, -x           Identyczność, negacja\n",
    "    ∼x               Bitowe NOT (nie)\n",
    "    **               Potęgowanie\n",
    "    x.atrybut        Odwołanie do atrybutu\n",
    "    x[indeks]        Odwołanie do indeksu\n",
    "    x[indeks:indeks] Wykrojenie\n",
    "    f(argumenty…)    Wywołanie funkcji f\n",
    "    (wyrażenia…)     Powiązanie lub drukowalna forma krotki\n",
    "    [wyrażenia…]     Drukowalna forma listy\n",
    "    {klucz:dana…}    Drukowalna forma słownika\n",
    "    ‘wyrażenia…‘     Konwersja napisowa\n"
   ]
  },
  {
   "cell_type": "markdown",
   "id": "6d46baf9",
   "metadata": {},
   "source": [
    "## Operatory w Python"
   ]
  },
  {
   "cell_type": "markdown",
   "id": "d7692842",
   "metadata": {},
   "source": [
    "![](png/operatory-1.png)"
   ]
  },
  {
   "cell_type": "markdown",
   "id": "355287eb",
   "metadata": {},
   "source": [
    "![](png/operatory-2.png)"
   ]
  },
  {
   "cell_type": "markdown",
   "id": "05862ac6",
   "metadata": {},
   "source": [
    "![](png/operatory-3.png)"
   ]
  },
  {
   "cell_type": "markdown",
   "id": "7fc8765a",
   "metadata": {},
   "source": [
    "![](png/operatory-4.png)"
   ]
  },
  {
   "cell_type": "markdown",
   "id": "12e50197",
   "metadata": {},
   "source": [
    "# Instrukcja 'if'\n",
    "\n",
    "    if <warunek1>:\n",
    "       <instrukcje1>    # wykonywane gdy warunek1 jest True\n",
    "    elif <warunek2>: \t\n",
    "       <instrukcje2>    # wykonywane gdy warunek2 jest True \n",
    "    else:\n",
    "       <instrukcje>     # wykonywane gdy żadne z powyższych\n",
    "\n",
    "* if to 'if'\n",
    "* elif to skrót od „else if”\n",
    "* elif (moze byc kilka) oraz else są opcjonalne\n",
    "* instrukcje1 są wykonywane gdy warunek1 jest True\n",
    "    * nawet jeśli warunek2 jest spełniony\n",
    "* instrukcje2 są wykonywane wyłącznie gdy warunek2 jest True\n",
    "    * gdy warunek1 jest True, instrukcje2 nie są wykonywane\n",
    "* else jest wykonywany wyłącznie jeśli wcześniejsze if oraz elif nie zostały spełnione\n"
   ]
  },
  {
   "cell_type": "code",
   "execution_count": null,
   "id": "31bbcbe4",
   "metadata": {},
   "outputs": [],
   "source": [
    "def warunek():\n",
    "    return True # to nie to samo co False\n",
    "\n",
    "if warunek():\n",
    "    print(\"True\")\n",
    "    print(\"True\")\n",
    "print(\"True / end\")\n",
    "\n",
    "x = 10\n",
    "\n",
    "if x == 1:\n",
    "    pass\n",
    "elif x == 2:\n",
    "    pass\n",
    "elif x == 3:\n",
    "    pass\n",
    "elif x == 4:\n",
    "    pass\n"
   ]
  },
  {
   "cell_type": "markdown",
   "id": "7159be27",
   "metadata": {},
   "source": [
    "# Instrukcja 'match'\n",
    "\n",
    "* wprowadzona w python3.10\n",
    "* odpowiednik **switch** in C"
   ]
  },
  {
   "cell_type": "code",
   "execution_count": null,
   "id": "a15ae475",
   "metadata": {},
   "outputs": [],
   "source": [
    "a = 1\n",
    "match a:\n",
    "    case 0:\n",
    "        print(\"zero\")\n",
    "    case 1:\n",
    "        print(\"one\")\n",
    "    case 2:\n",
    "        print(\"two\")\n",
    "    case default:\n",
    "        print(\"something\")"
   ]
  },
  {
   "cell_type": "markdown",
   "id": "df3f4956",
   "metadata": {},
   "source": [
    "# Instrukcja 'while'\n",
    "\n",
    "    while <warunek>:\n",
    "        <instrukcja1>\n",
    "        …    \n",
    "        <instrukcjaN>\n",
    "    \n",
    "\n",
    "* blok instrukcje1 … instrukcjaN wykonuje się tak długo dopóki spełniony jest ***warunek***\n",
    "* jeśli ***warunek*** nie jest spełniony, blok instrukcji nie zostanie wykonany ani razu\n",
    "* jeśli nie zmieni nic wewnątrz bloku, instrukcja będzie wykonywana nieskończenie (do przerwania z zewnątrz)"
   ]
  },
  {
   "cell_type": "code",
   "execution_count": null,
   "id": "6983d1b4",
   "metadata": {},
   "outputs": [],
   "source": [
    "i = 0            # przypisz zmiennej i wartość 0\n",
    "while i < 5:     # iteruj tak długo jak i < 5 \n",
    "    print(i)\n",
    "    i = i + 1\n",
    "print(' ', i)"
   ]
  },
  {
   "cell_type": "code",
   "execution_count": null,
   "id": "743c1770",
   "metadata": {},
   "outputs": [],
   "source": [
    "import time\n",
    "\n",
    "i = 0\n",
    "while True:\n",
    "    print(i)\n",
    "    time.sleep(1)\n",
    "    i = i + 1\n",
    "    if i == 5:\n",
    "        break\n",
    "print(i)"
   ]
  },
  {
   "cell_type": "markdown",
   "id": "931b1ed6",
   "metadata": {},
   "source": [
    "## break, continue\n",
    "\n",
    "* instrukcja ***break*** oraz ***continue*** wewnątrz while przerywa przetwarzanie iteracji\n",
    "* instrukcja continue startuje nową iterację (kolejny przebieg pętli)\n",
    "* instrukcja break przerywa kompletnie wykonywanie pętli, zostają wykonane instrukcje po bloku instrukcji while\n"
   ]
  },
  {
   "cell_type": "code",
   "execution_count": null,
   "id": "5756e2b8",
   "metadata": {},
   "outputs": [],
   "source": [
    "i = 0\n",
    "while True:\n",
    "    i = i + 1\n",
    "    if i % 2 == 0:\n",
    "        continue    # nic nie rób\n",
    "    if i > 10:\n",
    "        break       # przerwij   \n",
    "    print(i)        # wyświetl wyłącznie liczby nieparzyste\n"
   ]
  },
  {
   "cell_type": "code",
   "execution_count": null,
   "id": "87c459d7",
   "metadata": {},
   "outputs": [],
   "source": [
    "for i in range(10):\n",
    "    print(i)"
   ]
  },
  {
   "cell_type": "markdown",
   "id": "a54934d3",
   "metadata": {},
   "source": [
    "# Napisy\n",
    "\n",
    "* napis to obiekt przechowujący łańcuch znaków ascii\n",
    "* napisy są listą znaków\n",
    "* dostęp do poszczególnych znaków poprzez indeksy\n",
    "* można iterować tak jak w przypadku list, zbiorów\n",
    "* pusty ('') ma długość zero\n",
    "* print() wyswietla napisy\n",
    "* zarówno \" jak i ' jest separatorem napisów\n",
    "    * 'kot' to samo co \"kot\"\n",
    "    * \"**'**kot**'**\" to nie to samo co '**\"**kot**\"**'\n",
    "* ma długość len()\n",
    "* napisy są obiektami, które posiadają przydatne metody\n",
    "    * np. \"text\".upper()\n",
    "\n",
    "https://www.w3schools.com/python/python_strings.asp\n",
    "\n"
   ]
  },
  {
   "cell_type": "code",
   "execution_count": null,
   "id": "9e484917",
   "metadata": {},
   "outputs": [],
   "source": [
    "napis = \"abcde\"\n",
    "print(napis[0], len(napis))\n",
    "\n",
    "for c in napis:\n",
    "    print(c)\n",
    "    \n",
    "a = 'text'\n",
    "b = \"text\"\n",
    "\n",
    "print(a,b,a==b)\n",
    "\n",
    "przyklad = \"012345\"\n",
    "print(przyklad[::-1])\n"
   ]
  },
  {
   "cell_type": "markdown",
   "id": "9ba4a311",
   "metadata": {},
   "source": [
    "\n",
    "|NOTATION|\tZWRACA|\tRezultat dla text=\"ABCDE\"|\n",
    "|--|--|--|\n",
    "|**text[0]** |\t1szy znak|\tA\n",
    "|**text[1]** |\t2gi znak|\tB\n",
    "|**text[-1]** |\tOstatni znak|\tE\n",
    "|**text[1:]** |\tSekwencja startując od 1szego znaku|\tBCDE\n",
    "|**text[:-1]** |\tSekwencja bez ostatniego znaku\t|ABCD\n",
    "|**text[:]** |   Wszystkie znaki\t|ABCDE\n",
    "|**text[0::2]** |Co drugi znak startując od początku\t|ACE\n",
    "|**text[::-1]** |Odwrócona kolejność\t|EDCBA|\n"
   ]
  },
  {
   "cell_type": "code",
   "execution_count": null,
   "id": "1d19aa22",
   "metadata": {},
   "outputs": [],
   "source": [
    "text = 'ala ma kotA'\n",
    "print(text[0])\n",
    "print(text[1])\n",
    "print(text[-1])\n",
    "print(text[1:])\n",
    "print(text[:-1])\n",
    "print(text[:])\n",
    "print(text[0::2])\n",
    "print(text[::-1])"
   ]
  },
  {
   "cell_type": "code",
   "execution_count": null,
   "id": "ff7fe253",
   "metadata": {},
   "outputs": [],
   "source": [
    "text = \"To jest 'string'\""
   ]
  },
  {
   "cell_type": "code",
   "execution_count": null,
   "id": "6926b116",
   "metadata": {},
   "outputs": [],
   "source": [
    "text = 'To jest \"string\"'"
   ]
  },
  {
   "cell_type": "code",
   "execution_count": null,
   "id": "38410887",
   "metadata": {},
   "outputs": [],
   "source": [
    "lorem = \"\"\"Lorem ipsum dolor sit amet, consectetur adipiscing elit.\n",
    "Phasellus bibendum lacinia nisl vel eleifend. \n",
    "Integer ac arcu est. auris eget gravida odio. \n",
    "Donec posuere sodales elit. \n",
    "Mauris nibh est, porttitor id sapien quis, mattis finibus dolor. \n",
    "Maecenas sitamet eros eget mi rutrum mattis sit amet sed purus. \n",
    "Ut mollis, ipsum a aliquet facilisis, libero quam ultricies nunc, eu rhoncus tellus dolor in orci.\n",
    "\"\"\"\n",
    "\n",
    "print(lorem)"
   ]
  },
  {
   "cell_type": "code",
   "execution_count": null,
   "id": "958cc849",
   "metadata": {},
   "outputs": [],
   "source": [
    "'Text' == \"Text\" == \"\"\"Text\"\"\" == '''Text'''"
   ]
  },
  {
   "cell_type": "code",
   "execution_count": null,
   "id": "815db952",
   "metadata": {},
   "outputs": [],
   "source": [
    "help(str)"
   ]
  },
  {
   "cell_type": "code",
   "execution_count": null,
   "id": "14569b6e",
   "metadata": {},
   "outputs": [],
   "source": [
    "'To jest napis.'.upper()"
   ]
  },
  {
   "cell_type": "code",
   "execution_count": null,
   "id": "a2544b45",
   "metadata": {},
   "outputs": [],
   "source": [
    "'To jest napis.'.lower()"
   ]
  },
  {
   "cell_type": "code",
   "execution_count": null,
   "id": "7de13960",
   "metadata": {},
   "outputs": [],
   "source": [
    "napis = '  To jest napis. '.strip().capitalize().replace('.', '_').replace(' ', '-')[::-1]\n",
    "print(napis)"
   ]
  },
  {
   "cell_type": "code",
   "execution_count": null,
   "id": "689643ec",
   "metadata": {},
   "outputs": [],
   "source": [
    "'To jest xyz.'.replace('napis', \"text\")"
   ]
  },
  {
   "cell_type": "code",
   "execution_count": null,
   "id": "c41c8a81",
   "metadata": {
    "scrolled": true
   },
   "outputs": [],
   "source": [
    "'to' + 'jest' + 'napis'"
   ]
  },
  {
   "cell_type": "code",
   "execution_count": null,
   "id": "1468b475",
   "metadata": {},
   "outputs": [],
   "source": [
    "for n in 'To jest napis.'.split(' '):\n",
    "    print(n)"
   ]
  },
  {
   "cell_type": "code",
   "execution_count": null,
   "id": "d903aebf",
   "metadata": {},
   "outputs": [],
   "source": [
    "\" \".join(['x','y','z'])"
   ]
  },
  {
   "cell_type": "markdown",
   "id": "79dfe884",
   "metadata": {},
   "source": [
    "# Instrukcja for\n",
    "\n",
    "    for <zmienna> in <sekwencja>:\n",
    "        <instrukcja1>\n",
    "        …    \n",
    "        <instrukcjaN>\n",
    "\n",
    "* **for** jest używana do iteracji elementów sekwencji (listy, krotki, słowniki, zbiory lub napisy).\n",
    "* różni się nieznacznie od for w innych językach programowania, działa jak metoda iteratora, jak można znaleźć w innych obiektowych językach programowania\n",
    "* za pomocą pętli for możemy wykonać zestaw instrukcji, raz dla każdej pozycji na liście, krotki, zbioru itp.\n"
   ]
  },
  {
   "cell_type": "code",
   "execution_count": 1,
   "id": "56144990",
   "metadata": {},
   "outputs": [
    {
     "name": "stdout",
     "output_type": "stream",
     "text": [
      "p\n",
      "e\n",
      "r\n",
      "p\n",
      "e\n",
      "t\n",
      "u\n",
      "m\n"
     ]
    }
   ],
   "source": [
    "# iteracja po znakach w napisie\n",
    "\n",
    "for z in 'perpetum':\n",
    "    print(z)"
   ]
  },
  {
   "cell_type": "code",
   "execution_count": 3,
   "id": "ff80e4b9",
   "metadata": {},
   "outputs": [
    {
     "name": "stdout",
     "output_type": "stream",
     "text": [
      "lorem text\n",
      "ipsum\n"
     ]
    }
   ],
   "source": [
    "for w in ['lorem', 'ipsum']:\n",
    "    print(w)"
   ]
  },
  {
   "cell_type": "code",
   "execution_count": 4,
   "id": "210b865a",
   "metadata": {},
   "outputs": [
    {
     "name": "stdout",
     "output_type": "stream",
     "text": [
      "lorem\n",
      "ipsum\n"
     ]
    }
   ],
   "source": [
    "# iteracja po liscie slów\n",
    "\n",
    "for w in 'lorem ipsum'.split():\n",
    "    print(w)"
   ]
  },
  {
   "cell_type": "code",
   "execution_count": 5,
   "id": "81ca14e9",
   "metadata": {},
   "outputs": [
    {
     "name": "stdout",
     "output_type": "stream",
     "text": [
      "p\n",
      "r\n",
      "p\n"
     ]
    }
   ],
   "source": [
    "# break & continue\n",
    "\n",
    "for z in 'perpetum':\n",
    "    if z == 'e':\n",
    "        continue\n",
    "    if z == 't':\n",
    "        break\n",
    "    print(z)"
   ]
  },
  {
   "cell_type": "code",
   "execution_count": 11,
   "id": "cc2d1794",
   "metadata": {},
   "outputs": [
    {
     "name": "stdout",
     "output_type": "stream",
     "text": [
      "(0, 'p')\n",
      "(1, 'e')\n",
      "(2, 'r')\n",
      "(3, ' ')\n",
      "(4, 'p')\n",
      "(5, 'e')\n",
      "(6, 't')\n",
      "(7, 'u')\n",
      "(8, 'm')\n"
     ]
    }
   ],
   "source": [
    "for en in enumerate('per petum'):\n",
    "    print(en)"
   ]
  },
  {
   "cell_type": "markdown",
   "id": "4a3ed6c2",
   "metadata": {},
   "source": [
    "# Funkcje\n",
    "\n",
    "## Składnia funkcji\n",
    "\n",
    "- funkcja deklarowana jest przez *def*\n",
    "```python\n",
    "def hello():\n",
    "    print(\"Witaj\")\n",
    "```\n",
    "- funkcja jest wykonywana poprzez podanie nazwy wraz z nawiasami\n",
    "```python\n",
    "hello()\n",
    "```\n",
    "- mozna przekazywać informacje do funkcji poprzez argumenty\n",
    "  - argumenty sa przekazywane w nawiasach funkcji, rozdzielone przecinkami\n",
    "  \n",
    "```python\n",
    "def show(text):\n",
    "    print(text)\n",
    "show('to jest 1szy argument')\n",
    "``` \n",
    "- mozna przekazywac dużą liczbę argumentow\n",
    "```python\n",
    "def delta(a, b, c):\n",
    "    d = (b * b) - (4 * a * c) # b^2-4ac\n",
    "    return d \n",
    "```\n",
    "- funkcja moze zwracać rezultat poprzez *return*\n",
    "- funkcja bez return, zwraca *None*\n",
    "```python\n",
    "def nic():\n",
    "    print('return tu nie ma')\n",
    "    # zwracane jest None\n",
    "n = nic()\n",
    "```\n",
    "- funkcja może zwracać wiele wartości\n",
    "```python\n",
    "def min_max(dane):\n",
    "    return min(dane), max(dane)\n",
    "```"
   ]
  },
  {
   "cell_type": "code",
   "execution_count": 12,
   "id": "4485f069",
   "metadata": {},
   "outputs": [
    {
     "name": "stdout",
     "output_type": "stream",
     "text": [
      "Witaj\n"
     ]
    }
   ],
   "source": [
    "def hello():\n",
    "    print('Witaj')\n",
    "    # zwraca None\n",
    "\n",
    "hello()"
   ]
  },
  {
   "cell_type": "code",
   "execution_count": 13,
   "id": "afa2dfc1",
   "metadata": {},
   "outputs": [
    {
     "name": "stdout",
     "output_type": "stream",
     "text": [
      "Witaj\n",
      "None\n"
     ]
    }
   ],
   "source": [
    "ret = hello()\n",
    "print(ret)"
   ]
  },
  {
   "cell_type": "code",
   "execution_count": 14,
   "id": "b1ebc8e7",
   "metadata": {},
   "outputs": [
    {
     "name": "stdout",
     "output_type": "stream",
     "text": [
      "abcd\n"
     ]
    }
   ],
   "source": [
    "def echo(e):\n",
    "    return e # zwraca argument\n",
    "\n",
    "ret = echo('abcd')\n",
    "print(ret)"
   ]
  },
  {
   "cell_type": "code",
   "execution_count": 24,
   "id": "7ac50607",
   "metadata": {},
   "outputs": [
    {
     "name": "stdout",
     "output_type": "stream",
     "text": [
      "1\n"
     ]
    }
   ],
   "source": [
    "def delta(a=0, b=0, c=0):\n",
    "    return (b * b) - (4 * a * c)\n",
    "\n",
    "# print(delta(1,0,0)) # x*x\n",
    "# print(delta(1,1,0)) # x(x+1)\n",
    "# print(delta(1,0,1)) # x^2+1\n",
    "print(delta(a=1, b=1))"
   ]
  },
  {
   "cell_type": "code",
   "execution_count": 25,
   "id": "b02e430c",
   "metadata": {},
   "outputs": [
    {
     "name": "stdout",
     "output_type": "stream",
     "text": [
      "nic\n",
      "None\n"
     ]
    }
   ],
   "source": [
    "def nic():\n",
    "    print('nic')\n",
    "    # return None\n",
    "\n",
    "ret = nic()\n",
    "print(ret)"
   ]
  },
  {
   "cell_type": "code",
   "execution_count": 37,
   "id": "43f67897",
   "metadata": {},
   "outputs": [],
   "source": [
    "# def min_max(dane):\n",
    "#     return min(dane), max(dane)\n",
    "\n",
    "# mn, mx = min_max([10,0,1,2,3])\n",
    "# print('min',mn)\n",
    "# print('max',mx)\n",
    "\n",
    "mn = min([0,1,2])\n",
    "mx = max([0,1,2])"
   ]
  },
  {
   "cell_type": "markdown",
   "id": "6a58f18b",
   "metadata": {},
   "source": [
    "## Argumenty funkcji\n",
    "\n",
    "- argumenty sa przekazywane do funcji wg kolejnosci\n",
    "\n",
    "```python\n",
    "def delta(a, b, c):\n",
    "    d = (b * b) - (4 * a * c) # b^2-4ac\n",
    "    return d \n",
    "\n",
    "d = delta(1, 0, 0) # a=1, b=0, c=0\n",
    "```\n",
    "\n",
    "- mozna przekazywac argumenty do funkcji poprzez ich nazwę\n",
    "\n",
    "```python\n",
    "def echo(text):\n",
    "    return text\n",
    "echo(text='wiadomosc')\n",
    "\n",
    "```\n",
    "\n",
    "```python\n",
    "def delta(a, b, c):\n",
    "    d = (b * b) - (4 * a * c) # b^2-4ac\n",
    "    return d \n",
    "d = delta(a=1, b=0, c=0)\n",
    "d = delta(c=0, b=0, a=1)\n",
    "```\n",
    "- w 1szej kolejności argumenty wg kolejnosci, potem po nazwie\n",
    "```python\n",
    "d = delta(1, b=2, c=3) # a=1, b=2, c=3\n",
    "d = delta(1, c=-1, b=0) # a=1, b=0, c=-1\n",
    "```"
   ]
  },
  {
   "cell_type": "code",
   "execution_count": null,
   "id": "cdb8f130",
   "metadata": {},
   "outputs": [],
   "source": []
  }
 ],
 "metadata": {
  "kernelspec": {
   "display_name": "Python 3 (ipykernel)",
   "language": "python",
   "name": "python3"
  },
  "language_info": {
   "codemirror_mode": {
    "name": "ipython",
    "version": 3
   },
   "file_extension": ".py",
   "mimetype": "text/x-python",
   "name": "python",
   "nbconvert_exporter": "python",
   "pygments_lexer": "ipython3",
   "version": "3.11.2"
  }
 },
 "nbformat": 4,
 "nbformat_minor": 5
}
