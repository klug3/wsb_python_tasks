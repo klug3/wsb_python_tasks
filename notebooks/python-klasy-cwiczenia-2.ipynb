{
 "cells": [
  {
   "cell_type": "markdown",
   "id": "96c0db53",
   "metadata": {},
   "source": [
    "### `staticmethod` i `classmethod` \n",
    "- `@staticmethod` - definiujemy statyczna metode w naszej klasie\n",
    "- licznik referencji w klasie Ksiazka z uzyciem staticmethod\n",
    "- wywolanie statycznej metody - przez klase i przez instancje\n",
    "- przyklad co sie wydarzy jak zdefinujemy metode o takiej samej nazwie jak metoda statyczna \n",
    "- wykorzystywana do:\n",
    "  - manipulacja globalnymi atrybutami i zmiennymi\n",
    "  - operacja nie zwiazane z instncja klasy\n"
   ]
  },
  {
   "cell_type": "code",
   "execution_count": 6,
   "id": "2dbf5914",
   "metadata": {},
   "outputs": [
    {
     "name": "stdout",
     "output_type": "stream",
     "text": [
      ">>inc()\n",
      ">>inc()\n",
      ">>inc()\n",
      "3\n",
      ">>dec()\n",
      ">>dec()\n",
      ">>dec()\n",
      "0\n"
     ]
    }
   ],
   "source": [
    "class Ksiazka:\n",
    "    licznik = 0\n",
    "    \n",
    "    def __init__(self, autor, tytul):\n",
    "        self.autor = autor\n",
    "        self.tytul = tytul\n",
    "        self.inc()\n",
    "        \n",
    "        \n",
    "    def __del__(self):\n",
    "        __class__.dec()\n",
    "        \n",
    "        \n",
    "    def getAutor(self):\n",
    "        return self.autor\n",
    "        \n",
    "    @staticmethod\n",
    "    def inc():\n",
    "        print(\">>inc()\")\n",
    "        Ksiazka.licznik += 1\n",
    "        \n",
    "    @staticmethod\n",
    "    def dec():\n",
    "        print(\">>dec()\")\n",
    "        Ksiazka.licznik -= 1\n",
    "        \n",
    "\n",
    "books = [\n",
    "    Ksiazka(\"asds fadsfs\", \"test 1\"),\n",
    "    Ksiazka(\"fddgg fdfdf\", \"test 2\"),\n",
    "    Ksiazka(\"Boleslaw Prus\", \"test 3\") \n",
    "    \n",
    "]\n",
    "    \n",
    "print(Ksiazka.licznik)\n",
    "\n",
    "books = None\n",
    "\n",
    "print(Ksiazka.licznik)\n"
   ]
  },
  {
   "cell_type": "markdown",
   "id": "0b1a8b86",
   "metadata": {},
   "source": [
    "- `@classmethod` - definiujemy metode klasy\n",
    "- sprawdzenie co jest przekazywane jako pierwszy arg wywolania\n",
    "- definiujemy kilka metod do konstruowania obiektow: fromArgs(), fromBook(), fromStr()"
   ]
  },
  {
   "cell_type": "code",
   "execution_count": 14,
   "id": "83cde965",
   "metadata": {},
   "outputs": [
    {
     "name": "stdout",
     "output_type": "stream",
     "text": [
      "> createFromKsiazka: <class 'type'>, <class '__main__.Ksiazka'>\n",
      "> createFromStr: \n",
      "id(w)=2577100499600, id(k)=2577100311824,  k={'autor': 'Boleslaw Prus', 'tytul': 'Lalka'}\n",
      "id(w)=2577100499600, id(k)=2577106011472,  k={'autor': 'imie nazwisko ', 'tytul': 'tytul1'}\n"
     ]
    }
   ],
   "source": [
    "class Ksiazka:\n",
    "    licznik = 0\n",
    "    \n",
    "    def __init__(self, autor, tytul):\n",
    "        self.autor = autor\n",
    "        self.tytul = tytul\n",
    "        self.inc()\n",
    "        \n",
    "        \n",
    "    def __del__(self):\n",
    "        __class__.dec()\n",
    "        \n",
    "        \n",
    "    def getAutor(self):\n",
    "        return self.autor\n",
    "        \n",
    "    @classmethod\n",
    "    def createFromKsiazka(cls, k):\n",
    "        print(f\"> createFromKsiazka: {type(cls)}, {cls}\")\n",
    "        tmp = cls(k.autor, k.tytul)\n",
    "        return tmp\n",
    "    \n",
    "    @classmethod\n",
    "    def createFromStr(cls, s):\n",
    "        # format:  autor | tytul\n",
    "        print(f\"> createFromStr: \")\n",
    "        (autor, tytul) = s.split('|')\n",
    "        tmp = cls(autor, tytul)\n",
    "        return tmp\n",
    "    \n",
    "        \n",
    "    @staticmethod\n",
    "    def inc():\n",
    "        Ksiazka.licznik += 1\n",
    "        \n",
    "    @staticmethod\n",
    "    def dec():\n",
    "        Ksiazka.licznik -= 1\n",
    "        \n",
    "        \n",
    "w = Ksiazka(\"Boleslaw Prus\", \"Lalka\")\n",
    "k = Ksiazka.createFromKsiazka(w)\n",
    "k2 = Ksiazka.createFromStr(\"imie nazwisko |tytul1\")\n",
    "\n",
    "print(f\"id(w)={id(w)}, id(k)={id(k)},  k={k.__dict__}\")\n",
    "print(f\"id(w)={id(w)}, id(k)={id(k2)},  k={k2.__dict__}\")\n",
    "\n"
   ]
  },
  {
   "cell_type": "markdown",
   "id": "7d290e47",
   "metadata": {},
   "source": [
    "### Dziedziczenie klas\n",
    "* wszystkie klasy dziedzicza z klasy bazowej object\n",
    "* tworzymy prosta klase Punkt \n",
    "    * sprawdzamy dla niej help() i sprawdzamy jej klase bazowa\n",
    "    * sprawdzamy help(object) zeby dowiedziec sie jakie metody udostepnia nam klasa `object`\n",
    "* `__mro__` - method resolution order - sposob na wyswietlenie hierarchi dla naszej klasy"
   ]
  },
  {
   "cell_type": "code",
   "execution_count": 19,
   "id": "f728f4fd",
   "metadata": {},
   "outputs": [
    {
     "name": "stdout",
     "output_type": "stream",
     "text": [
      "Help on class Punkt in module __main__:\n",
      "\n",
      "class Punkt(builtins.object)\n",
      " |  Data descriptors defined here:\n",
      " |  \n",
      " |  __dict__\n",
      " |      dictionary for instance variables (if defined)\n",
      " |  \n",
      " |  __weakref__\n",
      " |      list of weak references to the object (if defined)\n",
      "\n",
      "(<class '__main__.Figura'>, <class '__main__.Punkt'>, <class 'object'>)\n"
     ]
    }
   ],
   "source": [
    "class Punkt:\n",
    "    pass\n",
    "\n",
    "help(Punkt)\n",
    "\n",
    "class Figura(Punkt):\n",
    "    pass\n",
    "\n",
    "print(f\"{Figura.__mro__}\")"
   ]
  },
  {
   "cell_type": "code",
   "execution_count": 20,
   "id": "7620f25a",
   "metadata": {},
   "outputs": [
    {
     "name": "stdout",
     "output_type": "stream",
     "text": [
      "Help on class object in module builtins:\n",
      "\n",
      "class object\n",
      " |  The base class of the class hierarchy.\n",
      " |  \n",
      " |  When called, it accepts no arguments and returns a new featureless\n",
      " |  instance that has no instance attributes and cannot be given any.\n",
      " |  \n",
      " |  Built-in subclasses:\n",
      " |      anext_awaitable\n",
      " |      ArgNotFound\n",
      " |      async_generator\n",
      " |      async_generator_asend\n",
      " |      ... and 116 other subclasses\n",
      " |  \n",
      " |  Methods defined here:\n",
      " |  \n",
      " |  __delattr__(self, name, /)\n",
      " |      Implement delattr(self, name).\n",
      " |  \n",
      " |  __dir__(self, /)\n",
      " |      Default dir() implementation.\n",
      " |  \n",
      " |  __eq__(self, value, /)\n",
      " |      Return self==value.\n",
      " |  \n",
      " |  __format__(self, format_spec, /)\n",
      " |      Default object formatter.\n",
      " |  \n",
      " |  __ge__(self, value, /)\n",
      " |      Return self>=value.\n",
      " |  \n",
      " |  __getattribute__(self, name, /)\n",
      " |      Return getattr(self, name).\n",
      " |  \n",
      " |  __getstate__(self, /)\n",
      " |      Helper for pickle.\n",
      " |  \n",
      " |  __gt__(self, value, /)\n",
      " |      Return self>value.\n",
      " |  \n",
      " |  __hash__(self, /)\n",
      " |      Return hash(self).\n",
      " |  \n",
      " |  __init__(self, /, *args, **kwargs)\n",
      " |      Initialize self.  See help(type(self)) for accurate signature.\n",
      " |  \n",
      " |  __le__(self, value, /)\n",
      " |      Return self<=value.\n",
      " |  \n",
      " |  __lt__(self, value, /)\n",
      " |      Return self<value.\n",
      " |  \n",
      " |  __ne__(self, value, /)\n",
      " |      Return self!=value.\n",
      " |  \n",
      " |  __reduce__(self, /)\n",
      " |      Helper for pickle.\n",
      " |  \n",
      " |  __reduce_ex__(self, protocol, /)\n",
      " |      Helper for pickle.\n",
      " |  \n",
      " |  __repr__(self, /)\n",
      " |      Return repr(self).\n",
      " |  \n",
      " |  __setattr__(self, name, value, /)\n",
      " |      Implement setattr(self, name, value).\n",
      " |  \n",
      " |  __sizeof__(self, /)\n",
      " |      Size of object in memory, in bytes.\n",
      " |  \n",
      " |  __str__(self, /)\n",
      " |      Return str(self).\n",
      " |  \n",
      " |  ----------------------------------------------------------------------\n",
      " |  Class methods defined here:\n",
      " |  \n",
      " |  __init_subclass__(...) from builtins.type\n",
      " |      This method is called when a class is subclassed.\n",
      " |      \n",
      " |      The default implementation does nothing. It may be\n",
      " |      overridden to extend subclasses.\n",
      " |  \n",
      " |  __subclasshook__(...) from builtins.type\n",
      " |      Abstract classes can override this to customize issubclass().\n",
      " |      \n",
      " |      This is invoked early on by abc.ABCMeta.__subclasscheck__().\n",
      " |      It should return True, False or NotImplemented.  If it returns\n",
      " |      NotImplemented, the normal algorithm is used.  Otherwise, it\n",
      " |      overrides the normal algorithm (and the outcome is cached).\n",
      " |  \n",
      " |  ----------------------------------------------------------------------\n",
      " |  Static methods defined here:\n",
      " |  \n",
      " |  __new__(*args, **kwargs) from builtins.type\n",
      " |      Create and return a new object.  See help(type) for accurate signature.\n",
      " |  \n",
      " |  ----------------------------------------------------------------------\n",
      " |  Data and other attributes defined here:\n",
      " |  \n",
      " |  __class__ = <class 'type'>\n",
      " |      type(object) -> the object's type\n",
      " |      type(name, bases, dict, **kwds) -> a new type\n",
      "\n"
     ]
    }
   ],
   "source": [
    "help(object)\n"
   ]
  },
  {
   "cell_type": "markdown",
   "id": "2b90d5c0",
   "metadata": {},
   "source": [
    "### Budujemy pierwsza hierarchie klas"
   ]
  },
  {
   "cell_type": "markdown",
   "id": "74ee2f81",
   "metadata": {},
   "source": [
    "- tworzymy klase bazowa Animal\n",
    "- tworzymy klasy wyprowadzone: Pies i Kot\n",
    "\n",
    "- Przedyskutowac co nam daje dziedziczenie klas.\n",
    "\n",
    "- jak zadeklarowac klase wyprowadzona\n",
    "- wspolny konstruktor w klasie bazowej\n",
    "- wspolne metody w klasie bazowej\n",
    "- puste metody (pass) w klasie bazowej definujace interfejs, ktory bedzie zaimplementowany w klasach wyprowadzonych\n",
    "\n",
    "![pies-i-kot](./img/pies-kot.png)\n"
   ]
  },
  {
   "cell_type": "code",
   "execution_count": 34,
   "id": "49dd8b61",
   "metadata": {},
   "outputs": [
    {
     "name": "stdout",
     "output_type": "stream",
     "text": [
      "> yetti, nazywam sie yetti\n",
      "> pies, nazywam sie Bobik\n",
      "hau hau\n",
      "> kot, nazywam sie Filemon\n",
      "miau, miau\n"
     ]
    }
   ],
   "source": [
    "class Animal:\n",
    "    def __init__(self, nazwa, gatunek):\n",
    "        self.nazwa = nazwa\n",
    "        self.gatunek = gatunek\n",
    "        \n",
    "    def dajGlos(self):\n",
    "        pass\n",
    "        \n",
    "    def kimJestes(self):\n",
    "        print(f\"> {self.gatunek}, nazywam sie {self.nazwa}\")\n",
    "        self.dajGlos()\n",
    "        \n",
    "\n",
    "class Pies(Animal):\n",
    "    def dajGlos(self):\n",
    "        print(\"hau hau\")\n",
    "        \n",
    "        \n",
    "class Kot(Animal):\n",
    "    def dajGlos(self):\n",
    "        print(\"miau, miau\")\n",
    "        \n",
    "zoo = [\n",
    "    Animal(\"yetti\", \"yetti\"),\n",
    "    Pies(\"Bobik\", \"pies\"),\n",
    "    Kot(\"Filemon\", \"kot\")\n",
    "]\n",
    "        \n",
    "for a in zoo:\n",
    "    a.kimJestes()"
   ]
  },
  {
   "cell_type": "markdown",
   "id": "b1c989f9",
   "metadata": {},
   "source": [
    "### Rozbudowujemy rodzine klas, dodajem kolejne poziomy dziedziczenia\n",
    "- budujemy rodzine klas Animal <- Ptak <- Kaczka\n",
    "- wolanie metody z klasy bazowej - dwa sposoby\n",
    "\n",
    "![animals](./img/animals.png)"
   ]
  },
  {
   "cell_type": "code",
   "execution_count": 1,
   "id": "18eabb88",
   "metadata": {
    "scrolled": true
   },
   "outputs": [
    {
     "name": "stdout",
     "output_type": "stream",
     "text": [
      "> yetti, nazywam sie yetti\n",
      "> pies, nazywam sie Bobik\n",
      "hau hau\n",
      "> kot, nazywam sie Filemon\n",
      "miau, miau\n",
      "> kaczka, nazywam sie Donald\n",
      "kwa kwa\n",
      "> tygrys, nazywam sie dsfdsf\n"
     ]
    }
   ],
   "source": [
    "class Animal:\n",
    "    def __init__(self, nazwa, gatunek):\n",
    "        self.nazwa = nazwa\n",
    "        self.gatunek = gatunek\n",
    "    \n",
    "    def dajGlos(self):\n",
    "        pass\n",
    "        \n",
    "    def kimJestes(self):\n",
    "        print(f\"> {self.gatunek}, nazywam sie {self.nazwa}\")\n",
    "        self.dajGlos()\n",
    "        \n",
    "\n",
    "class Pies(Animal):\n",
    "    def dajGlos(self):\n",
    "        print(\"hau hau\")\n",
    "        \n",
    "        \n",
    "class Kot(Animal):\n",
    "    def dajGlos(self):\n",
    "        print(\"miau, miau\")\n",
    "        \n",
    "class Ptak(Animal):\n",
    "    pass\n",
    "\n",
    "class Kaczka(Ptak):\n",
    "    def dajGlos(self):\n",
    "        print(f\"kwa kwa\")    \n",
    "        \n",
    "class Tygrys(Kot):\n",
    "    def dajGlos(self):\n",
    "        # nadpsiujemy metode z klasy Kot, dlatego nasz tygrys bedzie milczacy :)\n",
    "        pass \n",
    "    \n",
    "zoo = [\n",
    "    Animal(\"yetti\", \"yetti\"),\n",
    "    Pies(\"Bobik\", \"pies\"),\n",
    "    Kot(\"Filemon\", \"kot\"),\n",
    "    Kaczka(\"Donald\", \"kaczka\"),\n",
    "    Tygrys(\"dsfdsf\", \"tygrys\")\n",
    "]\n",
    "      \n",
    "    \n",
    "for a in zoo:\n",
    "    a.kimJestes()\n"
   ]
  },
  {
   "cell_type": "markdown",
   "id": "496afdfa",
   "metadata": {},
   "source": [
    "* wolanie metody z klasy bazowej - dwa sposoby \n",
    "\n",
    "# tu skonczylismy"
   ]
  },
  {
   "cell_type": "code",
   "execution_count": 19,
   "id": "7a16f69a",
   "metadata": {},
   "outputs": [
    {
     "name": "stdout",
     "output_type": "stream",
     "text": [
      ">> Ptak.mojGatunek\n",
      ">> Animal:mojGatunek\n",
      "animal/ptak\n",
      ">> Ptak.mojGatunek\n",
      ">> Animal:mojGatunek\n",
      "animal/ptak/kaczka\n"
     ]
    }
   ],
   "source": [
    "class Animal:\n",
    "    def __init__(self, nazwa):\n",
    "        self.nazwa = nazwa\n",
    "        \n",
    "    def mojGatunek(self):\n",
    "        print(\">> Animal:mojGatunek\")\n",
    "        return 'animal'\n",
    "\n",
    "class Ptak(Animal):\n",
    "    \n",
    "    def mojGatunek(self):\n",
    "        # animal/ptak\n",
    "        print(\">> Ptak.mojGatunek\")\n",
    "        tmp = super().mojGatunek()    # sposob 1\n",
    "        return tmp + \"/ptak\"\n",
    "    \n",
    "    \n",
    "class Kaczka(Ptak):\n",
    "    def mojGatunek(self):\n",
    "        # animal/ptak/kaczka\n",
    "        tmp = Ptak.mojGatunek(self)   # sposob 2\n",
    "        return tmp + \"/kaczka\"\n",
    "        \n",
    "    \n",
    "    \n",
    "# animal/ptak\n",
    "# animal/ptak/kaczka\n",
    "\n",
    "p = Ptak(\"Pedziwiatr\")\n",
    "print(p.mojGatunek())\n",
    "\n",
    "k = Kaczka(\"Duffy\")\n",
    "print(k.mojGatunek())"
   ]
  },
  {
   "cell_type": "markdown",
   "id": "a613e31e",
   "metadata": {},
   "source": [
    "### Konstruktor klasy wyprowadzone\n",
    "- dodajemy konstruktor do klasy wyprowadzonej\n",
    "- sprawdzenie czy konstruktory klas bazowych wolaja sie automatycznie\n"
   ]
  },
  {
   "cell_type": "code",
   "execution_count": 23,
   "id": "d9786458",
   "metadata": {},
   "outputs": [
    {
     "name": "stdout",
     "output_type": "stream",
     "text": [
      "Kaczka>>__init__\n",
      "(<class '__main__.Kaczka'>, <class '__main__.Animal'>, <class 'object'>)\n"
     ]
    }
   ],
   "source": [
    "class Animal:\n",
    "    def __init__(self, *args):\n",
    "        print(\"Animal>>__init__\")\n",
    "        \n",
    "class Ptak(Animal):\n",
    "    def __init__(self, *args):\n",
    "        print(\"Ptak>>__init__\")\n",
    "\n",
    "class Kaczka(Ptak):\n",
    "    def __init__(self, *args):\n",
    "        print(\"Kaczka>>__init__\")\n",
    "\n",
    "\n",
    "k = Kaczka(\"Duffy\")\n",
    "print(Kaczka.__mro__)"
   ]
  },
  {
   "cell_type": "markdown",
   "id": "592deff3",
   "metadata": {},
   "source": [
    "- wywolanie konstruktora z klasy bazowej\n",
    "- czesciowe ustawienie argumentow w wywolaniu konsturktora klasy bazowej\n",
    "- dodanie nowych arg do konstruktora w klasie wyprowadzonej\n",
    "- zmiana istniejacych atrybutow klasy w konstruktorze klasy wyprowadzonej\n",
    "- dodanie nowych atrybutow klasy\n"
   ]
  },
  {
   "cell_type": "code",
   "execution_count": 43,
   "id": "155b5c27",
   "metadata": {},
   "outputs": [
    {
     "name": "stdout",
     "output_type": "stream",
     "text": [
      "> czesc jestem Pies nazywam sie Bobik/Pies\n",
      "> czesc jestem ptak nazywam sie Duffy/ptak\n",
      "> czesc jestem kaczka nazywam sie Donald/kaczka\n",
      "> czesc jestem dzika-kaczka nazywam sie FruFru/dzika-kaczka\n"
     ]
    }
   ],
   "source": [
    "class Animal:\n",
    "    def __init__(self, nazwa, gatunek):\n",
    "        self.nazwa = nazwa\n",
    "        self.rodzaj = gatunek\n",
    "        self.rodzina = self.rodzaj\n",
    "               \n",
    "    def kimJestes(self):\n",
    "        # bardzo skomplkowoany algorytm\n",
    "        print(f\"> czesc jestem {self.rodzaj} nazywam sie {self.nazwa}/{self.rodzina}\")\n",
    "        \n",
    "# Pies\n",
    "# Ptak <- Kaczka <- DzikaKaczka\n",
    "\n",
    "class Pies(Animal):\n",
    "    def __init__(self, _nazwa):\n",
    "        super().__init__(_nazwa, \"Pies\")\n",
    "\n",
    "class Ptak(Animal):\n",
    "    def __init__(self, nazwa, gatunek='ptak'):\n",
    "        super().__init__(nazwa, gatunek)\n",
    "        \n",
    "    \n",
    "class Kaczka(Ptak):\n",
    "    def __init__(self, nazwa, *args):\n",
    "        if args and len(args)>0:\n",
    "            super().__init__(nazwa, args[0])\n",
    "        else:\n",
    "            super().__init__(nazwa, 'kaczka')\n",
    "            \n",
    "        if args and len(args)>1:\n",
    "            self.kolor = 'black'\n",
    "        else:\n",
    "            self.kolor = 'white'\n",
    "\n",
    "class DzikaKaczka(Kaczka):\n",
    "    def __init__(self, nazwa):\n",
    "        super().__init__(nazwa, 'dzika-kaczka')\n",
    "    \n",
    "    \n",
    "zoo = [\n",
    "    Pies(\"Bobik\"),\n",
    "    Ptak(\"Duffy\"),\n",
    "    Kaczka(\"Donald\"),\n",
    "    DzikaKaczka(\"FruFru\")\n",
    "]\n",
    "\n",
    "for a in zoo:\n",
    "    a.kimJestes()\n",
    "        "
   ]
  },
  {
   "cell_type": "markdown",
   "id": "4b5cdb56",
   "metadata": {},
   "source": [
    "### Sprawdzenie czy klasa jest danego typu (uwzgledniajac jej klasy bazowe)\n",
    "- uzycie isinstance() do sprawdzenia typu obiektu \n",
    "- sprawdzenie czy klasa wyprowadzona jest obiektem typu bazowego \n",
    "  - kaczka jest typu Kaczka\n",
    "  - kaczka jest typu Ptak\n",
    "  - kaczka jest typu Animal\n",
    "  - kaczka jest typu Tygrys"
   ]
  },
  {
   "cell_type": "code",
   "execution_count": 48,
   "id": "9e23f74e",
   "metadata": {},
   "outputs": [
    {
     "name": "stdout",
     "output_type": "stream",
     "text": [
      "Jestem \n"
     ]
    }
   ],
   "source": [
    "k = DzikaKaczka(\"Duffy\")\n",
    "\n",
    "if type(k) == Kaczka:\n",
    "    print(\"Jestem\")\n",
    "\n",
    "    \n",
    "if isinstance(k, Animal):\n",
    "    print(\"Jestem \")"
   ]
  },
  {
   "cell_type": "code",
   "execution_count": 50,
   "id": "b415a92d",
   "metadata": {},
   "outputs": [
    {
     "name": "stdout",
     "output_type": "stream",
     "text": [
      "hau hau\n"
     ]
    }
   ],
   "source": [
    "class Pies(Animal):\n",
    "    def __init__(self, _nazwa):\n",
    "        super().__init__(_nazwa, \"Pies\")\n",
    "\n",
    "    def szczekaj(self):\n",
    "        print(\"hau hau\")\n",
    "        \n",
    "\n",
    "#k = DzikaKaczka(\"Duffy\")\n",
    "k = Pies(\"Duffy\")\n",
    "\n",
    "if isinstance(k, Pies):\n",
    "    k.szczekaj()\n"
   ]
  },
  {
   "cell_type": "code",
   "execution_count": 51,
   "id": "22391829",
   "metadata": {},
   "outputs": [
    {
     "ename": "AttributeError",
     "evalue": "'DzikaKaczka' object has no attribute 'szczekaj'",
     "output_type": "error",
     "traceback": [
      "\u001b[1;31m---------------------------------------------------------------------------\u001b[0m",
      "\u001b[1;31mAttributeError\u001b[0m                            Traceback (most recent call last)",
      "Cell \u001b[1;32mIn[51], line 2\u001b[0m\n\u001b[0;32m      1\u001b[0m k \u001b[38;5;241m=\u001b[39m DzikaKaczka(\u001b[38;5;124m\"\u001b[39m\u001b[38;5;124mDuffy\u001b[39m\u001b[38;5;124m\"\u001b[39m)\n\u001b[1;32m----> 2\u001b[0m \u001b[43mk\u001b[49m\u001b[38;5;241;43m.\u001b[39;49m\u001b[43mszczekaj\u001b[49m()\n",
      "\u001b[1;31mAttributeError\u001b[0m: 'DzikaKaczka' object has no attribute 'szczekaj'"
     ]
    }
   ],
   "source": [
    "k = DzikaKaczka(\"Duffy\")\n",
    "k.szczekaj()\n",
    "\n"
   ]
  },
  {
   "cell_type": "code",
   "execution_count": 59,
   "id": "b45bf5f6",
   "metadata": {},
   "outputs": [
    {
     "name": "stdout",
     "output_type": "stream",
     "text": [
      "hau hau\n"
     ]
    }
   ],
   "source": [
    "p = Pies(\"Bobik\")\n",
    "if 'szczekaj' in dir(p):\n",
    "    p.szczekaj()"
   ]
  },
  {
   "cell_type": "markdown",
   "id": "4bc4e699",
   "metadata": {},
   "source": [
    "### Dodajemy metody w klasie wyprowadzonej\n",
    "- dodajemy metody do klasy wyprowadzonej\n",
    "- sprawdzamy czy mozna sie do nich dostac z klasy bazowej\n",
    "- dodajemy wywolanie nowej metody w innej metodzie wolanej w klasie bazowej\n"
   ]
  },
  {
   "cell_type": "code",
   "execution_count": 64,
   "id": "ea52493f",
   "metadata": {
    "scrolled": true
   },
   "outputs": [
    {
     "name": "stdout",
     "output_type": "stream",
     "text": [
      "> czesc jestem pies nazywam sie Bobik\n",
      ">>privmethod\n",
      "hau hau\n"
     ]
    }
   ],
   "source": [
    "class Animal:\n",
    "    def __init__(self, nazwa, gatunek):\n",
    "        self.nazwa = nazwa\n",
    "        self.rodzaj = gatunek\n",
    "           \n",
    "    def classSpecific(self):\n",
    "        pass\n",
    "            \n",
    "    def kimJestes(self):\n",
    "        # bardzo skomplkowoany algorytm\n",
    "        print(f\"> czesc jestem {self.rodzaj} nazywam sie {self.nazwa}\")\n",
    "        self.classSpecific()\n",
    "\n",
    "        \n",
    "class Pies(Animal):\n",
    "    \n",
    "    def classSpecific(self):\n",
    "        self.szczekaj()\n",
    "    \n",
    "    def __mypriv(self):\n",
    "        print(\">>privmethod\")\n",
    "    \n",
    "    def szczekaj(self):\n",
    "        self.__mypriv()\n",
    "        print(\"hau hau\")\n",
    "    \n",
    "    \n",
    "zoo = [\n",
    "    Pies(\"Bobik\", \"pies\")\n",
    "]\n",
    "\n",
    "for a in zoo:\n",
    "    a.kimJestes()\n",
    "           \n",
    "    "
   ]
  },
  {
   "cell_type": "markdown",
   "id": "3af27c3c",
   "metadata": {},
   "source": [
    "### Wzorce projektowe\n",
    "* https://refactoring.guru/pl/design-patterns/behavioral-patterns\n",
    "* https://learning.oreilly.com/library/view/head-first-design/0596007124/\n",
    "\n",
    "Przyklad: Decorator"
   ]
  },
  {
   "cell_type": "code",
   "execution_count": 67,
   "id": "2a5afc8c",
   "metadata": {},
   "outputs": [
    {
     "name": "stdout",
     "output_type": "stream",
     "text": [
      "km=11, kmc=13, kmcc=15 kmmcc=16\n"
     ]
    }
   ],
   "source": [
    "\n",
    "# klasa bazowa dla naszego napoju\n",
    "class Drink:\n",
    "    def cena(self):\n",
    "        pass\n",
    "    \n",
    "# nasz napoj\n",
    "class Kawa(Drink):\n",
    "    def __init__(self):\n",
    "        pass\n",
    "    \n",
    "    def cena(self):\n",
    "        return 10\n",
    "    \n",
    "    \n",
    "# Dekoratory\n",
    "class Dekorator(Drink):\n",
    "    def __init__(self, drink = None):\n",
    "        self.obj = drink\n",
    "    \n",
    "class Mleko(Dekorator):\n",
    "    def cena(self):\n",
    "        return 1 + self.obj.cena()\n",
    "    \n",
    "class Cukier(Dekorator):\n",
    "    def cena(self):\n",
    "        return 2 + self.obj.cena()\n",
    "    \n",
    "    \n",
    "k = Kawa()\n",
    "\n",
    "km = Mleko(k)\n",
    "kmc = Cukier(km)\n",
    "kmcc = Cukier(kmc)\n",
    "\n",
    "kmmcc =  Cukier(Cukier(Mleko(Mleko(Kawa()))))\n",
    "\n",
    "print(f\"km={km.cena()}, kmc={kmc.cena()}, kmcc={kmcc.cena()} kmmcc={kmmcc.cena()}\")\n",
    "    \n",
    "\n",
    "    \n",
    "    "
   ]
  },
  {
   "cell_type": "markdown",
   "id": "45aadbd1",
   "metadata": {},
   "source": [
    "## Wyjatki - obsluga bledow w Python'ie"
   ]
  },
  {
   "cell_type": "markdown",
   "id": "fbdc3f60",
   "metadata": {},
   "source": [
    "- poznajemy klase Exception\n",
    "  - help()\n",
    "  - dir()\n",
    "  - `__dict__`\n",
    "- tworzymy instancje wyjatku\n",
    "- jak rzuic wyjatek \n",
    "- jak najprosciej zlapac wyjatek - blok `try-except`"
   ]
  },
  {
   "cell_type": "code",
   "execution_count": null,
   "id": "bd12506c",
   "metadata": {},
   "outputs": [],
   "source": [
    "a = Exception(\"ala ma kota\", 1, 2,5)\n",
    "print(a.args)"
   ]
  },
  {
   "cell_type": "code",
   "execution_count": 89,
   "id": "e47d8eda",
   "metadata": {},
   "outputs": [
    {
     "name": "stdout",
     "output_type": "stream",
     "text": [
      "rzucam wyjatkiem\n",
      "Zlapalismy wyjatek:  err=> make_noise: a poza zakresem: 1  type(err)=<class 'Exception'>\n",
      "koniec\n"
     ]
    }
   ],
   "source": [
    "\n",
    "def make_noise(a):\n",
    "    if a == 0:\n",
    "        return\n",
    "    \n",
    "    print(\"rzucam wyjatkiem\")\n",
    "    raise Exception(f\"> make_noise: a poza zakresem: {a}\")\n",
    "    print(\"po raise Exception\")\n",
    "    \n",
    "\n",
    "try:\n",
    "    make_noise(1)\n",
    "    print(\">> jestem po make_noise()\")\n",
    "\n",
    "except Exception as err:\n",
    "    print(f\"Zlapalismy wyjatek:  err={err}  type(err)={type(err)}\")\n",
    "    \n",
    "\n",
    "print(\"koniec\")"
   ]
  },
  {
   "cell_type": "markdown",
   "id": "40f3a438",
   "metadata": {},
   "source": [
    "- co nam daje wyjatek \n",
    "- rzucanie wyjatku z zagniezdzonej funkcji - obserwujemy jaki kod sie wykona"
   ]
  },
  {
   "cell_type": "code",
   "execution_count": 93,
   "id": "4e4cf842",
   "metadata": {},
   "outputs": [
    {
     "name": "stdout",
     "output_type": "stream",
     "text": [
      ">> poziom 1\n",
      ">> poziom 2\n",
      ">> poziom 3\n",
      "rzucam wyjatkiem\n",
      "poziom1: exception > make_noise: a poza zakresem: 1\n",
      "Zalpany wyjatek: > make_noise: a poza zakresem: 1\n",
      "koniec\n"
     ]
    }
   ],
   "source": [
    "def poziom3():\n",
    "    print(\">> poziom 3\")\n",
    "    make_noise(1)\n",
    "    print(\"<< poziom 3\")\n",
    "    \n",
    "\n",
    "def poziom2():\n",
    "    print(\">> poziom 2\")\n",
    "    poziom3()\n",
    "    print(\"<< poziom 2\")\n",
    "\n",
    "    \n",
    "def poziom1():\n",
    "    try:\n",
    "        print(\">> poziom 1\")\n",
    "        poziom2()\n",
    "        print(\"<< poziom 1\")\n",
    "    except Exception as e:\n",
    "        print(f\"poziom1: exception {e}\")\n",
    "        raise e\n",
    "        \n",
    "        \n",
    "\n",
    "try:\n",
    "    poziom1()\n",
    "    print(\"za poziom1()\")\n",
    "except Exception as err:\n",
    "    print(f\"Zalpany wyjatek: {err}\")\n",
    "\n",
    "print(\"koniec\")\n"
   ]
  },
  {
   "cell_type": "markdown",
   "id": "9d405d48",
   "metadata": {},
   "source": [
    "### Poznajemy rodzine klas standardowych wyjatkow w Python'ie\n",
    "- lapiemy przyklady wyjatkow z kodu pythona\n",
    "  - IndexError:  `arr[5]`\n",
    "  - KeyError: `dic['foo']`\n",
    "  - AttributeError: `napis.x = 1`\n",
    "  - NameError: `x=a+1`\n",
    "  - TypeError: `len()`, lub zmiana elemntu w tupli\n",
    "  - ZeroDivisionError `12/0`\n",
    "  - FileNotFoundError: `open(\"foo\")`\n",
    "  "
   ]
  },
  {
   "cell_type": "code",
   "execution_count": 103,
   "id": "d38cb76a",
   "metadata": {},
   "outputs": [
    {
     "ename": "FileNotFoundError",
     "evalue": "[Errno 2] No such file or directory: 'foo'",
     "output_type": "error",
     "traceback": [
      "\u001b[1;31m---------------------------------------------------------------------------\u001b[0m",
      "\u001b[1;31mFileNotFoundError\u001b[0m                         Traceback (most recent call last)",
      "Cell \u001b[1;32mIn[103], line 19\u001b[0m\n\u001b[0;32m      1\u001b[0m \u001b[38;5;66;03m#arr = [1,2,3]\u001b[39;00m\n\u001b[0;32m      2\u001b[0m \u001b[38;5;66;03m#arr[5]\u001b[39;00m\n\u001b[0;32m      3\u001b[0m \n\u001b[1;32m   (...)\u001b[0m\n\u001b[0;32m     16\u001b[0m \n\u001b[0;32m     17\u001b[0m \u001b[38;5;66;03m#12/0\u001b[39;00m\n\u001b[1;32m---> 19\u001b[0m \u001b[38;5;28;43mopen\u001b[39;49m\u001b[43m(\u001b[49m\u001b[38;5;124;43m\"\u001b[39;49m\u001b[38;5;124;43mfoo\u001b[39;49m\u001b[38;5;124;43m\"\u001b[39;49m\u001b[43m)\u001b[49m\n",
      "File \u001b[1;32m~\\AppData\\Local\\Programs\\Python\\Python311\\Lib\\site-packages\\IPython\\core\\interactiveshell.py:284\u001b[0m, in \u001b[0;36m_modified_open\u001b[1;34m(file, *args, **kwargs)\u001b[0m\n\u001b[0;32m    277\u001b[0m \u001b[38;5;28;01mif\u001b[39;00m file \u001b[38;5;129;01min\u001b[39;00m {\u001b[38;5;241m0\u001b[39m, \u001b[38;5;241m1\u001b[39m, \u001b[38;5;241m2\u001b[39m}:\n\u001b[0;32m    278\u001b[0m     \u001b[38;5;28;01mraise\u001b[39;00m \u001b[38;5;167;01mValueError\u001b[39;00m(\n\u001b[0;32m    279\u001b[0m         \u001b[38;5;124mf\u001b[39m\u001b[38;5;124m\"\u001b[39m\u001b[38;5;124mIPython won\u001b[39m\u001b[38;5;124m'\u001b[39m\u001b[38;5;124mt let you open fd=\u001b[39m\u001b[38;5;132;01m{\u001b[39;00mfile\u001b[38;5;132;01m}\u001b[39;00m\u001b[38;5;124m by default \u001b[39m\u001b[38;5;124m\"\u001b[39m\n\u001b[0;32m    280\u001b[0m         \u001b[38;5;124m\"\u001b[39m\u001b[38;5;124mas it is likely to crash IPython. If you know what you are doing, \u001b[39m\u001b[38;5;124m\"\u001b[39m\n\u001b[0;32m    281\u001b[0m         \u001b[38;5;124m\"\u001b[39m\u001b[38;5;124myou can use builtins\u001b[39m\u001b[38;5;124m'\u001b[39m\u001b[38;5;124m open.\u001b[39m\u001b[38;5;124m\"\u001b[39m\n\u001b[0;32m    282\u001b[0m     )\n\u001b[1;32m--> 284\u001b[0m \u001b[38;5;28;01mreturn\u001b[39;00m \u001b[43mio_open\u001b[49m\u001b[43m(\u001b[49m\u001b[43mfile\u001b[49m\u001b[43m,\u001b[49m\u001b[43m \u001b[49m\u001b[38;5;241;43m*\u001b[39;49m\u001b[43margs\u001b[49m\u001b[43m,\u001b[49m\u001b[43m \u001b[49m\u001b[38;5;241;43m*\u001b[39;49m\u001b[38;5;241;43m*\u001b[39;49m\u001b[43mkwargs\u001b[49m\u001b[43m)\u001b[49m\n",
      "\u001b[1;31mFileNotFoundError\u001b[0m: [Errno 2] No such file or directory: 'foo'"
     ]
    }
   ],
   "source": [
    "#arr = [1,2,3]\n",
    "#arr[5]\n",
    "\n",
    "#tab = {}\n",
    "#tab['foo']\n",
    "\n",
    "#napis = \"alallal\"\n",
    "#napis.x = 1\n",
    "\n",
    "#x = moj_nie_istniejacy_typ + 1\n",
    "\n",
    "#len('str', 12)\n",
    "#len()\n",
    "#tup = (1, 2)\n",
    "#tup[1] = 1\n",
    "\n",
    "#12/0\n",
    "\n",
    "#open(\"foo\")"
   ]
  },
  {
   "cell_type": "code",
   "execution_count": 104,
   "id": "1eb8d5ad",
   "metadata": {},
   "outputs": [],
   "source": [
    "#help(Exception)"
   ]
  },
  {
   "cell_type": "markdown",
   "id": "0c3e6162",
   "metadata": {},
   "source": [
    "### Lapanie wyjatkow:\n",
    "- lapanie wielu wyjatkow. Zademonstrowac ze kolejnosc lapania ma duze znaczenie\n"
   ]
  },
  {
   "cell_type": "code",
   "execution_count": 119,
   "id": "61ce2104",
   "metadata": {},
   "outputs": [
    {
     "name": "stdout",
     "output_type": "stream",
     "text": [
      " ArithmeticError: OverflowError: buuuu\n"
     ]
    }
   ],
   "source": [
    "wyjatki = [\n",
    "    None,\n",
    "    ArithmeticError(\"Error: ArithmeticError\"),\n",
    "    ZeroDivisionError(\"xxxxx Error: dzielenie przez zero\", 112, 2, 3),\n",
    "    OverflowError(\"OverflowError: buuuu\")\n",
    "]\n",
    "\n",
    "\n",
    "def make_noise(a):\n",
    "    if a > 0 and a < len(wyjatki):\n",
    "        raise wyjatki[a]\n",
    "        \n",
    "\n",
    "try:\n",
    "    make_noise(3)\n",
    "\n",
    "\n",
    "except ZeroDivisionError as err:\n",
    "    print(f\" ZeroDivisionError: {err}\")\n",
    "\n",
    "except ArithmeticError as err:\n",
    "    print(f\" ArithmeticError: {err}\")\n",
    "\n",
    "except Exception as err:\n",
    "    print(f\" Exception: {err}\")\n",
    "    \n",
    "    \n",
    "    "
   ]
  },
  {
   "cell_type": "markdown",
   "id": "5a987996",
   "metadata": {},
   "source": [
    "### Rozne rozne blokow try-except:\n",
    "  - `try-except-finally`\n",
    "  - `try-except-else`\n",
    "  - `try-except-else-finally`"
   ]
  },
  {
   "cell_type": "code",
   "execution_count": 126,
   "id": "6b6821ff",
   "metadata": {},
   "outputs": [
    {
     "name": "stdout",
     "output_type": "stream",
     "text": [
      "Else\n",
      "Finally!\n",
      "Koniec\n"
     ]
    }
   ],
   "source": [
    "try:\n",
    "    make_noise(0)\n",
    "    \n",
    "except Exception as err:\n",
    "    # zawsze jak jest blad/error\n",
    "    print(\"Exception!!\")\n",
    "    \n",
    "else:\n",
    "    # zawsze jak jest sukces\n",
    "    print(\"Else\")\n",
    "    \n",
    "finally:\n",
    "    # wykonuje sie zawsze (czy jest ok czy error)\n",
    "    print(\"Finally!\")\n",
    "    \n",
    "print('Koniec')"
   ]
  },
  {
   "cell_type": "markdown",
   "id": "2898b97a",
   "metadata": {},
   "source": [
    "### Definicja wlasnej klasy wyjatku\n",
    "- tworzymy nasza klase wyjatku. Dziedziczymy z Exception"
   ]
  },
  {
   "cell_type": "code",
   "execution_count": 129,
   "id": "67a24512",
   "metadata": {},
   "outputs": [
    {
     "name": "stdout",
     "output_type": "stream",
     "text": [
      "MyError: To jest moj pierwszy blad!!\n"
     ]
    }
   ],
   "source": [
    "class MyError(Exception):\n",
    "    pass\n",
    "\n",
    "\n",
    "try:\n",
    "    raise MyError(\"To jest moj pierwszy blad!!\")\n",
    "    \n",
    "except MyError as err:\n",
    "    print(f\"MyError: {err}\")\n",
    "\n",
    "except Exception as err:\n",
    "    print(f\"Exception: {err}\")"
   ]
  },
  {
   "cell_type": "markdown",
   "id": "91c83ea2",
   "metadata": {},
   "source": [
    "### [S] Zadanie \n",
    "- w klasie `Punkt` ktora posiada atrybuty `x` oraz `y`, zdefiniowac metode ktora rzuci wyjatkiem `AttributeError` jesli ktos sprobuje dodac do obiektu atrybut dynamicznie, wolajac np: `p.z = 123` "
   ]
  },
  {
   "cell_type": "code",
   "execution_count": 131,
   "id": "053a3129",
   "metadata": {},
   "outputs": [
    {
     "name": "stdout",
     "output_type": "stream",
     "text": [
      "{'x': 1000, 'y': 20}\n",
      "1000\n",
      "wyjatek! Klasa Punkt nie posiada atrybutu: z\n"
     ]
    }
   ],
   "source": [
    "class Punkt:\n",
    "    def __init__(self, x, y):\n",
    "        self.x = x\n",
    "        self.y = y\n",
    "\n",
    "    def __setattr__(self, name, value):\n",
    "        if name == 'x' or name == 'y':\n",
    "            self.__dict__[name] = value\n",
    "        else:\n",
    "            raise AttributeError(f\"Klasa Punkt nie posiada atrybutu: {name}\")\n",
    "        \n",
    "        \n",
    "try:        \n",
    "    a = Punkt(10, 20)\n",
    "    a.x = 1000\n",
    "\n",
    "    print(a.__dict__)\n",
    "    print(a.x)\n",
    "\n",
    "    a.z = 12\n",
    "    \n",
    "except Exception as err:\n",
    "    print(f\"wyjatek! {err}\")\n",
    "\n",
    "    \n"
   ]
  }
 ],
 "metadata": {
  "kernelspec": {
   "display_name": "Python 3 (ipykernel)",
   "language": "python",
   "name": "python3"
  },
  "language_info": {
   "codemirror_mode": {
    "name": "ipython",
    "version": 3
   },
   "file_extension": ".py",
   "mimetype": "text/x-python",
   "name": "python",
   "nbconvert_exporter": "python",
   "pygments_lexer": "ipython3",
   "version": "3.11.3"
  }
 },
 "nbformat": 4,
 "nbformat_minor": 5
}
