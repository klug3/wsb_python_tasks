{
 "cells": [
  {
   "cell_type": "markdown",
   "id": "several-method",
   "metadata": {},
   "source": [
    "Python3 / Ćwiczenia 1\n",
    "=======\n",
    "\n",
    "# Zmienne"
   ]
  },
  {
   "cell_type": "code",
   "execution_count": null,
   "id": "demanding-defense",
   "metadata": {},
   "outputs": [],
   "source": [
    "# wstaw liczbę calkowitą\n",
    "i = ...\n",
    "\n",
    "# wstaw liczbę zmiennoprzecinkową\n",
    "f =  ...\n",
    "\n",
    "# wstaw text\n",
    "s = ...\n",
    "\n",
    "# wstaw prawda/falsz\n",
    "b = ...\n",
    "\n",
    "print(i)\n",
    "print(f)\n",
    "print(b)\n",
    "print(s)"
   ]
  },
  {
   "cell_type": "code",
   "execution_count": null,
   "id": "important-stuff",
   "metadata": {},
   "outputs": [],
   "source": [
    "# wypisz na ekran wartość bezwzględną liczby\n",
    "\n",
    "a = 100\n",
    "b = -20\n",
    "\n",
    "print(...)"
   ]
  },
  {
   "cell_type": "code",
   "execution_count": null,
   "id": "dutch-victoria",
   "metadata": {},
   "outputs": [],
   "source": [
    "# wypisz sumę trzech podanych liczb a, b, c\n",
    "\n",
    "a, b, c = 10, 20, 30\n",
    "print(...)"
   ]
  },
  {
   "cell_type": "code",
   "execution_count": null,
   "id": "083422ef",
   "metadata": {},
   "outputs": [],
   "source": [
    "# sprawdz czy podane liczby \n",
    "# a*x^2 + b*x + c = 0 maja 1 rozwiązanie (wykorzystaj deltę)\n",
    "\n",
    "delta = \n",
    "a = ...\n",
    "b = ...\n",
    "c = ..."
   ]
  },
  {
   "cell_type": "code",
   "execution_count": null,
   "id": "experienced-mailman",
   "metadata": {},
   "outputs": [],
   "source": [
    "# napisz funkcje obliczającą średnią arytmentyczną dwóch liczb\n",
    "\n",
    "def srednia(x, y):\n",
    "    return ...\n",
    "\n",
    "# sprawdzenie\n",
    "print(srednia(2, 2) == 2)\n",
    "print(srednia(0, 0) == 0)\n",
    "print(srednia(1.0, 2.0) == 1.5)"
   ]
  },
  {
   "cell_type": "code",
   "execution_count": null,
   "id": "incomplete-compatibility",
   "metadata": {},
   "outputs": [],
   "source": [
    "# napisz funkcję, ktora zwraca True, gdy oba argumenty są True\n",
    "\n",
    "def prawda(x, y):\n",
    "    ...\n",
    "    \n",
    "# sprawdzenie\n",
    "print(prawda(True, True) == True)\n",
    "print(not prawda(True, False) == True)\n",
    "print(not prawda(False, False) == True)"
   ]
  },
  {
   "cell_type": "code",
   "execution_count": null,
   "id": "5352838a",
   "metadata": {},
   "outputs": [],
   "source": [
    "# napisz funkcję, która zwraca logiczne XOR (wylacznie gdy jeden element jest True)\n",
    "\n",
    "def xor(x, y):\n",
    "    ...\n",
    "    \n",
    "# sprawdzenie\n",
    "print(xor(True, True) == False)\n",
    "print(xor(True, False) == True)\n",
    "print(xor(False, True) == True)\n",
    "print(xor(False, False) == False)"
   ]
  },
  {
   "cell_type": "code",
   "execution_count": null,
   "id": "guilty-senate",
   "metadata": {},
   "outputs": [],
   "source": [
    "# napisz funkcje sprawdzajacą czy liczba 'a' jest kwadratem liczby calkowitej (np. 4=2*2)\n",
    "#  math.sqrt(a) oblicza pierwiastek liczby\n",
    "\n",
    "import math\n",
    "\n",
    "def jest_kwadratem(a):\n",
    "    return ...\n",
    "    \n",
    "# sprawdzenie\n",
    "print(jest_kwadratem(4) == True)\n",
    "print(jest_kwadratem(5) == False)"
   ]
  },
  {
   "cell_type": "markdown",
   "id": "brief-perfume",
   "metadata": {},
   "source": [
    "# Napisy"
   ]
  },
  {
   "cell_type": "code",
   "execution_count": null,
   "id": "incorporated-julian",
   "metadata": {},
   "outputs": [],
   "source": [
    "text = ' Ala ma kota. '\n",
    "\n",
    "# oblicz dlugosc textu\n",
    "dlugosc = "
   ]
  },
  {
   "cell_type": "code",
   "execution_count": null,
   "id": "88429b8a",
   "metadata": {},
   "outputs": [],
   "source": [
    "# zamien text odpowiednio na małe litery, duże litery, usuń spacje\n",
    "male = \n",
    "duze = \n",
    "bez_spacji = "
   ]
  },
  {
   "cell_type": "code",
   "execution_count": null,
   "id": "f6862334",
   "metadata": {},
   "outputs": [],
   "source": [
    "# zamien slowo 'kota' na 'psa'\n",
    "nowy_text = \"ala ma kota.\""
   ]
  },
  {
   "cell_type": "code",
   "execution_count": null,
   "id": "tropical-minutes",
   "metadata": {},
   "outputs": [],
   "source": [
    "# sprawdzenie\n",
    "print(dlugosc == 14)\n",
    "print(male == ' ala ma kota. ')\n",
    "print(bez_spacji == 'Alamakota.')\n",
    "print('psa' not in nowy_text)"
   ]
  },
  {
   "cell_type": "code",
   "execution_count": null,
   "id": "circular-disposition",
   "metadata": {},
   "outputs": [],
   "source": [
    "# napisz funkcje obliczającą dlugość tekstu (w oparciu o while)\n",
    "def rozmiar(txt):\n",
    "...\n"
   ]
  },
  {
   "cell_type": "code",
   "execution_count": null,
   "id": "96a7635c",
   "metadata": {},
   "outputs": [],
   "source": [
    "# sprawdzenie\n",
    "print(size('') == 0)\n",
    "print(size('a') == 1)\n",
    "print(size ('abcd') == 4)"
   ]
  },
  {
   "cell_type": "code",
   "execution_count": null,
   "id": "massive-reducing",
   "metadata": {},
   "outputs": [],
   "source": [
    "# napisz funkcję sprawdzającą czy dane znak jest w tekscie\n",
    "\n",
    "def jest(txt, znak):\n",
    "    ...\n",
    "             \n",
    "print(jest('abcd', 'a'))\n",
    "print(jest('abcd', 'z') == False)"
   ]
  },
  {
   "cell_type": "markdown",
   "id": "empty-burst",
   "metadata": {},
   "source": [
    "# Napisy wielolinijkowe"
   ]
  },
  {
   "cell_type": "code",
   "execution_count": null,
   "id": "usual-integration",
   "metadata": {},
   "outputs": [],
   "source": [
    "# utworz napis conajmniej 2 wierszowy skladajacy sie z kilku słów\n",
    "\n",
    "text = \"\"\"\n",
    "\"\"\""
   ]
  },
  {
   "cell_type": "code",
   "execution_count": null,
   "id": "nervous-situation",
   "metadata": {},
   "outputs": [],
   "source": [
    "# sprawdzenie\n",
    "print(len(text.split('\\n')) > 1)\n",
    "print(len(text.split()) > 1)"
   ]
  },
  {
   "cell_type": "code",
   "execution_count": null,
   "id": "smaller-spectrum",
   "metadata": {},
   "outputs": [],
   "source": [
    "lorem = \"\"\"Lorem ipsum dolor sit amet, consectetur adipiscing elit. \n",
    "Phasellus bibendum lacinia nisl vel eleifend. Integer ac arcu est.\n",
    "Mauris eget gravida odio. Donec posuere sodales elit.\n",
    "Mauris nibh est, porttitor id sapien quis, mattis finibus dolor. \n",
    "Maecenas sit amet eros eget mi rutrum mattis sit amet sed purus.\n",
    "Ut mollis, ipsum a aliquet facilisis, libero quam ultricies nunc, eu rhoncus tellus dolor in orci.\"\"\"\n",
    "\n",
    "# oblicz ile jest wystapien dolor\n",
    "dolor = ...\n",
    "\n",
    "# odwroc kolejnosc znakow w tekscie lorem\n",
    "odwrocone = ...\n",
    "\n",
    "# wybierz 1sze slowo\n",
    "slowo = ...\n",
    "\n",
    "# wybierz ostatnie slowo\n",
    "ostatnie = ...\n",
    "\n",
    "# utworz liste zdan, ktore rozdzielone sa '.'\n",
    "zdania = ...\n",
    "\n",
    "# odwroc kolejnosc zdan\n",
    "odwrocone_zdania = ... "
   ]
  },
  {
   "cell_type": "code",
   "execution_count": null,
   "id": "mobile-cruise",
   "metadata": {},
   "outputs": [],
   "source": [
    "# sprawdzenie\n",
    "print(dolor == 3, \"powinny byc 3 wystapienia dolor\")\n",
    "print(odwrocone.split().pop() == \"meroL\")\n",
    "print(slowo == 'Lorem')\n",
    "print(ostatnie == \"orci.\") \n",
    "print(len(zdania) == 9)\n",
    "print(odwrocone_zdania.pop() == \"Lorem ipsum dolor sit amet, consectetur adipiscing elit\")"
   ]
  },
  {
   "cell_type": "code",
   "execution_count": null,
   "id": "9d4b6bab",
   "metadata": {},
   "outputs": [],
   "source": []
  }
 ],
 "metadata": {
  "kernelspec": {
   "display_name": "Python 3 (ipykernel)",
   "language": "python",
   "name": "python3"
  },
  "language_info": {
   "codemirror_mode": {
    "name": "ipython",
    "version": 3
   },
   "file_extension": ".py",
   "mimetype": "text/x-python",
   "name": "python",
   "nbconvert_exporter": "python",
   "pygments_lexer": "ipython3",
   "version": "3.11.2"
  }
 },
 "nbformat": 4,
 "nbformat_minor": 5
}
