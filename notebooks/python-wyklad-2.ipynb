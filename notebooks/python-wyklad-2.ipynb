{
 "cells": [
  {
   "cell_type": "markdown",
   "id": "1a4ec807",
   "metadata": {},
   "source": [
    "![](https://www.python.org/static/community_logos/python-logo-master-v3-TM.png)"
   ]
  },
  {
   "cell_type": "markdown",
   "id": "damaged-bradford",
   "metadata": {},
   "source": [
    "# Programowanie w języku Python (część druga)\n",
    "* Krzysztof Geściak [krzysztof.gesciak@nokia.com]\n",
    "\n"
   ]
  },
  {
   "cell_type": "markdown",
   "id": "6b93a9c9",
   "metadata": {},
   "source": [
    "# Spis Treści (2ga część)\n",
    "\n",
    "1. Kolekcje\n",
    "1. Funkcje, zakresy, argumenty\n",
    "1. Pliki i deskryptory\n",
    "1. Biblioteki/Moduły"
   ]
  },
  {
   "cell_type": "markdown",
   "id": "32366376",
   "metadata": {},
   "source": [
    "# Kolekcje\n",
    "\n",
    "|Struktura|Identifikator|Pusta|\tPrzykład|\tOpis|\n",
    "|-|-|-|-|-|\n",
    "|Lista|\t    list() |\t[]|\t[1, 2, 3, 3, 3, 4]\t|Uporządkowana kolekcja obiektów\n",
    "|Słownik|\tdict() |\t{}|\t{\"Jan\":1, \"Feb\":2}\t|Kolekcja obiektów identyfikowana przez unikalny identyfikator (klucz)\n",
    "|Zbiór|\t    set()  |\t{}<br>set([])|{1,2,3}<br>set([1, 2, 3])\t|Nieuporządkowana kolekcja unikalnych obiektów\n",
    "|Krotka|\ttuple()|\t()|\t(0, 0, 255)\t|Lista bez możliwości modyfikacji\n",
    "\n"
   ]
  },
  {
   "cell_type": "code",
   "execution_count": 5,
   "id": "50e0347e",
   "metadata": {},
   "outputs": [
    {
     "name": "stdout",
     "output_type": "stream",
     "text": [
      "lista: ['a', 'b', 'c']\n",
      "slownik: {'z': 0, 'x': 0, 'y': 1}\n",
      "zbior: {0, 1}\n",
      "krotka: (0, 0, 1, 1)\n"
     ]
    }
   ],
   "source": [
    "lista_0 = []\n",
    "lista_0 = list()\n",
    "lista = [\"a\", 'b', 'c']\n",
    "\n",
    "słownik_0 = {}\n",
    "slownik_0 = dict()\n",
    "slownik = {'z':0, 'x':0, 'y':1}\n",
    "\n",
    "zbior_0 = set([])\n",
    "zbior = {0, 0, 1, 1}\n",
    "\n",
    "krotka_0 = ()\n",
    "krotka = (0, 0 , 1, 1)\n",
    "\n",
    "print('lista:', lista)\n",
    "print('slownik:', slownik)\n",
    "print('zbior:', zbior)\n",
    "print('krotka:', krotka)"
   ]
  },
  {
   "cell_type": "markdown",
   "id": "ebacf2b9",
   "metadata": {},
   "source": [
    "## Listy\n",
    "\n",
    "* Uporządkowana kolekcja elementów\n",
    " * 1szy element ma index[0]\n",
    " * 2gi mam index [1] itd.\n",
    " * ostatni element ma index [-1] lub len(lista)-1\n",
    "* len() zwraca długość\n",
    "* uszeregowane (elementy mają swoją kolejność)\n",
    "* można modyfikować (dodawać/usuwać/modyfikować elementy)\n",
    "* można zmieniać kolejnośc (sortować)\n",
    "* pozwalają na przechowywanie duplikatów (elementów o tej samej wartości)\n",
    "* dodanie/append() dorzuca element na koniec listy\n",
    "* lista może przechowywać dowolne elementy\n",
    "* ma wbudowane metody \n",
    "    * np. pop() zdejmuje ostatni element z listy\n"
   ]
  },
  {
   "cell_type": "code",
   "execution_count": 36,
   "id": "30c48f2c",
   "metadata": {},
   "outputs": [
    {
     "name": "stdout",
     "output_type": "stream",
     "text": [
      "[2020, 2021, 2022]\n",
      "3\n"
     ]
    }
   ],
   "source": [
    "lista0 = []\n",
    "lista = [2020, 2021, 2022]\n",
    " \n",
    "print(lista)\n",
    "print(len(lista))"
   ]
  },
  {
   "cell_type": "code",
   "execution_count": 37,
   "id": "4c0248ea",
   "metadata": {},
   "outputs": [
    {
     "name": "stdout",
     "output_type": "stream",
     "text": [
      "[2020, 2021, 2022, '1']\n"
     ]
    }
   ],
   "source": [
    "lista.append('1')\n",
    "print(lista)"
   ]
  },
  {
   "cell_type": "code",
   "execution_count": 45,
   "id": "fff01a34",
   "metadata": {},
   "outputs": [
    {
     "name": "stdout",
     "output_type": "stream",
     "text": [
      "['1', 2020, 2021, 2022]\n",
      "1 2020 2022\n"
     ]
    }
   ],
   "source": [
    "lista.sort(key=int)\n",
    "print(lista)\n",
    "print(lista[0], lista[1], lista[-1])"
   ]
  },
  {
   "cell_type": "code",
   "execution_count": 46,
   "id": "df6c0813",
   "metadata": {},
   "outputs": [
    {
     "name": "stdout",
     "output_type": "stream",
     "text": [
      "[0, True, 100, 10.0, ['1', 2020, 2021, 2022]]\n"
     ]
    }
   ],
   "source": [
    "mix = [0, True, 100, 10.0, lista]\n",
    "print(mix)\n"
   ]
  },
  {
   "cell_type": "code",
   "execution_count": 47,
   "id": "7e082dde",
   "metadata": {},
   "outputs": [
    {
     "name": "stdout",
     "output_type": "stream",
     "text": [
      "[0, True, 100, 10.0, ['1', 2020, 2021, 2022]]\n",
      "[0, True, 100, 10.0]\n",
      "ostatni: ['1', 2020, 2021, 2022]\n",
      "[0, True, 100, 10.0]\n"
     ]
    }
   ],
   "source": [
    "print(mix)\n",
    "element = mix.pop() # wyjmij ostatni element\n",
    "print(mix)\n",
    "print('ostatni:', element)\n",
    "print(mix)"
   ]
  },
  {
   "cell_type": "code",
   "execution_count": 52,
   "id": "bacd59f4",
   "metadata": {},
   "outputs": [
    {
     "name": "stdout",
     "output_type": "stream",
     "text": [
      "[10.0]\n",
      "[]\n",
      "pierwszy: 10.0\n",
      "['a', 'b', 'c', 'd', 'e', 'a', 'b', 'c', 'd']\n",
      "abcdeabcd\n"
     ]
    }
   ],
   "source": [
    "print(mix)\n",
    "element = mix.pop(0) # wyjmij pierwszy element\n",
    "print(mix)\n",
    "print('pierwszy:', element)\n",
    "\n",
    "text = 'a b c d e a b c d'\n",
    "lista_znakow = text.split(' ')\n",
    "print(lista_znakow)\n",
    "print(''.join(lista_znakow))"
   ]
  },
  {
   "cell_type": "markdown",
   "id": "d74897e4",
   "metadata": {},
   "source": [
    "## Słowniki\n",
    "\n",
    "* Kolekcja elementów identyfikowanych kluczem\n",
    "* przechowuje elementy w postaci klucz:wartość\n",
    "* odwołanie do elementu poprzez [klucz]\n",
    "* klucze muszą być unikalne\n",
    "* klucze mogą być liczbami, napisami\n",
    "* nie ma określonego porządku\n",
    "* można modyfikować (dodawać, usuwać, zastępować elementy)\n",
    "* posiada zestaw wbudowanych metod\n",
    "  * np. keys() zwraca listę kluczy\n",
    "  * values() zwraca listę wartości\n",
    "  * items() zwraca listę par (klucz, wartość)\n",
    "* operator ‚in’ zwraca True jeśli istnieje element o danym kluczu\n"
   ]
  },
  {
   "cell_type": "code",
   "execution_count": null,
   "id": "2b78ca27",
   "metadata": {},
   "outputs": [],
   "source": [
    "osoba = {'imie': 'Jan', 'nazwisko': 'Kowalski'}\n",
    " \n",
    "print(osoba)\n",
    "print(osoba['nazwisko'])\n",
    "print(osoba.get('wiek', 'Nieznany'))\n",
    " \n",
    "osoba['wiek'] = 30\n",
    "print(osoba)   "
   ]
  },
  {
   "cell_type": "code",
   "execution_count": null,
   "id": "900dc37d",
   "metadata": {},
   "outputs": [],
   "source": [
    "osoba['wiek'] = 40\n",
    "print(osoba)  "
   ]
  },
  {
   "cell_type": "code",
   "execution_count": null,
   "id": "389565f4",
   "metadata": {},
   "outputs": [],
   "source": [
    "print(len(osoba))"
   ]
  },
  {
   "cell_type": "code",
   "execution_count": null,
   "id": "743372fc",
   "metadata": {},
   "outputs": [],
   "source": [
    "del osoba['wiek']\n",
    "print(osoba)"
   ]
  },
  {
   "cell_type": "code",
   "execution_count": null,
   "id": "a74a9705",
   "metadata": {},
   "outputs": [],
   "source": [
    "print('rozmiar:', len(osoba))\n",
    "print('klucze:', osoba.keys())\n",
    "print('wartosci:', osoba.values())\n",
    "print('elementy:', osoba.items())"
   ]
  },
  {
   "cell_type": "code",
   "execution_count": null,
   "id": "342f04fe",
   "metadata": {},
   "outputs": [],
   "source": [
    "print('wiek' in osoba)\n",
    "print('nazwisko' in osoba)\n",
    "\n",
    "for k in ['imie', 'nazwisko', 'wiek']:\n",
    "    print(k, osoba.get(k, ''))"
   ]
  },
  {
   "cell_type": "markdown",
   "id": "e1368a74",
   "metadata": {},
   "source": [
    "## Zbiory\n",
    "\n",
    "* Kolekcja elementów (zbiór)\n",
    "* nie ma określonego porządku\n",
    "* nie ma dostępu przez klucz lub index\n",
    "* cos jest w zbiorze lub go nie ma\n",
    "* nie ma duplikatów (duplikaty są ignorowane)\n",
    "* można przetworzyć/iterować po po elementach zbioru\n",
    "* można modyfikować (dodawać, usuwać)\n",
    "* operator ‚in’ zwraca True jeśli istnieje element w zbiorze\n"
   ]
  },
  {
   "cell_type": "code",
   "execution_count": null,
   "id": "894ccd89",
   "metadata": {},
   "outputs": [],
   "source": [
    "zbior = set()\n",
    "zbior = {5,5,5,4,3,2,1,1,1}\n",
    "print(zbior)"
   ]
  },
  {
   "cell_type": "code",
   "execution_count": null,
   "id": "3c2547de",
   "metadata": {},
   "outputs": [],
   "source": [
    "bool = {True, True, True, True, False}\n",
    "print(bool)\n",
    "\n",
    "order = {5, 5, 4, 4, 3, 3, 2, 2, 1, 1}\n",
    "print(order)"
   ]
  },
  {
   "cell_type": "code",
   "execution_count": null,
   "id": "4f3a583f",
   "metadata": {},
   "outputs": [],
   "source": [
    "a = set([0, 1, 2, 3])\n",
    "b = set([0, -1, -2, -3])\n",
    "\n",
    "c = set(a)  # kopia\n",
    "c.update(b) # uaktualnij\n",
    "\n",
    "print('a+b:', set(list(a) + list(b)))\n",
    "print('c:', c) # suma a+b\n",
    "print('a-b:', a - b)\n",
    "print ('b-a:', b - a)\n",
    "print('a i b:', a.intersection(b)) \n",
    "print(0 in b)"
   ]
  },
  {
   "cell_type": "markdown",
   "id": "461c7431",
   "metadata": {},
   "source": [
    "## Krotki\n",
    "\n",
    "* Uporządkowana i niemodyfikowalna kolekcja elementów\n",
    " * 1szy element ma index[0]\n",
    " * 2gi mam index [1] itd.\n",
    "* len() zwraca długość\n",
    "* uszeregowane (elementy mają swoją kolejność)\n",
    "* nie można modyfikować\n",
    "* nie można zmieniać kolejności\n",
    "* pozwalają na przechowywanie duplikatów\n",
    "* tuple/krotka może przechowywać dowolne elementy\n"
   ]
  },
  {
   "cell_type": "code",
   "execution_count": null,
   "id": "db59a047",
   "metadata": {},
   "outputs": [],
   "source": [
    "weekend = ('Saturday', 'Sunday')\n",
    "print(weekend)\n",
    "example = (False, 0, \"1\", 2.0)\n",
    "print(example)"
   ]
  },
  {
   "cell_type": "markdown",
   "id": "iraqi-soccer",
   "metadata": {},
   "source": [
    "# Funkcje\n",
    "\n",
    "## Składnia funkcji\n",
    "\n",
    "- funkcja deklarowana jest przez *def*\n",
    "```python\n",
    "def hello():\n",
    "    print(\"Witaj\")\n",
    "```\n",
    "- funkcja jest wykonywana poprzez podanie nazwy wraz z nawiasami\n",
    "```python\n",
    "hello()\n",
    "```\n",
    "- mozna przekazywać informacje do funkcji poprzez argumenty\n",
    "  - argumenty sa przekazywane w nawiasach funkcji, rozdzielone przecinkami\n",
    "  \n",
    "```python\n",
    "def show(text):\n",
    "    print(text)\n",
    "show('to jest 1szy argument')\n",
    "``` \n",
    "- mozna przekazywac dużą liczbę argumentow\n",
    "```python\n",
    "def delta(a, b, c):\n",
    "    d = (b * b) - (4 * a * c) # b^2-4ac\n",
    "    return d \n",
    "```\n",
    "- funkcja moze zwracać rezultat poprzez *return*\n",
    "- funkcja bez return, zwraca *None*\n",
    "```python\n",
    "def nic():\n",
    "    print('return tu nie ma')\n",
    "    # zwracane jest None\n",
    "n = nic()\n",
    "```\n",
    "- funkcja może zwracać wiele wartości\n",
    "```python\n",
    "def min_max(dane):\n",
    "    return min(dane), max(dane)\n",
    "```"
   ]
  },
  {
   "cell_type": "markdown",
   "id": "recent-climate",
   "metadata": {},
   "source": [
    "### Przykłady"
   ]
  },
  {
   "cell_type": "code",
   "execution_count": null,
   "id": "commercial-bench",
   "metadata": {},
   "outputs": [],
   "source": [
    "def hello():\n",
    "    print('Witaj')\n",
    "    \n",
    "ret = hello()\n",
    "print(ret)"
   ]
  },
  {
   "cell_type": "code",
   "execution_count": null,
   "id": "impossible-bennett",
   "metadata": {},
   "outputs": [],
   "source": [
    "def show(arg):\n",
    "    print(str(arg))\n",
    "    \n",
    "show('to jest 1szy argument')\n",
    "show(True)\n",
    "show([1,2,3])"
   ]
  },
  {
   "cell_type": "code",
   "execution_count": null,
   "id": "unauthorized-distance",
   "metadata": {},
   "outputs": [],
   "source": [
    "def norm(x):\n",
    "    if x is None:\n",
    "        x = 0\n",
    "    return float(x)\n",
    "\n",
    "def delta(a, b, c):\n",
    "    a = norm(a)\n",
    "    b = norm(b)\n",
    "    c = norm(c)\n",
    "    return (b * b) - (4 * a * c)\n",
    "\n",
    "print(delta(1,0,0)) # x^2\n",
    "print(delta(1,-1,0)) # x(x-1)\n",
    "print(delta(1,0,1)) # X^2 + 1\n",
    "\n",
    "print(delta(0, 0, None))\n",
    "print(delta('0', 0, None))\n",
    "print(delta('10.0', 0, None))"
   ]
  },
  {
   "cell_type": "code",
   "execution_count": null,
   "id": "respective-still",
   "metadata": {},
   "outputs": [],
   "source": [
    "def nic():\n",
    "    print('nic')\n",
    "    # return None\n",
    "\n",
    "ret = nic()\n",
    "print(ret)"
   ]
  },
  {
   "cell_type": "code",
   "execution_count": null,
   "id": "considered-element",
   "metadata": {},
   "outputs": [],
   "source": [
    "def min_max(dane):\n",
    "    if dane:\n",
    "        return min(dane), max(dane)\n",
    "    return None, None\n",
    "\n",
    "i,x = min_max(['a','b', 'c'])\n",
    "print(i,x)"
   ]
  },
  {
   "cell_type": "markdown",
   "id": "immediate-investor",
   "metadata": {},
   "source": [
    "## Argumenty funkcji\n",
    "\n",
    "- argumenty sa przekazywane do funcji wg kolejnosci\n",
    "\n",
    "```python\n",
    "def delta(a, b, c):\n",
    "    d = (b * b) - (4 * a * c) # b^2-4ac\n",
    "    return d \n",
    "\n",
    "d = delta(1, 0, 0) # a=1, b=0, c=0\n",
    "```\n",
    "\n",
    "- mozna przekazywac argumenty do funkcji poprzez ich nazwę\n",
    "\n",
    "```python\n",
    "def echo(text):\n",
    "    return text\n",
    "echo(text='wiadomosc')\n",
    "\n",
    "```\n",
    "\n",
    "```python\n",
    "def delta(a, b, c):\n",
    "    d = (b * b) - (4 * a * c) # b^2-4ac\n",
    "    return d \n",
    "d = delta(a=1, b=0, c=0)\n",
    "d = delta(c=0, b=0, a=1)\n",
    "```\n",
    "- w 1szej kolejności argumenty wg kolejnosci, potem po nazwie\n",
    "```python\n",
    "d = delta(1, b=2, c=3) # a=1, b=2, c=3   -> delta(1,2,3)\n",
    "d = delta(1, c=-1, b=0) # a=1, b=0, c=-1 -> delta(1,0,-1)\n",
    "```"
   ]
  },
  {
   "cell_type": "markdown",
   "id": "pretty-northwest",
   "metadata": {},
   "source": [
    "### Przykłady"
   ]
  },
  {
   "cell_type": "code",
   "execution_count": null,
   "id": "developing-check",
   "metadata": {},
   "outputs": [],
   "source": [
    "def delta(a, b, c):\n",
    "    print('a =', a)\n",
    "    print('b =', b)\n",
    "    print('c =', c)\n",
    "    d = (b * b) - (4 * a * c) # b^2-4ac\n",
    "    return d \n",
    "\n",
    "#d = delta(1, 2, 3)\n",
    "delta(c=3, b=2, a=1)\n",
    "delta(a=1,b=2,c=3)"
   ]
  },
  {
   "cell_type": "code",
   "execution_count": null,
   "id": "signal-principle",
   "metadata": {},
   "outputs": [],
   "source": [
    "d = delta(a=1, b=0, c=0)"
   ]
  },
  {
   "cell_type": "code",
   "execution_count": null,
   "id": "opening-classroom",
   "metadata": {},
   "outputs": [],
   "source": [
    "d = delta(c=0, b=0, a=1)"
   ]
  },
  {
   "cell_type": "markdown",
   "id": "female-clinic",
   "metadata": {},
   "source": [
    "- w 1szej kolejności argumenty bez nazwy, potem z nazwą\n",
    "\n",
    "```python\n",
    "d = delta(a, b=0, c=0) # prawidłowe\n",
    "d = delta(c=0, b=0, a) # błędne\n",
    "```"
   ]
  },
  {
   "cell_type": "markdown",
   "id": "existing-server",
   "metadata": {},
   "source": [
    "## Domyślne wartości parametrów\n",
    "\n",
    "- w deklaracji funkcji po *=* mozna przekazywać domyślne wartości\n",
    "```python\n",
    "def delta(a=0, b=0, c=0):\n",
    "    return (b * b) - (4 * a * c) # b^2-4ac\n",
    "```\n",
    "- jeśli dany argument nie jest przekazywany, wykorzystywana jest wartość domyślna\n",
    "```python\n",
    "delta(a=1) # x^2\n",
    "delta(a=1, b=4) # x^2 + 4x\n",
    "```"
   ]
  },
  {
   "cell_type": "markdown",
   "id": "early-problem",
   "metadata": {},
   "source": [
    "### Przykłady"
   ]
  },
  {
   "cell_type": "code",
   "execution_count": null,
   "id": "stuck-complexity",
   "metadata": {},
   "outputs": [],
   "source": [
    "def objetosc(x, y=1, z=1):\n",
    "    return x * y * z\n",
    "\n",
    "print(objetosc(1, 1, 1)) # x=1, y=1, z=1"
   ]
  },
  {
   "cell_type": "code",
   "execution_count": null,
   "id": "upper-serbia",
   "metadata": {},
   "outputs": [],
   "source": [
    "print(objetosc(1, 1))    # x=1, y=1, z=1 "
   ]
  },
  {
   "cell_type": "code",
   "execution_count": null,
   "id": "stuffed-concept",
   "metadata": {},
   "outputs": [],
   "source": [
    "print(objetosc(1, z=2, y=1))       # x=1, y=1, z=1"
   ]
  },
  {
   "cell_type": "code",
   "execution_count": null,
   "id": "executive-pendant",
   "metadata": {},
   "outputs": [],
   "source": [
    "print(objetosc()) # bląd, brakuje wartości x"
   ]
  },
  {
   "cell_type": "markdown",
   "id": "convertible-dispute",
   "metadata": {},
   "source": [
    "## Zmienna lista argumentów\n",
    "\n",
    "\n",
    "- '*' przed nazwą argumentow pozwala na przekazywanie dowolnej liczby argumentów\n",
    "- w takim przypadku funcja otrzymuje *tuple* składającą się z argumentów\n",
    "```python\n",
    "def show(*args):\n",
    "    print(args)\n",
    "```"
   ]
  },
  {
   "cell_type": "markdown",
   "id": "mysterious-hacker",
   "metadata": {},
   "source": [
    "### Przykłady"
   ]
  },
  {
   "cell_type": "code",
   "execution_count": null,
   "id": "pleased-allah",
   "metadata": {},
   "outputs": [],
   "source": [
    "def show(*args):\n",
    "    print('len =', len(args))\n",
    "    print('args =', args)\n",
    "    \n",
    "show(1)\n",
    "show(1,2,3)\n",
    "show(1,2, [], None)"
   ]
  },
  {
   "cell_type": "code",
   "execution_count": null,
   "id": "surprising-ultimate",
   "metadata": {},
   "outputs": [],
   "source": [
    "show(1,2,3) "
   ]
  },
  {
   "cell_type": "code",
   "execution_count": null,
   "id": "million-desktop",
   "metadata": {},
   "outputs": [],
   "source": [
    "show('a', 'b')"
   ]
  },
  {
   "cell_type": "code",
   "execution_count": null,
   "id": "sudden-messaging",
   "metadata": {},
   "outputs": [],
   "source": [
    "show('text')"
   ]
  },
  {
   "cell_type": "markdown",
   "id": "rapid-delivery",
   "metadata": {},
   "source": [
    "## Dowolna argumenty przekazywane w postaci słownika\n",
    "\n",
    "- <bold>\\*\\*kwargs</bold> pozwala na przekazywanie argumentów do funkcji w postaci słów\n",
    "- przydatne jesli funkcja nie moze miec zdefiniowanych argumentów\n",
    "\n",
    "\n",
    "```python\n",
    "def f(**kwargs):\n",
    "    print('x =', kwargs['x'])\n",
    "    print('y =', kwargs['y'])\n",
    "    \n",
    "f(x=1,y=2)\n",
    "```\n"
   ]
  },
  {
   "cell_type": "code",
   "execution_count": null,
   "id": "valid-basic",
   "metadata": {},
   "outputs": [],
   "source": [
    "def f(*args, **kwargs):\n",
    "    print(args)\n",
    "    print(kwargs)\n",
    "    print('x =', kwargs['x'])\n",
    "    print('y =', kwargs['y'])\n",
    "    \n",
    "f(10, 20, x=1, y=2)"
   ]
  },
  {
   "cell_type": "code",
   "execution_count": null,
   "id": "intensive-transsexual",
   "metadata": {},
   "outputs": [],
   "source": [
    "f(1,2, x=1, y=1)"
   ]
  },
  {
   "cell_type": "code",
   "execution_count": null,
   "id": "general-alias",
   "metadata": {},
   "outputs": [],
   "source": [
    "f(a=1,b=2) # x,y is not in kwargs"
   ]
  },
  {
   "cell_type": "code",
   "execution_count": null,
   "id": "global-myanmar",
   "metadata": {},
   "outputs": [],
   "source": [
    "f(x=1,y=1)"
   ]
  },
  {
   "cell_type": "code",
   "execution_count": null,
   "id": "ethical-pressing",
   "metadata": {},
   "outputs": [],
   "source": [
    "def example(a=0,b=0,c=0):\n",
    "    return a+b+c\n",
    "\n",
    "print(example(a=1,b=2,c=3))"
   ]
  },
  {
   "cell_type": "markdown",
   "id": "e841a562",
   "metadata": {},
   "source": [
    "# Pliki\n",
    "\n",
    "## Otwieranie plików\n",
    "\n",
    "- Python domyślnie udostępnia podstawowe funkcje i metody niezbędne do manipulowania plikami.\n",
    "- Większość operacji na plikach można wykonać za pomocą obiektu pliku .\n",
    "- Wbudowana funkcja *open()* pozwala na otwarcie pliku do odczytu, zapisu.\n",
    "- Funkcja *open()* tworzy obiekt plikowy, który może zostać użyty do wywołania innych powiązanych z nią metod.\n",
    "\n",
    "### Składnia open()\n",
    "\n",
    "```python\n",
    "file_object = open(file_name [, access_mode])\n",
    "```\n",
    "|parametr | opis       |\n",
    "|---------|------------|\n",
    "|nazwa_pliku           |Ciąg znaków zawierający nazwę pliku, do którego chcesz uzyskać dostęp\n",
    "|tryb_dostępu          |Określa tryb, w jakim plik ma zostać otwarty, tj. czytać, zapisywać, dołączać itd.<br>Jest to parametr opcjonalny, a domyślnym trybem dostępu do plików jest odczyt (r).\n",
    "\n",
    "#### Tryby dostępu\n",
    "\n",
    "|tryb     | opis       |\n",
    "|---------|------------|\n",
    "|r  |Otwiera plik tylko do odczytu. Wskaźnik pliku jest umieszczany na początku pliku. To jest tryb domyślny.\n",
    "|rb |Otwiera plik do odczytu tylko w formacie binarnym. Wskaźnik pliku jest umieszczany na początku pliku. To jest tryb domyślny.\n",
    "|r+ |Otwiera plik do odczytu i zapisu. Wskaźnik pliku umieszczony na początku pliku.\n",
    "|rb+|Otwiera plik do odczytu i zapisu w formacie binarnym. Wskaźnik pliku umieszczony na początku pliku.\n",
    "|w  |Otwiera plik tylko do zapisu. Zastępuje plik, jeśli istnieje. Jeśli plik nie istnieje, tworzy nowy plik do zapisu.\n",
    "|wb |Otwiera plik do zapisu tylko w formacie binarnym. Zastępuje plik, jeśli istnieje. Jeśli plik nie istnieje, tworzy nowy plik do zapisu.\n",
    "|w+ |Otwiera plik do zapisu i odczytu. Zastępuje istniejący plik, jeśli plik istnieje. Jeśli plik nie istnieje, tworzy nowy plik do odczytu i zapisu.\t\n",
    "|wb+|Otwiera plik do zapisu i odczytu w formacie binarnym. Zastępuje istniejący plik, jeśli plik istnieje. Jeśli plik nie istnieje, tworzy nowy plik do odczytu i zapisu.\n",
    "|za |Otwiera plik do dołączenia. Wskaźnik pliku znajduje się na końcu pliku, jeśli plik istnieje. Oznacza to, że plik jest w trybie dołączania. Jeśli plik nie istnieje, tworzy nowy plik do zapisu.\n",
    "|ab |Otwiera plik do dołączenia w formacie binarnym. Wskaźnik pliku znajduje się na końcu pliku, jeśli plik istnieje. Oznacza to, że plik jest w trybie dołączania. Jeśli plik nie istnieje, tworzy nowy plik do zapisu.\n",
    "|a+ |Otwiera plik do dołączania i odczytu. Wskaźnik pliku znajduje się na końcu pliku, jeśli plik istnieje. Plik otwiera się w trybie dołączania. Jeśli plik nie istnieje, tworzy nowy plik do odczytu i zapisu.\n",
    "|ab+|Otwiera plik do dołączania i odczytu w formacie binarnym. Wskaźnik pliku znajduje się na końcu pliku, jeśli plik istnieje. Plik otwiera się w trybie dołączania. Jeśli plik nie istnieje, tworzy nowy plik do odczytu i zapisu.\n",
    "\n",
    "#### Atrybuty pliku\n",
    "\n",
    "\n",
    "|Atrybut|opis|\n",
    "|-------|----|\n",
    "|file_object.closed |Zwraca true, jeśli plik jest zamknięty, false w przeciwnym razie\n",
    "|file_object.mode   |Zwraca tryb dostępu, w którym plik został otwarty.\n",
    "|file_object.name   |Zwraca nazwę pliku.\n",
    "\n",
    "\n",
    "### Składnie *with*\n",
    "- użycie bloku *with* pozwala na wyodrebnienie cześci obsługi pliku.\n",
    "\n",
    "```python\n",
    "\n",
    "with open('passwd.txt') as passwd_file:\n",
    "    data = passwd_file.read()  \n",
    "    \n",
    "```\n",
    "\n",
    "### Przykłady"
   ]
  },
  {
   "cell_type": "code",
   "execution_count": null,
   "id": "6d5257bb",
   "metadata": {},
   "outputs": [],
   "source": [
    "# wyswietl pliki txt z danego katalogu\n",
    "import os\n",
    "print([fname for fname in os.listdir() if fname.endswith('.txt')])"
   ]
  },
  {
   "cell_type": "code",
   "execution_count": null,
   "id": "collective-moses",
   "metadata": {},
   "outputs": [],
   "source": [
    "fo = open('passwd.txt') # read-only\n",
    "print('  name =', fo.name)\n",
    "print('  mode =', fo.mode)\n",
    "print('closed =', fo.closed)\n",
    "data = fo.read()\n",
    "fo.close()\n",
    "print('closed =', fo.closed)"
   ]
  },
  {
   "cell_type": "code",
   "execution_count": null,
   "id": "9d696d92",
   "metadata": {},
   "outputs": [],
   "source": [
    "with open('passwd.txt') as passwd_file:\n",
    "    data = passwd_file.read()\n",
    "\n",
    "print(passwd_file.name)\n",
    "print(data, type(data))"
   ]
  },
  {
   "cell_type": "code",
   "execution_count": null,
   "id": "42b32b7c",
   "metadata": {},
   "outputs": [],
   "source": [
    "fo = open('example.txt', 'w') # write-only \n",
    "print('  name =', fo.name)\n",
    "print('  mode =', fo.mode)\n",
    "print('closed =', fo.closed)"
   ]
  },
  {
   "cell_type": "markdown",
   "id": "governmental-elimination",
   "metadata": {},
   "source": [
    "## Zamykanie pliku\n",
    "\n",
    "- Metoda *close()* obiektu plikowego usuwa wszelkie niepisane informacje i zamyka obiekt plik, po czym nie można już pisać do tego pliku.\n",
    "- Python automatycznie zamyka plik, gdy obiekt pliku zostanie ponownie przypisany do innego pliku.\n",
    "- Dobrą praktyką jest jawne używanie metody *close()* do zamykania pliku.\n",
    "\n",
    "\n",
    "### Składnia close()\n",
    "\n",
    "```python\n",
    "file_object = open(file_name)\n",
    "...\n",
    "file_object.close()\n",
    "\n",
    "```\n",
    "\n",
    "### Przykłady"
   ]
  },
  {
   "cell_type": "code",
   "execution_count": null,
   "id": "545671b5",
   "metadata": {},
   "outputs": [],
   "source": [
    "fo = open('example.txt', 'w') # write-only \n",
    "print('  name =', fo.name)\n",
    "print('  mode =', fo.mode)\n",
    "print('closed =', fo.closed)\n",
    "fo.close()\n",
    "print('closed =', fo.closed)"
   ]
  },
  {
   "cell_type": "markdown",
   "id": "unknown-blues",
   "metadata": {},
   "source": [
    "## Zapis do pliku\n",
    "\n",
    "- Metoda *write()* zapisuje dowolny ciąg znaków do otwartego pliku. Łańcuchy znaków Pythona mogą zawierać dane binarne, a nie tylko tekst.\n",
    "- Metoda *write()* nie dodaje znaku nowego wiersza („\\n”) na końcu.\n",
    "\n",
    "### Składnia\n",
    "\n",
    "```python\n",
    "file_object.write(text)\n",
    "```\n",
    "\n",
    "### Przykłady"
   ]
  },
  {
   "cell_type": "code",
   "execution_count": null,
   "id": "85dcbd86",
   "metadata": {},
   "outputs": [],
   "source": [
    "fo = open('example.txt', 'w') \n",
    "fo.write('to jest przykladowy tekst')\n",
    "fo.close()"
   ]
  },
  {
   "cell_type": "code",
   "execution_count": null,
   "id": "broad-admission",
   "metadata": {},
   "outputs": [],
   "source": [
    "text = \"Lorem ipsum dolor sit amet, consectetur adipiscing elit, sed do eiusmod tempor incididunt ut labore et dolore magna aliqua. Ut enim ad minim veniam, quis nostrud exercitation ullamco laboris nisi ut aliquip ex ea commodo consequat. Duis aute irure dolor in reprehenderit in voluptate velit esse cillum dolore eu fugiat nulla pariatur. Excepteur sint occaecat cupidatat non proident, sunt in culpa qui officia deserunt mollit anim id est laborum.\"\n",
    "\n",
    "with open('example.txt', 'w') as fo:# write-only\n",
    "    for txt in text.split('.'):\n",
    "        fo.write(txt + '\\n')"
   ]
  },
  {
   "cell_type": "markdown",
   "id": "6aaf63f2",
   "metadata": {},
   "source": [
    "## Odczyt danych z pliku\n",
    "\n",
    "- Metoda *read()* odczytuje ciąg znaków z otwartego pliku, łańcuchy znaków Pythona mogą zawierać dane binarne oprócz danych tekstowych.\n",
    "- Metoda *readlines()* czyta pojedynczą linię z pliku, znak *\\n* zostaje na końcu stringu (zostanie usunięte z ostatniej linii)\n",
    "  - jesli f.readlines() zwraca pusty text to został osiągnięty koniec pliku\n",
    "  - pusta linia jest reprezentowana przez linie zawierającą *\\n*.\n",
    "\n",
    "\n",
    "### Składnia\n",
    "\n",
    "```python\n",
    "data = file_object.read([count])\n",
    "line = file_object.readlines()\n",
    "```\n",
    "\n",
    "### Przykłady"
   ]
  },
  {
   "cell_type": "code",
   "execution_count": null,
   "id": "bc7fecc4",
   "metadata": {},
   "outputs": [],
   "source": [
    "fo = open('example.txt', 'r')\n",
    "data = fo.read()\n",
    "fo.close()\n",
    "\n",
    "print(type(data), data)"
   ]
  },
  {
   "cell_type": "code",
   "execution_count": null,
   "id": "8795e42c",
   "metadata": {
    "scrolled": true
   },
   "outputs": [],
   "source": [
    "fo = open('example.txt', 'r')\n",
    "data = fo.readlines()\n",
    "fo.close()\n",
    "\n",
    "print(type(data), data)"
   ]
  },
  {
   "cell_type": "code",
   "execution_count": null,
   "id": "single-armstrong",
   "metadata": {},
   "outputs": [],
   "source": [
    "for row in data:\n",
    "    print(row.strip())"
   ]
  },
  {
   "cell_type": "code",
   "execution_count": null,
   "id": "f4b09107",
   "metadata": {},
   "outputs": [],
   "source": [
    "i = 0\n",
    "for row in data:\n",
    "    i += 1\n",
    "    #print(i, row.strip())\n",
    "    \n",
    "for idx, row in enumerate(data, 1):\n",
    "    print(idx, row.strip())"
   ]
  },
  {
   "cell_type": "code",
   "execution_count": null,
   "id": "c012a947",
   "metadata": {},
   "outputs": [],
   "source": [
    "fo = open('example.txt', 'r')\n",
    "data = fo.read().split('\\n')\n",
    "\n",
    "for idx, row in enumerate(data):\n",
    "    print(idx, row)"
   ]
  },
  {
   "cell_type": "markdown",
   "id": "hollow-project",
   "metadata": {},
   "source": [
    "### Przyklad (passwd)"
   ]
  },
  {
   "cell_type": "code",
   "execution_count": null,
   "id": "meaningful-miniature",
   "metadata": {},
   "outputs": [],
   "source": [
    "with open('passwd.txt') as passwd_file:\n",
    "    print(passwd_file.read())  "
   ]
  },
  {
   "cell_type": "code",
   "execution_count": null,
   "id": "60f332ab",
   "metadata": {},
   "outputs": [],
   "source": [
    "with open('passwd.txt') as passwd_file:\n",
    "    data = passwd_file.read().split('\\n')\n",
    "    \n",
    "print(data)"
   ]
  },
  {
   "cell_type": "code",
   "execution_count": null,
   "id": "85e7c05d",
   "metadata": {},
   "outputs": [],
   "source": [
    "for row in data:\n",
    "    entry = row.split(':')\n",
    "    print(entry)"
   ]
  },
  {
   "cell_type": "code",
   "execution_count": null,
   "id": "dependent-villa",
   "metadata": {},
   "outputs": [],
   "source": [
    "users = {}\n",
    "headers = ['username', 'password', 'uid', 'gid', 'info', 'home', 'shell']\n",
    "\n",
    "# format pliku\n",
    "#   root:x:0:0:root:/root:/bin/bash\n",
    "\n",
    "for row in data:\n",
    "    if row:\n",
    "        entry = row.split(':')\n",
    "        username = entry[0]\n",
    "        password = entry[1]\n",
    "        uid = entry[2]\n",
    "        gid = entry[3]\n",
    "        \n",
    "        print(username, uid)"
   ]
  },
  {
   "cell_type": "code",
   "execution_count": null,
   "id": "optical-letter",
   "metadata": {},
   "outputs": [],
   "source": [
    "users = {}\n",
    "headers = ['username', 'password', 'uid', 'gid', 'info', 'home', 'shell']\n",
    "\n",
    "for row in data:\n",
    "    if row:\n",
    "        entry_list = row.split(':')\n",
    "        zip_iterator = zip(headers, entry_list) # 2 listy   -> 1 lista par\n",
    "        user = dict(zip_iterator)               # lista par -> dict()\n",
    "        users[user.get('username')] = user"
   ]
  },
  {
   "cell_type": "code",
   "execution_count": null,
   "id": "36ad4957",
   "metadata": {},
   "outputs": [],
   "source": [
    "print(users['apache'])"
   ]
  },
  {
   "cell_type": "code",
   "execution_count": null,
   "id": "2d833cbc",
   "metadata": {},
   "outputs": [],
   "source": [
    "osoba = {\n",
    "    'wiek': 20,\n",
    "    'pesel': '1234567890',\n",
    "    'flag': True,\n",
    "    'imiona': ['Jan', 'Kazimierz'],\n",
    "}\n",
    "\n",
    "print(osoba)\n",
    "import pprint\n",
    "pprint.pprint(osoba)\n",
    "import rich\n",
    "rich.print(osoba)"
   ]
  },
  {
   "cell_type": "markdown",
   "id": "connected-buffalo",
   "metadata": {},
   "source": [
    "\n",
    "### Json files\n",
    "- Podzbiór notacji JavaScript (JavaScript Object Notation).\n",
    "  - https://pl.wikipedia.org/wiki/JSON\n",
    "- Lekki format tekstowy bardzo podobny do pythonowego dict().\n",
    "- Używany do wymiany danych komputerowych (zastępuje protokoły binarne i XML).\n",
    "- Stosuje sie rozszerzenie .json w przypadku plików\n",
    "- Typ danych *application/json*.\n",
    "\n",
    "```\n",
    "{\n",
    "  \"root\": {\n",
    "    \"username\": \"root\",\n",
    "    \"password\": \"x\",\n",
    "    \"uid\": \"0\",\n",
    "    \"gid\": \"0\",\n",
    "    \"info\": \"root\",\n",
    "    \"home\": \"/root\",\n",
    "    \"shell\": \"/bin/bash\"\n",
    "  }\n",
    "}\n",
    "```\n",
    "- Przykład danych zwracanych przez serwis internetowy (format tekstowy)\n",
    "  - txt: http://worldtimeapi.org/api/timezone/Europe/Warsaw.txt\n",
    "\n",
    "    ```python\n",
    "    abbreviation: CET\n",
    "    client_ip: 89.64.122.63\n",
    "    datetime: 2021-02-20T15:48:17.050786+01:00\n",
    "    day_of_week: 6\n",
    "    day_of_year: 51\n",
    "    dst: false\n",
    "    dst_from: \n",
    "    dst_offset: 0\n",
    "    dst_until: \n",
    "    raw_offset: 3600\n",
    "    timezone: Europe/Warsaw\n",
    "    unixtime: 1613832497\n",
    "    utc_datetime: 2021-02-20T14:48:17.050786+00:00\n",
    "    utc_offset: +01:00\n",
    "    week_number: 7\n",
    "    ```\n",
    "  - json: http://worldtimeapi.org/api/timezone/Europe/Warsaw.json\n",
    "\n",
    "    ```python\n",
    "    {\n",
    "        \"abbreviation\":\"CET\",\n",
    "        \"client_ip\":\"89.64.122.63\",\n",
    "        \"datetime\":\"20210220T15:48:54.743687+01:00\",\n",
    "        \"day_of_week\":6,\n",
    "        \"day_of_year\":51,\n",
    "        \"dst\":false,\n",
    "        \"dst_from\":null,\n",
    "        \"dst_offset\":0,\n",
    "        \"dst_until\":null,\n",
    "        \"raw_offset\":3600,\n",
    "        \"timezone\":\"Europe/Warsaw\",\n",
    "        \"unixtime\":1613832534,\n",
    "        \"utc_datetime\":\"2021-02-20T14:48:54.743687+00:00\",\n",
    "        \"utc_offset\":\"+01:00\",\n",
    "        \"week_number\":7\n",
    "    }\n",
    "```\n",
    "\n",
    "- Modul pythona *json* udostępnia metody dostepu do danych json\n",
    "  - *json.load(fp)* - odczytuje dane z pliku\n",
    "  - *json.dump(fp, obj)* - zapisuje obiekt do pliku json\n",
    "  - *json.dumps(obj)* - tworzy string w formacie json z obiektu\n",
    "  \n",
    "  #### Przykłady"
   ]
  },
  {
   "cell_type": "code",
   "execution_count": null,
   "id": "polish-casting",
   "metadata": {
    "scrolled": true
   },
   "outputs": [],
   "source": [
    "# python dict() jako json text\n",
    "\n",
    "import json\n",
    "\n",
    "ex = {'x':'XYZ', 'y':{'a':10, 'b':20}, 'z': [0, 1, 2], 'flaga': False, 'empty':None}\n",
    "\n",
    "from rich import print_json\n",
    "print_json(json.dumps(ex))\n"
   ]
  },
  {
   "cell_type": "code",
   "execution_count": null,
   "id": "alone-television",
   "metadata": {},
   "outputs": [],
   "source": [
    "# open users.json\n",
    "\n",
    "import json\n",
    "fo = open('users.json')\n",
    "data = json.load(fp=fo)\n",
    "\n",
    "print(type(fo))\n",
    "print(type(data))\n",
    "print(data['root'])\n",
    "import pprint\n",
    "pprint.pprint(data)"
   ]
  },
  {
   "cell_type": "code",
   "execution_count": null,
   "id": "intelligent-pakistan",
   "metadata": {},
   "outputs": [],
   "source": [
    "# update root password\n",
    "\n",
    "data['root']['password'] = 'new password'\n",
    "print(data['root'])"
   ]
  },
  {
   "cell_type": "code",
   "execution_count": null,
   "id": "recorded-glance",
   "metadata": {},
   "outputs": [],
   "source": [
    "# show data as formated json\n",
    "\n",
    "txt = json.dumps(data, indent=4, sort_keys=False)\n",
    "print(txt)"
   ]
  },
  {
   "cell_type": "code",
   "execution_count": null,
   "id": "different-production",
   "metadata": {},
   "outputs": [],
   "source": [
    "# save data under new name\n",
    "\n",
    "with open('new-users.json', 'w') as json_file:\n",
    "    json.dump(obj=data, fp=json_file)"
   ]
  },
  {
   "cell_type": "code",
   "execution_count": null,
   "id": "exposed-electric",
   "metadata": {},
   "outputs": [],
   "source": [
    "# print data \n",
    "\n",
    "data = json.load(fp=open('new-users.json'))\n",
    "json_data = json.dumps(data, indent=2)\n",
    "print(json_data)"
   ]
  },
  {
   "cell_type": "markdown",
   "id": "practical-number",
   "metadata": {},
   "source": [
    "### Yaml file\n",
    "- Alternatywa dla XML i Json.\n",
    "  - https://pl.wikipedia.org/wiki/YAML\n",
    "- Rozszerzenie JSON (json jest prawidłowym yaml'em)\n",
    "- Uproszczona składnia (brak nawiasów i apostrofów), czytelny.\n",
    "\n",
    "- modul *yaml* udostępnia metody dostepu do danych yaml\n",
    "  - *yaml.dump(fp, obj)* - zapisuje obiekt do pliku yaml\n",
    "  - *yaml.load(fp)* - odczytuje dane z pliku\n",
    "  - *yaml.dumps(obj)* - tworzy string w formacie json z obiektu\n",
    "- zewnetrzna biblioteka pythona, wymaga dodatkowej installacji\n",
    " \n",
    "```\n",
    "# python -m pip install pyyaml\n",
    " Collecting pyyaml\n",
    "  Downloading PyYAML-6.0-cp310-cp310-win_amd64.whl (151 kB)\n",
    "     ━━━━━━━━━━━━━━━━━━━━━━━━━━━━━━━━━━━━━━━━ 151.7/151.7 kB 1.1 MB/s eta 0:00:00\n",
    "Installing collected packages: pyyaml\n",
    "Successfully installed pyyaml-6.0\n",
    "```\n",
    "  \n",
    "  #### Przykłady\n",
    "  "
   ]
  },
  {
   "cell_type": "code",
   "execution_count": null,
   "id": "motivated-friendship",
   "metadata": {},
   "outputs": [],
   "source": [
    "# python dict() jako yaml text\n",
    "\n",
    "import yaml\n",
    "\n",
    "ex = {'x':'XYZ', 'y':{'a':10, 'b':20}, 'z': [0, 1, 2], 'flag': True, 'empty':None}\n",
    "print(yaml.dump(ex, default_flow_style=False))"
   ]
  },
  {
   "cell_type": "code",
   "execution_count": null,
   "id": "greenhouse-undergraduate",
   "metadata": {},
   "outputs": [],
   "source": [
    "# read JSON as yaml\n",
    "\n",
    "import yaml\n",
    "data = yaml.load(open('new-users.json'), Loader=yaml.FullLoader)\n",
    "\n",
    "print(data)"
   ]
  },
  {
   "cell_type": "code",
   "execution_count": null,
   "id": "sexual-telescope",
   "metadata": {},
   "outputs": [],
   "source": [
    "# print yaml\n",
    "\n",
    "yaml_text = yaml.dump(data, default_flow_style=False)\n",
    "print(yaml_text)"
   ]
  },
  {
   "cell_type": "code",
   "execution_count": null,
   "id": "manual-mexican",
   "metadata": {},
   "outputs": [],
   "source": [
    "# save yaml\n",
    "\n",
    "with open('new-users.yaml', 'w') as yaml_file:\n",
    "    yaml.dump(data=data, stream=yaml_file, default_flow_style=False)"
   ]
  },
  {
   "cell_type": "code",
   "execution_count": null,
   "id": "metallic-credits",
   "metadata": {},
   "outputs": [],
   "source": [
    "# read from new yaml file\n",
    "\n",
    "data = yaml.load(open('new-users.yaml'), Loader=yaml.FullLoader)\n",
    "print(data['root'])\n",
    "print(yaml.dump(data))"
   ]
  },
  {
   "cell_type": "markdown",
   "id": "7805e7fa",
   "metadata": {},
   "source": [
    "# Biblioteki (moduły)\n",
    "\n",
    "## Import\n",
    "\n",
    "- Język python wspiera grupowanie kodu w tzw. moduły (bibilioteki).\n",
    "- Najprostsze moduły języka python, to pliki z programem python (z rozszerzeniem .py).\n",
    "- Aby skorzystać z modułu, należy ją zaimportować wbudowaną metodą *import*.\n",
    "\n",
    "### Składnia import\n",
    "\n",
    "```python\n",
    "import lib\n",
    "from lib import x\n",
    "from lib import x as y\n",
    "from lib import *\n",
    "```\n",
    "\n",
    "|groupa| biblioteki|\n",
    "|------|-----------|\n",
    "|import lib | importuje bibliotekę lib, należy używac prefiksu: lib.x()\n",
    "|from lib import x<br>from lib import x as y | importuje wybrane elementy biblioteki<br>prefiks nie jest potrzebny: x(), y()\n",
    "|from lib import * | należy unikać bo można nadpisać na elementy bibliotek\n",
    "\n",
    "#### Standardowe biblioteki python\n",
    "- [https://docs.python.org/3/library/]\n",
    "\n",
    "|groupa| biblioteki|\n",
    "|------|-----------|\n",
    "|File and Directory Access|File paths, tempfiles, file comparisons (see the os and tempfile modules)\n",
    "|Numeric and Math         |Math, decimal, fractions, random numbers/sequences, iterators (see math, decimal, and collections)\n",
    "|Data Types\t              |Dates/times, collections, arrays (see also datetime and time)\n",
    "|Data Persistence         |Object serialization (pickle), sqlite, database access\n",
    "|File Formats             |Csv files, config files – see ConfigParser\n",
    "|Generic OS Services      |Operating system functions, time, command line arguments, logging (see os, logging, time, argparse)\n",
    "|Interprocess             |Communication with other processes, low-level sockets (see subprocess and the socket module)\n",
    "|Interned Data Handling\tHandling| Internet data, including json, email and mailboxes, mime encoding (see json, email, smtplib and mimetools)\n",
    "|Structured Markup        |Parsing HTML and XML (see xml.minidom and ElementTree)\n",
    "|Internet Protocols       |HTTP, FTP, CGI, URL parsing, SMTP, POP, IMAP, Telnet, simple servers (see httplib, urllib, smtplib, imaplib)\n",
    "|Deveolopment             |Documentation, test, Python 2 to Python 3 conversion (see doctest and 2to3)\n",
    "|Debugging                |Debugging, profiling (see pdb and profile)\n",
    "|Runtime                  |System parameters and settings, builtins, warnings, contexts (see the dir command and the inspect module)\n",
    "|GUI\t                  |Tkinter GUI libraries, turtle graphics\n",
    "\n",
    "\n",
    "\n",
    "\n",
    "### Przykłady"
   ]
  },
  {
   "cell_type": "code",
   "execution_count": null,
   "id": "aead5e47",
   "metadata": {},
   "outputs": [],
   "source": [
    "# system operacyjny (ang. operating system)\n",
    "import os\n",
    "files = os.listdir()\n",
    "for f in os.listdir():\n",
    "    print(f)"
   ]
  },
  {
   "cell_type": "code",
   "execution_count": null,
   "id": "previous-smith",
   "metadata": {},
   "outputs": [],
   "source": [
    "os.getcwd() # katalog"
   ]
  },
  {
   "cell_type": "code",
   "execution_count": null,
   "id": "unnecessary-opening",
   "metadata": {},
   "outputs": [],
   "source": [
    "open('data.db', 'w').write('') # create an example of the file\n",
    "\n",
    "import shutil\n",
    "\n",
    "shutil.copyfile('data.db', 'archive.db')\n",
    "shutil.move('archive.db', 'new.db')\n",
    "\n",
    "os.unlink('new.db') # remove the file\n"
   ]
  },
  {
   "cell_type": "code",
   "execution_count": null,
   "id": "fc509467",
   "metadata": {},
   "outputs": [],
   "source": [
    "# system specific\n",
    "import sys\n",
    "\n",
    "print(sys.argv[0])  # program\n",
    "print(sys.platform) # platform\n",
    "print(sys.version)  # python version"
   ]
  },
  {
   "cell_type": "code",
   "execution_count": null,
   "id": "working-cable",
   "metadata": {},
   "outputs": [],
   "source": [
    "# search files\n",
    "\n",
    "import glob\n",
    "\n",
    "glob.glob('*.json')"
   ]
  },
  {
   "cell_type": "code",
   "execution_count": null,
   "id": "worth-render",
   "metadata": {},
   "outputs": [],
   "source": [
    "# regular expressions\n",
    "\n",
    "import re\n",
    "\n",
    "re.findall(r'[a-zA-Z]+', 'Ala ma kota.')"
   ]
  },
  {
   "cell_type": "markdown",
   "id": "00e42050",
   "metadata": {},
   "source": [
    "## Mathematics"
   ]
  },
  {
   "cell_type": "code",
   "execution_count": null,
   "id": "surprising-covering",
   "metadata": {},
   "outputs": [],
   "source": [
    "import math\n",
    "\n",
    "print(math.cos(math.pi / 4))\n",
    "print(math.log(1024, 2))\n",
    "print(math.sqrt(16))"
   ]
  },
  {
   "cell_type": "markdown",
   "id": "4176ae6b",
   "metadata": {},
   "source": [
    "## Liczby losowe"
   ]
  },
  {
   "cell_type": "code",
   "execution_count": null,
   "id": "cutting-editor",
   "metadata": {},
   "outputs": [],
   "source": [
    "import random\n",
    "\n",
    "print(random.choice([True, False]))\n",
    "print(random.sample(range(100), 10))\n",
    "print(random.random())      # random float from 0-1\n",
    "print(random.randint(0,10)) # random integer 0-10\n",
    "print(random.randrange(6))  # random integer chosen from range(6)\n",
    "\n",
    "for i in range(10):\n",
    "    print(random.choice([True, False]))  "
   ]
  },
  {
   "cell_type": "markdown",
   "id": "d3931be4",
   "metadata": {},
   "source": [
    "## Statystyka"
   ]
  },
  {
   "cell_type": "code",
   "execution_count": null,
   "id": "flexible-glory",
   "metadata": {},
   "outputs": [],
   "source": [
    "import statistics\n",
    "\n",
    "data = [2.75, 1.75, 1.25, 0.25, 0.5, 1.25, 3.5]\n",
    "print(statistics.mean(data))\n",
    "print(statistics.median(data))\n",
    "print(statistics.variance(data))"
   ]
  },
  {
   "cell_type": "markdown",
   "id": "573fb3c3",
   "metadata": {},
   "source": [
    "## Internet"
   ]
  },
  {
   "cell_type": "code",
   "execution_count": null,
   "id": "proper-precipitation",
   "metadata": {},
   "outputs": [],
   "source": [
    "from urllib.request import urlopen\n",
    "with urlopen('http://worldtimeapi.org/api/timezone/Europe/Warsaw.txt') as response:\n",
    "    for line in response:\n",
    "        line = line.decode('utf-8').strip()  # Decoding the binary data to text.\n",
    "        print(line)"
   ]
  },
  {
   "cell_type": "markdown",
   "id": "4df74964",
   "metadata": {},
   "source": [
    "## Czas i data"
   ]
  },
  {
   "cell_type": "code",
   "execution_count": null,
   "id": "f0496f3b",
   "metadata": {},
   "outputs": [],
   "source": [
    "import time\n",
    "\n",
    "start_time = time.time()\n",
    "\n",
    "for i in range(5):\n",
    "    print('.')\n",
    "    time.sleep(1)\n",
    "\n",
    "end_time = time.time()\n",
    "\n",
    "print('czas: %5.3f' % (end_time - start_time))"
   ]
  },
  {
   "cell_type": "code",
   "execution_count": null,
   "id": "primary-matrix",
   "metadata": {},
   "outputs": [],
   "source": [
    "# dates are easily constructed and formatted\n",
    "\n",
    "from datetime import date\n",
    "now = date.today()\n",
    "\n",
    "print('now:', now)\n",
    "print(now.strftime(\"%m-%d-%y. %d %b %Y is a %A on the %d day of %B.\"))\n",
    "\n",
    "import datetime\n",
    "datetime.date(2003, 12, 2)\n",
    "\n",
    "# dates support calendar arithmetic\n",
    "year2k = date(2000, 1, 1)\n",
    "age = now - year2k\n",
    "print(age.days)"
   ]
  },
  {
   "cell_type": "markdown",
   "id": "given-horse",
   "metadata": {},
   "source": [
    "## Tworzenie własnych modułow\n",
    "- Każdy program python'owy może zostać zaimportowany jako moduł:\n",
    "  - podaje sie nazwe pliku (bez rozszerzenia .py)\n",
    "  - plik musi byc dostępny bezpośrednio lub w katalogu wskazywanym przez zmienna PYTHONPATH\n",
    "  - można również zmodyfikowac *sys.path* aby wskazać lokalizacje modułów.\n",
    "  ```\n",
    "  import program\n",
    "  ```\n",
    "- Wbudowana zmienna \\__name__ pozwala odróżnić czy kod jest wykonywany przez program, czy też importowany:\n",
    "\n",
    "  |\\_\\_name\\_\\_| wartosc |\n",
    "  |--------|-------- |\n",
    "  |\\_\\_main\\_\\_      | bezpośrednie wywołanie programu|\n",
    "  | nazwa modułu     | gdy moduł jest importowany | \n",
    "\n",
    "  - dzięki temu można uniknąc wykonywania tego samego kodu w przypadku importowania modułu\n",
    "  - w poniższym przykładzie, funkcja *main()* zostanie wywołana wyłącznie gdy wykonywany jest program bezpośrednio:\n",
    "\n",
    "    ```python\n",
    "    \n",
    "    def main():\n",
    "        print('main)\n",
    "\n",
    "    if __name__ == \"__main__\":\n",
    "        main() \n",
    "    ```\n",
    "\n"
   ]
  },
  {
   "cell_type": "code",
   "execution_count": null,
   "id": "molecular-delay",
   "metadata": {},
   "outputs": [],
   "source": [
    "import mod"
   ]
  },
  {
   "cell_type": "code",
   "execution_count": null,
   "id": "sophisticated-karaoke",
   "metadata": {},
   "outputs": [],
   "source": [
    "dir(mod)"
   ]
  },
  {
   "cell_type": "code",
   "execution_count": null,
   "id": "advanced-moscow",
   "metadata": {},
   "outputs": [],
   "source": [
    "mod.main()"
   ]
  },
  {
   "cell_type": "code",
   "execution_count": null,
   "id": "olympic-usage",
   "metadata": {},
   "outputs": [],
   "source": [
    "import sys\n",
    "print(\"\\n\".join(sys.path))"
   ]
  },
  {
   "cell_type": "code",
   "execution_count": null,
   "id": "meaningful-relief",
   "metadata": {},
   "outputs": [],
   "source": [
    "import os\n",
    "print(os.getcwd())\n",
    "print(os.path.join(os.getcwd(),'tmp'))\n",
    "sys.path.append(os.path.join(os.getcwd(),'tmp'))"
   ]
  },
  {
   "cell_type": "code",
   "execution_count": null,
   "id": "aware-simon",
   "metadata": {},
   "outputs": [],
   "source": [
    "print(\"\\n\".join(sys.path))\n"
   ]
  },
  {
   "cell_type": "code",
   "execution_count": null,
   "id": "f381a52f",
   "metadata": {},
   "outputs": [],
   "source": [
    "import przyklad"
   ]
  },
  {
   "cell_type": "code",
   "execution_count": null,
   "id": "ac18f299",
   "metadata": {},
   "outputs": [],
   "source": []
  }
 ],
 "metadata": {
  "kernelspec": {
   "display_name": "Python 3 (ipykernel)",
   "language": "python",
   "name": "python3"
  },
  "language_info": {
   "codemirror_mode": {
    "name": "ipython",
    "version": 3
   },
   "file_extension": ".py",
   "mimetype": "text/x-python",
   "name": "python",
   "nbconvert_exporter": "python",
   "pygments_lexer": "ipython3",
   "version": "3.11.2"
  }
 },
 "nbformat": 4,
 "nbformat_minor": 5
}
