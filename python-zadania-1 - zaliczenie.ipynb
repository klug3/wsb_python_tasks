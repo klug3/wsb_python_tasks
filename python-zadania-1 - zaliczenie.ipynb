{
  "cells": [
    {
      "attachments": {},
      "cell_type": "markdown",
      "id": "geological-helping",
      "metadata": {},
      "source": [
        "# Zadania na zaliczenie"
      ]
    },
    {
      "cell_type": "code",
      "execution_count": null,
      "id": "visible-forward",
      "metadata": {},
      "outputs": [],
      "source": [
        "# Wypisz na ekran liczby z przedzialu <0,20>, które nie zawierają w sobie cyfr 3 oraz 6.\n",
        "for i in range(21):\n",
        "    if i not in (3, 6):\n",
        "        print(i)"
      ]
    },
    {
      "cell_type": "code",
      "execution_count": null,
      "id": "impressive-cruise",
      "metadata": {},
      "outputs": [],
      "source": [
        "# Wypisz z następującego zdania co 2 znak.\n",
        "\n",
        "txt = \"\"\"Lorem ipsum dolor sit amet mauris.\n",
        "Etiam dapibus eu, neque. Vestibulum tempus purus.\n",
        "Duis ante eget leo. Suspendisse sapien.\n",
        "Vestibulum ante pretium vehicula ullamcorper.\n",
        "Suspendisse eget augue. Pellentesque sodales sed, luctus augue. \"\"\"\n",
        "\n",
        "\n",
        "for pos, letter in enumerate(txt):\n",
        "    if pos % 2 == 0:\n",
        "        print(letter)"
      ]
    },
    {
      "cell_type": "code",
      "execution_count": null,
      "id": "australian-count",
      "metadata": {},
      "outputs": [],
      "source": [
        "# Wypisz ze zdania co 3 wyraz (bez kropek).\n",
        "import re\n",
        "# words = re.split(\" |, |\\. |\\.\\\\n|\\\\n\", txt) - problem pustego ostatniego elementu listy\n",
        "words = re.findall(r'\\w+', txt)\n",
        "\n",
        "for pos, word in enumerate(words):\n",
        "    if pos % 3 == 0:\n",
        "        print(word)   # Bez przecinków i kropek"
      ]
    },
    {
      "cell_type": "code",
      "execution_count": null,
      "id": "accompanied-angola",
      "metadata": {},
      "outputs": [],
      "source": [
        "# Zamień szystkie 'ipsum' w zdaniu na 'dolor' i odwrotnie.\n",
        "txt.replace('ipsum', 'dol_or').replace('dolor', 'ips_um').replace('ips_um', 'ipsum').replace('dol_or', 'dolor')\n"
      ]
    },
    {
      "cell_type": "code",
      "execution_count": null,
      "id": "brief-conspiracy",
      "metadata": {},
      "outputs": [],
      "source": [
        "# Wypisz najdłuższe i najkrótsze słowa oraz ich długość.\n",
        "import re\n",
        "words = re.findall(r'\\w+', txt)\n",
        "\n",
        "shortest_len = len(words[0])\n",
        "longest_len = len(words[0])\n",
        "\n",
        "shortest_pos = 0\n",
        "longest_pos = 0\n",
        "\n",
        "for pos, word in enumerate(words):\n",
        "    if len(word) > longest_len:\n",
        "        longest_len = len(word)\n",
        "        longest_pos = pos\n",
        "    if len(word) < shortest_len:\n",
        "        shortest_len = len(word)\n",
        "        shortest_pos = pos\n",
        "\n",
        "print(\"Najdłuższe słowo to: \", words[longest_pos])\n",
        "print(\"Najkrótsze słowo to: \", words[shortest_pos])"
      ]
    },
    {
      "cell_type": "code",
      "execution_count": null,
      "id": "liberal-graph",
      "metadata": {},
      "outputs": [],
      "source": [
        "# Napisz dwie funkcje: szyfrującą oraz deszyfrująca, zastosuj dowolny (moze być własny) algorytm szyfrowania.\n",
        "def szyfruj(text):\n",
        "    conversion_table = str.maketrans(\"abcdefghijklmnopqrstuvwxyzABCDEFGHIJKLMNOPQRSTUVWXYZ\", \"zyxwvutsrqponmlkjihgfedcbaZYXWVUTSRQPONMLKJIHGFEDCBA\")\n",
        "    return text.translate(conversion_table)\n",
        "\n",
        "def odszyfruj(text):\n",
        "    conversion_table = str.maketrans(\"zyxwvutsrqponmlkjihgfedcbaZYXWVUTSRQPONMLKJIHGFEDCBA\", \"abcdefghijklmnopqrstuvwxyzABCDEFGHIJKLMNOPQRSTUVWXYZ\")\n",
        "    return text.translate(conversion_table)\n",
        "\n",
        "text = \"Orygnalna treść wiadomości.\"\n",
        "\n",
        "enc = szyfruj(text)\n",
        "\n",
        "decod = odszyfruj(enc)\n",
        "\n",
        "print(text)\n",
        "print(enc)\n",
        "print(decod)\n"
      ]
    },
    {
      "cell_type": "code",
      "execution_count": 80,
      "id": "fitting-asset",
      "metadata": {},
      "outputs": [
        {
          "name": "stdout",
          "output_type": "stream",
          "text": [
            "JakieŚ ZdaniE, ZaiwerajacE KropkĘ I PrzecinkI.\n"
          ]
        }
      ],
      "source": [
        "# Wypisz dowolne zdanie na ekran w taki sposób, że każdy jego wyraz będzie rozpoczynał się i kończył wielką literą.\n",
        "def capitalize_words(text):\n",
        "    words = text.split(\" \")\n",
        "    for pos, word in enumerate(words):\n",
        "        try:\n",
        "            words[pos] = word.capitalize()\n",
        "        except:\n",
        "            pass\n",
        "        if word[-1] in [\",\", \".\", \":\", \"'\", \";\", \"!\", \"?\"]:\n",
        "            try:\n",
        "                words[pos] = words[pos][:-2] + words[pos][-2].capitalize() + word[-1]\n",
        "            except: pass\n",
        "        else:\n",
        "            try:   \n",
        "                words[pos] = words[pos][:-1] + words[pos][-1].capitalize()\n",
        "            except:\n",
        "                pass\n",
        "    print(*words)\n",
        "\n",
        "capitalize_words(\"jakieś zdanie, zaiwerajace kropkę i przecinki.\")"
      ]
    },
    {
      "cell_type": "code",
      "execution_count": null,
      "id": "compound-butter",
      "metadata": {},
      "outputs": [],
      "source": [
        "# Napisz funkcję, która zwraca rozszerzenie pliku np. notes.txt, wypisze txt\n",
        "def ext(nazwa):\n",
        "    return nazwa.split(\".\")[-1]\n",
        "\n",
        "ext(\"plik.txt\")"
      ]
    },
    {
      "cell_type": "code",
      "execution_count": null,
      "id": "seasonal-hostel",
      "metadata": {},
      "outputs": [],
      "source": [
        "# Napisz funkcję, która obliczy pole trojkata dla podanych wartości\n",
        "def pole_trojkata(a, b, c):\n",
        "    import math\n",
        "    # Using Heron's Formula\n",
        "    s = (a + b + c) / 2\n",
        "    area = math.sqrt(s*(s-a)*(s-b)*(s-c))\n",
        "    return area\n",
        "\n",
        "pole_trojkata(3, 4, 5)"
      ]
    },
    {
      "cell_type": "code",
      "execution_count": 2,
      "id": "starting-organizer",
      "metadata": {},
      "outputs": [
        {
          "data": {
            "text/plain": [
              "True"
            ]
          },
          "execution_count": 2,
          "metadata": {},
          "output_type": "execute_result"
        }
      ],
      "source": [
        "# Napisz funkcję, która sprawdzi czy dane 3 liczby, ktore są długościami boków trójkąta mogą utworzyc trójkąt prostokątny\n",
        "def to_jest_trojkat_prost(a, b, c):\n",
        "    import math\n",
        "    val = [a, b, c]\n",
        "    val.sort()\n",
        "\n",
        "    if val[2] == math.sqrt(pow(val[0],2) + pow(val[1], 2)):\n",
        "        return True\n",
        "    else:\n",
        "        return False\n",
        "\n",
        "to_jest_trojkat_prost(4, 3, 5)"
      ]
    },
    {
      "cell_type": "code",
      "execution_count": 19,
      "id": "vocal-mouth",
      "metadata": {
        "scrolled": true
      },
      "outputs": [
        {
          "name": "stdout",
          "output_type": "stream",
          "text": [
            "100 °F to 37.8 °C\n",
            "37.8 °C to 100.0 °F\n"
          ]
        }
      ],
      "source": [
        "# Napisze funkcje, ktora zamieni temperaturę w stopniach Celsiusza na stopnie Fahrenheita i wypisze obie wartości na ekran.\n",
        "def farh_na_celc(fahr):\n",
        "    celc = round((fahr - 32) * 5/9, 1)\n",
        "    return print(fahr, \"°F\", \"to\", celc, \"°C\")\n",
        "\n",
        "# Napisz funkcję, kwartość temperatury w stopniach Fahrenheita, następnie przekonwertuje ją na stopnie Celsiusza i wypisze obie wartości na ekran.\n",
        "def celc_na_farh(celc):\n",
        "    fahr = round(celc * 9/5 + 32, 1)\n",
        "    return print(celc, \"°C\", \"to\", fahr, \"°F\")\n",
        "\n",
        "farh_na_celc(100)\n",
        "\n",
        "celc_na_farh(37.8)"
      ]
    },
    {
      "cell_type": "code",
      "execution_count": 18,
      "id": "civilian-scheme",
      "metadata": {},
      "outputs": [
        {
          "name": "stdout",
          "output_type": "stream",
          "text": [
            "lato\n"
          ]
        }
      ],
      "source": [
        "# Napisz funkcje, która zwróci nazwę pory roku dla danego miesiąca\n",
        "def poraroku(month):\n",
        "    pory_roku = {\"zima\": (\"grudzień\", \"styczeń\", \"luty\"),\n",
        "                 \"wiosna\": (\"marzec\", \"kwiecień\", \"maj\"),\n",
        "                 \"lato\": (\"czerwiec\", \"lipiec\", \"sierpień\"),\n",
        "                 \"jesień\": (\"wrzesień\", \"październik\", \"listopad\")}\n",
        "    for pora, miesiace in pory_roku.items():\n",
        "        if month.lower() in miesiace:\n",
        "            return print(pora)\n",
        "    print(\"Podano niewłaściwą nazwę miesiąca.\")\n",
        "\n",
        "poraroku(\"czerwiec\")"
      ]
    },
    {
      "cell_type": "code",
      "execution_count": 26,
      "id": "romantic-sister",
      "metadata": {},
      "outputs": [
        {
          "name": "stdout",
          "output_type": "stream",
          "text": [
            "kwiecień\n",
            "2\n"
          ]
        }
      ],
      "source": [
        "# Napisz funkcje, która zamienic nr miesiąca na jego nazwę (np. 1 -> styczen) i odwrotnie\n",
        "def nazwa_miesiaca(nr):\n",
        "    miesiace = {1: \"styczeń\",\n",
        "                2: \"luty\",\n",
        "                3: \"marzec\",\n",
        "                4: \"kwiecień\",\n",
        "                5: \"maj\",\n",
        "                6: \"czerwiec\",\n",
        "                7: \"lipiec\",\n",
        "                8: \"sierpień\",\n",
        "                9: \"wrzesień\",\n",
        "                10: \"październik\",\n",
        "                11: \"listopad\",\n",
        "                12: \"grudzień\"}\n",
        "    return print(miesiace[nr])\n",
        "\n",
        "\n",
        "def nr_miesiaca(nazwa):\n",
        "    miesiace = {\"styczeń\": 1,\n",
        "                \"luty\": 2,\n",
        "                \"marzec\": 3,\n",
        "                \"kwiecień\": 4,\n",
        "                \"maj\": 5,\n",
        "                \"czerwiec\": 6,\n",
        "                \"lipiec\": 7,\n",
        "                \"sierpień\": 8,\n",
        "                \"wrzesień\": 9,\n",
        "                \"październik\": 10,\n",
        "                \"listopad\": 11,\n",
        "                \"grudzień\": 12}\n",
        "    return print(miesiace[nazwa.lower()])\n",
        "\n",
        "nazwa_miesiaca(4)\n",
        "\n",
        "nr_miesiaca(\"luty\")"
      ]
    },
    {
      "attachments": {},
      "cell_type": "markdown",
      "id": "d2e32b15",
      "metadata": {},
      "source": [
        "## Napisz funkcję, która wyswietla pliki z danego katalogu:\n",
        "- argumentem jest nazwa katalogu\n",
        "- pliki powinny być wyświetlane na ekranie w kolejności alfabetycznej\n",
        "- katalogi powinny zostac pominięte (nie powinny byc wyświetlane)"
      ]
    },
    {
      "cell_type": "code",
      "execution_count": null,
      "id": "0790058a",
      "metadata": {},
      "outputs": [],
      "source": [
        "def pliki(katalog):\n",
        "..."
      ]
    },
    {
      "attachments": {},
      "cell_type": "markdown",
      "id": "e0f2c831",
      "metadata": {},
      "source": [
        "## Napisz funkcję, która wyświetli pliki z danego katalogu o podanym rozszerzeniu\n",
        "- argumentemami funkcji są katalog oraz rozszerzenie pliku"
      ]
    },
    {
      "cell_type": "code",
      "execution_count": null,
      "id": "0e687b88",
      "metadata": {},
      "outputs": [],
      "source": [
        "def pliki_roz(katalog, ext):\n",
        "..."
      ]
    },
    {
      "attachments": {},
      "cell_type": "markdown",
      "id": "537c06da",
      "metadata": {},
      "source": [
        "## Napisz funkcję obliczająca ile dni mineło w tym roku"
      ]
    },
    {
      "cell_type": "code",
      "execution_count": null,
      "id": "0f3e52b7",
      "metadata": {},
      "outputs": [],
      "source": [
        "def ile_dni_minelo():\n",
        "..."
      ]
    },
    {
      "attachments": {},
      "cell_type": "markdown",
      "id": "b2be4659",
      "metadata": {},
      "source": [
        "## Napisz funkcję, która tworzy losowe zdanie z podanej listy słow\n",
        "- utworzone zdanie powinno zaczynać sie z wielkiej litery i kończyć kropką\n",
        "- argumentem funkcji jest lista słow."
      ]
    },
    {
      "cell_type": "code",
      "execution_count": null,
      "id": "e5de4730",
      "metadata": {},
      "outputs": [],
      "source": [
        "def losowe_zdanie(slowa):\n",
        "..."
      ]
    },
    {
      "attachments": {},
      "cell_type": "markdown",
      "id": "2f1ae88c",
      "metadata": {},
      "source": [
        "## Napisz funkcję, która wyświetla aktualny czas w Polsce\n",
        "\n",
        "- wykorzystaj url: [ http://worldtimeapi.org/api/timezone/Europe/Warsaw ] \n",
        "- wykorzystaj biblioteki urlib, json"
      ]
    },
    {
      "cell_type": "code",
      "execution_count": null,
      "id": "b313be25",
      "metadata": {},
      "outputs": [],
      "source": [
        "def czas():\n",
        "..."
      ]
    },
    {
      "attachments": {},
      "cell_type": "markdown",
      "id": "3a501528",
      "metadata": {},
      "source": [
        "## Napisz funkcję, która wyświetla wszystkie argumenty funkcji na ekranie\n",
        "- dowolna liczba argumentów, nie jest określona ilość i nazwy argumentów\n",
        "- argumenty wyświetlane w oddzielnych liniach\n",
        "- argumenty posortowane w kolejnosci alfabetycznej"
      ]
    },
    {
      "cell_type": "code",
      "execution_count": null,
      "id": "8f228742",
      "metadata": {
        "scrolled": true
      },
      "outputs": [],
      "source": [
        "def argumenty(...):\n",
        "..."
      ]
    },
    {
      "attachments": {},
      "cell_type": "markdown",
      "id": "8a2cbef2",
      "metadata": {},
      "source": [
        "# Zadanie końcowe - Biblioteka"
      ]
    },
    {
      "attachments": {},
      "cell_type": "markdown",
      "id": "d36f886b",
      "metadata": {},
      "source": [
        "## Utworz modul biblioteka z następującymi funkcjami\n",
        "\n",
        "    - dodaj_ksiazke()  - dodaje pozycję do listy książek\n",
        "    - szukaj_ksiazke() - wyszukaj książki wg podanego słowa\n",
        "    - usun_ksiazke()   - usuwa daną książkę z listy\n",
        "    - pokaz_ksiazki() - wyswietla wszystkie książki\n",
        "\n",
        "- wykorzystaj bibliotekę json, pickle lub sqlite3 do przechowywania danych"
      ]
    },
    {
      "attachments": {},
      "cell_type": "markdown",
      "id": "0a32bf73",
      "metadata": {},
      "source": [
        "### Dodaj ksiazkę\n",
        "\n",
        "```python\n",
        "ksiazka = ('Lem', 'Solaris')\n",
        "dodaj_ksiazke(ksiazka)\n",
        "``` \n",
        "\n",
        "### Wyszukaj książkę\n",
        "```python\n",
        "szukaj_ksiazke('lem')\n",
        "```\n",
        "\n",
        "### Usuń ksiazkę\n",
        "\n",
        "```python\n",
        "ksiazka = ('Lem', 'Solaris')\n",
        "usun_ksiazke(ksiazka)\n",
        "``` \n",
        "\n",
        "### Pokaż ksiażki\n",
        "\n",
        "```python\n",
        "pokaz_ksiazki()\n",
        "``` "
      ]
    },
    {
      "attachments": {},
      "cell_type": "markdown",
      "id": "131b8ec2",
      "metadata": {},
      "source": [
        "# Napisz funkcje biblioteka() do obslugi książek\n",
        "* wykorzystaj funkcje stworzone w poprzednim poleceniu\n",
        "* biblioteka() wyświetli na początek menu i będzie oczekiwać na wprowadzenie liczby 1-5\n",
        "    1. dodaj\n",
        "    1. szukaj\n",
        "    1. usun\n",
        "    1. pokaz\n",
        "    1. wyjdz\n",
        "* 'pokaż' wyswietli listę książek wraz z numerem i wróci do menu\n",
        "* 'dodaj' zapyta o autora i tytul oraz doda książkę i wróci do menu\n",
        "* 'usun'  skasuje ksiązke na podstawie podanego numeru i wróci do menu\n",
        "* 'szukaj' wyswietli liste ksiąz\n",
        "* 'wyjdz' konczy działanie\n",
        "* ksiazki powinny być przechowywane w pliku\n",
        "    * przy ponownym uruchomieniu lista książek powinna zostac odczytana z pliku."
      ]
    },
    {
      "cell_type": "code",
      "execution_count": null,
      "id": "86ede806",
      "metadata": {},
      "outputs": [],
      "source": [
        "import biblioteka\n",
        "biblioteka.start()"
      ]
    }
  ],
  "metadata": {
    "kernelspec": {
      "display_name": "Python 3 (ipykernel)",
      "language": "python",
      "name": "python3"
    },
    "language_info": {
      "codemirror_mode": {
        "name": "ipython",
        "version": 3
      },
      "file_extension": ".py",
      "mimetype": "text/x-python",
      "name": "python",
      "nbconvert_exporter": "python",
      "pygments_lexer": "ipython3",
      "version": "3.10.0"
    },
    "nteract": {
      "version": "nteract-front-end@1.0.0"
    }
  },
  "nbformat": 4,
  "nbformat_minor": 5
}
