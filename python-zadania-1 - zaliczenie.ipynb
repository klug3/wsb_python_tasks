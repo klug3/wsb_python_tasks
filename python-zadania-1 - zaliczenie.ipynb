{
  "cells": [
    {
      "attachments": {},
      "cell_type": "markdown",
      "id": "geological-helping",
      "metadata": {},
      "source": [
        "# Zadania na zaliczenie"
      ]
    },
    {
      "cell_type": "code",
      "execution_count": 1,
      "id": "visible-forward",
      "metadata": {},
      "outputs": [
        {
          "name": "stdout",
          "output_type": "stream",
          "text": [
            "0\n",
            "1\n",
            "2\n",
            "4\n",
            "5\n",
            "7\n",
            "8\n",
            "9\n",
            "10\n",
            "11\n",
            "12\n",
            "13\n",
            "14\n",
            "15\n",
            "16\n",
            "17\n",
            "18\n",
            "19\n",
            "20\n"
          ]
        }
      ],
      "source": [
        "# Wypisz na ekran liczby z przedzialu <0,20>, które nie zawierają w sobie cyfr 3 oraz 6.\n",
        "for i in range(21):\n",
        "    if i not in (3, 6):\n",
        "        print(i)"
      ]
    },
    {
      "cell_type": "code",
      "execution_count": 26,
      "id": "impressive-cruise",
      "metadata": {},
      "outputs": [
        {
          "name": "stdout",
          "output_type": "stream",
          "text": [
            "Lrmismdlrstae ars\n",
            "ta aiu u eu.Vsiuu epsprs\n",
            "usat gtlo upnis ain\n",
            "etblmat rtu eiuaulmopr\n",
            "upnis gtage elneqesdlssd utsage \n",
            "\n",
            "Lrmismdlrstae ars\n",
            "ta aiu u eu.Vsiuu epsprs\n",
            "usat gtlo upnis ain\n",
            "etblmat rtu eiuaulmopr\n",
            "upnis gtage elneqesdlssd utsage \n"
          ]
        }
      ],
      "source": [
        "# Wypisz z następującego zdania co 2 znak.\n",
        "\n",
        "txt = \"\"\"Lorem ipsum dolor sit amet mauris.\n",
        "Etiam dapibus eu, neque. Vestibulum tempus purus.\n",
        "Duis ante eget leo. Suspendisse sapien.\n",
        "Vestibulum ante pretium vehicula ullamcorper.\n",
        "Suspendisse eget augue. Pellentesque sodales sed, luctus augue. \"\"\"\n",
        "\n",
        "\n",
        "# Dłusze rozwiązanie\n",
        "for pos, letter in enumerate(txt):\n",
        "    if pos % 2 == 0:\n",
        "        print(letter, end=\"\")\n",
        "\n",
        "print(\"\\n\")\n",
        "\n",
        "# Krótsze rozwiązanie\n",
        "print(txt[::2])"
      ]
    },
    {
      "cell_type": "code",
      "execution_count": 15,
      "id": "australian-count",
      "metadata": {},
      "outputs": [
        {
          "name": "stdout",
          "output_type": "stream",
          "text": [
            "Lorem sit Etiam neque purus eget sapien pretium Suspendisse Pellentesque luctus\n"
          ]
        }
      ],
      "source": [
        "# Wypisz ze zdania co 3 wyraz (bez kropek).\n",
        "import re\n",
        "# words = re.split(\" |, |\\. |\\.\\\\n|\\\\n\", txt) - problem pustego ostatniego elementu listy\n",
        "\n",
        "words = re.findall(r'\\w+', txt)\n",
        "co_trzeci = []\n",
        "\n",
        "for pos, word in enumerate(words):\n",
        "    if pos % 3 == 0:\n",
        "        co_trzeci.append(word)\n",
        "\n",
        "print(*co_trzeci)   # Bez przecinków i kropek"
      ]
    },
    {
      "cell_type": "code",
      "execution_count": 18,
      "id": "0edd42a9",
      "metadata": {},
      "outputs": [
        {
          "name": "stdout",
          "output_type": "stream",
          "text": [
            "Lorem sit Etiam neque purus eget sapien pretium Suspendisse Pellentesque luctus\n"
          ]
        }
      ],
      "source": [
        "# Wypisz ze zdania co 3 wyraz (bez kropek). - krótsze rozwiązanie\n",
        "import re\n",
        "words = re.findall(r'\\w+', txt)\n",
        "print(*words[::3])"
      ]
    },
    {
      "cell_type": "code",
      "execution_count": 20,
      "id": "7aebda2b",
      "metadata": {},
      "outputs": [
        {
          "data": {
            "text/plain": [
              "'Lorem dolor ipsum sit amet mauris.\\nEtiam dapibus eu, neque. Vestibulum tempus purus.\\nDuis ante eget leo. Suspendisse sapien.\\nVestibulum ante pretium vehicula ullamcorper.\\nSuspendisse eget augue. Pellentesque sodales sed, luctus augue. '"
            ]
          },
          "execution_count": 20,
          "metadata": {},
          "output_type": "execute_result"
        }
      ],
      "source": [
        "# Zamień szystkie 'ipsum' w zdaniu na 'dolor' i odwrotnie.\n",
        "txt.replace('ipsum', 'dol_or').replace('dolor', 'ipsum').replace('dol_or', 'dolor')\n"
      ]
    },
    {
      "cell_type": "code",
      "execution_count": 25,
      "id": "brief-conspiracy",
      "metadata": {},
      "outputs": [
        {
          "name": "stdout",
          "output_type": "stream",
          "text": [
            "Najdłuższe słowo to: Pellentesque o długości 12 liter.\n",
            "Najkrótsze słowo to: eu o długości 2 liter.\n"
          ]
        }
      ],
      "source": [
        "# Wypisz najdłuższe i najkrótsze słowa oraz ich długość.\n",
        "import re\n",
        "words = re.findall(r'\\w+', txt)\n",
        "\n",
        "shortest_len = len(words[0])\n",
        "longest_len = len(words[0])\n",
        "\n",
        "shortest_word = None\n",
        "longest_word = None\n",
        "\n",
        "for word in words:\n",
        "    if len(word) > longest_len:\n",
        "        longest_len = len(word)\n",
        "        longest_word = word\n",
        "    if len(word) < shortest_len:\n",
        "        shortest_len = len(word)\n",
        "        shortest_word = word\n",
        "\n",
        "print(\"Najdłuższe słowo to:\", longest_word, \"o długości\", longest_len, \"liter.\")\n",
        "print(\"Najkrótsze słowo to:\", shortest_word, \"o długości\", shortest_len, \"liter.\")"
      ]
    },
    {
      "cell_type": "code",
      "execution_count": 1,
      "id": "liberal-graph",
      "metadata": {},
      "outputs": [
        {
          "name": "stdout",
          "output_type": "stream",
          "text": [
            "Oryginalna treść wiadomości.\n",
            "Libtrmzomz givść drzwlnlśxr.\n",
            "Oryginalna treść wiadomości.\n"
          ]
        }
      ],
      "source": [
        "# Napisz dwie funkcje: szyfrującą oraz deszyfrująca, zastosuj dowolny (moze być własny) algorytm szyfrowania.\n",
        "def szyfruj(text):\n",
        "    conversion_table = str.maketrans(\"abcdefghijklmnopqrstuvwxyzABCDEFGHIJKLMNOPQRSTUVWXYZ\", \"zyxwvutsrqponmlkjihgfedcbaZYXWVUTSRQPONMLKJIHGFEDCBA\")\n",
        "    return text.translate(conversion_table)\n",
        "\n",
        "def odszyfruj(text):\n",
        "    conversion_table = str.maketrans(\"zyxwvutsrqponmlkjihgfedcbaZYXWVUTSRQPONMLKJIHGFEDCBA\", \"abcdefghijklmnopqrstuvwxyzABCDEFGHIJKLMNOPQRSTUVWXYZ\")\n",
        "    return text.translate(conversion_table)\n",
        "\n",
        "text = \"Oryginalna treść wiadomości.\"\n",
        "\n",
        "enc = szyfruj(text)\n",
        "\n",
        "decod = odszyfruj(enc)\n",
        "\n",
        "print(text)\n",
        "print(enc)\n",
        "print(decod)\n"
      ]
    },
    {
      "cell_type": "code",
      "execution_count": 2,
      "id": "fitting-asset",
      "metadata": {},
      "outputs": [
        {
          "name": "stdout",
          "output_type": "stream",
          "text": [
            "JakieŚ ZdaniE, ZawierającE KropkĘ I PrzecinkI.\n"
          ]
        }
      ],
      "source": [
        "# Wypisz dowolne zdanie na ekran w taki sposób, że każdy jego wyraz będzie rozpoczynał się i kończył wielką literą.\n",
        "def capitalize_words(text):\n",
        "    words = text.split(\" \")\n",
        "    for pos, word in enumerate(words):\n",
        "        try:\n",
        "            words[pos] = word.capitalize()\n",
        "        except:\n",
        "            pass\n",
        "        if word[-1] in [\",\", \".\", \":\", \"'\", \";\", \"!\", \"?\"]:\n",
        "            try:\n",
        "                words[pos] = words[pos][:-2] + words[pos][-2].capitalize() + word[-1]\n",
        "            except: pass\n",
        "        else:\n",
        "            try:   \n",
        "                words[pos] = words[pos][:-1] + words[pos][-1].capitalize()\n",
        "            except:\n",
        "                pass\n",
        "    print(*words)\n",
        "\n",
        "capitalize_words(\"jakieś zdanie, zawierające kropkę i przecinki.\")"
      ]
    },
    {
      "cell_type": "code",
      "execution_count": 3,
      "id": "compound-butter",
      "metadata": {},
      "outputs": [
        {
          "data": {
            "text/plain": [
              "'txt'"
            ]
          },
          "execution_count": 3,
          "metadata": {},
          "output_type": "execute_result"
        }
      ],
      "source": [
        "# Napisz funkcję, która zwraca rozszerzenie pliku np. notes.txt, wypisze txt\n",
        "def ext(nazwa):\n",
        "    return nazwa.split(\".\")[-1]\n",
        "\n",
        "ext(\"plik.txt\")"
      ]
    },
    {
      "cell_type": "code",
      "execution_count": 4,
      "id": "seasonal-hostel",
      "metadata": {},
      "outputs": [
        {
          "data": {
            "text/plain": [
              "6.0"
            ]
          },
          "execution_count": 4,
          "metadata": {},
          "output_type": "execute_result"
        }
      ],
      "source": [
        "# Napisz funkcję, która obliczy pole trojkata dla podanych wartości\n",
        "def pole_trojkata(a, b, c):\n",
        "    import math\n",
        "    # Stosując wzór Herona\n",
        "    s = (a + b + c) / 2\n",
        "    area = math.sqrt(s*(s-a)*(s-b)*(s-c))\n",
        "    return area\n",
        "\n",
        "pole_trojkata(3, 4, 5)"
      ]
    },
    {
      "cell_type": "code",
      "execution_count": 7,
      "id": "starting-organizer",
      "metadata": {},
      "outputs": [
        {
          "data": {
            "text/plain": [
              "True"
            ]
          },
          "execution_count": 7,
          "metadata": {},
          "output_type": "execute_result"
        }
      ],
      "source": [
        "# Napisz funkcję, która sprawdzi czy dane 3 liczby, ktore są długościami boków trójkąta mogą utworzyc trójkąt prostokątny\n",
        "def to_jest_trojkat_prost(a, b, c):\n",
        "    import math\n",
        "    val = [a, b, c]\n",
        "    val.sort()\n",
        "    # Stosujemy zależność: a^2 + b^2 = c^2\n",
        "    if val[2] == math.sqrt(pow(val[0],2) + pow(val[1], 2)):\n",
        "        return True\n",
        "    else:\n",
        "        return False\n",
        "\n",
        "to_jest_trojkat_prost(4, 5, 3)"
      ]
    },
    {
      "cell_type": "code",
      "execution_count": 19,
      "id": "vocal-mouth",
      "metadata": {
        "scrolled": true
      },
      "outputs": [
        {
          "name": "stdout",
          "output_type": "stream",
          "text": [
            "100 °F to 37.8 °C\n",
            "37.8 °C to 100.0 °F\n"
          ]
        }
      ],
      "source": [
        "# Napisze funkcje, ktora zamieni temperaturę w stopniach Celsiusza na stopnie Fahrenheita i wypisze obie wartości na ekran.\n",
        "def farh_na_celc(fahr):\n",
        "    celc = round((fahr - 32) * 5/9, 1)\n",
        "    return print(fahr, \"°F\", \"to\", celc, \"°C\")\n",
        "\n",
        "# Napisz funkcję, kwartość temperatury w stopniach Fahrenheita, następnie przekonwertuje ją na stopnie Celsiusza i wypisze obie wartości na ekran.\n",
        "def celc_na_farh(celc):\n",
        "    fahr = round(celc * 9/5 + 32, 1)\n",
        "    return print(celc, \"°C\", \"to\", fahr, \"°F\")\n",
        "\n",
        "farh_na_celc(100)\n",
        "\n",
        "celc_na_farh(37.8)"
      ]
    },
    {
      "cell_type": "code",
      "execution_count": 10,
      "id": "civilian-scheme",
      "metadata": {},
      "outputs": [
        {
          "name": "stdout",
          "output_type": "stream",
          "text": [
            "lato\n"
          ]
        }
      ],
      "source": [
        "# Napisz funkcje, która zwróci nazwę pory roku dla danego miesiąca\n",
        "def poraroku(month):\n",
        "    pory_roku = {\"zima\": (\"grudzień\", \"styczeń\", \"luty\"),\n",
        "                 \"wiosna\": (\"marzec\", \"kwiecień\", \"maj\"),\n",
        "                 \"lato\": (\"czerwiec\", \"lipiec\", \"sierpień\"),\n",
        "                 \"jesień\": (\"wrzesień\", \"październik\", \"listopad\")}\n",
        "    for pora, miesiace in pory_roku.items():\n",
        "        if month.lower() in miesiace:\n",
        "            return print(pora)\n",
        "    print(\"Podano niewłaściwą nazwę miesiąca.\")\n",
        "\n",
        "poraroku(\"czerwiec\")"
      ]
    },
    {
      "cell_type": "code",
      "execution_count": 15,
      "id": "romantic-sister",
      "metadata": {},
      "outputs": [
        {
          "name": "stdout",
          "output_type": "stream",
          "text": [
            "październik\n",
            "2\n"
          ]
        }
      ],
      "source": [
        "# Napisz funkcje, która zamienic nr miesiąca na jego nazwę (np. 1 -> styczen) i odwrotnie\n",
        "def nazwa_miesiaca(nr):\n",
        "    miesiace = {1: \"styczeń\",\n",
        "                2: \"luty\",\n",
        "                3: \"marzec\",\n",
        "                4: \"kwiecień\",\n",
        "                5: \"maj\",\n",
        "                6: \"czerwiec\",\n",
        "                7: \"lipiec\",\n",
        "                8: \"sierpień\",\n",
        "                9: \"wrzesień\",\n",
        "                10: \"październik\",\n",
        "                11: \"listopad\",\n",
        "                12: \"grudzień\"}\n",
        "    return print(miesiace[nr])\n",
        "\n",
        "\n",
        "def nr_miesiaca(nazwa):\n",
        "    miesiace = {\"styczeń\": 1,\n",
        "                \"luty\": 2,\n",
        "                \"marzec\": 3,\n",
        "                \"kwiecień\": 4,\n",
        "                \"maj\": 5,\n",
        "                \"czerwiec\": 6,\n",
        "                \"lipiec\": 7,\n",
        "                \"sierpień\": 8,\n",
        "                \"wrzesień\": 9,\n",
        "                \"październik\": 10,\n",
        "                \"listopad\": 11,\n",
        "                \"grudzień\": 12}\n",
        "    return print(miesiace[nazwa.lower()])\n",
        "\n",
        "nazwa_miesiaca(10)\n",
        "\n",
        "nr_miesiaca(\"luty\")"
      ]
    },
    {
      "attachments": {},
      "cell_type": "markdown",
      "id": "d2e32b15",
      "metadata": {},
      "source": [
        "## Napisz funkcję, która wyswietla pliki z danego katalogu:\n",
        "- argumentem jest nazwa katalogu\n",
        "- pliki powinny być wyświetlane na ekranie w kolejności alfabetycznej\n",
        "- katalogi powinny zostac pominięte (nie powinny byc wyświetlane)"
      ]
    },
    {
      "cell_type": "code",
      "execution_count": 9,
      "id": "0790058a",
      "metadata": {},
      "outputs": [
        {
          "name": "stdout",
          "output_type": "stream",
          "text": [
            "python-cwiczenia-1-rozwiazania.ipynb\n",
            "python-cwiczenia-1.ipynb\n",
            "python-klasy-cwiczenia-1.ipynb\n",
            "python-klasy-cwiczenia-2.ipynb\n",
            "python-wyklad-1.ipynb\n",
            "python-wyklad-2.ipynb\n"
          ]
        }
      ],
      "source": [
        "def pliki(katalog):\n",
        "    import os\n",
        "    dir_path = \"./\" + katalog + \"/\"\n",
        "    list_of_files = []\n",
        "    for path in os.listdir(dir_path):\n",
        "    # sprzwdź czy jest to plik\n",
        "        if os.path.isfile(os.path.join(dir_path, path)):\n",
        "            list_of_files.append(path)\n",
        "    # uporządkuj alfabetycznie\n",
        "    list_of_files.sort()\n",
        "    print(*list_of_files, sep=\"\\n\")\n",
        "\n",
        "pliki(\"notebooks\")"
      ]
    },
    {
      "attachments": {},
      "cell_type": "markdown",
      "id": "e0f2c831",
      "metadata": {},
      "source": [
        "## Napisz funkcję, która wyświetli pliki z danego katalogu o podanym rozszerzeniu\n",
        "- argumentemami funkcji są katalog oraz rozszerzenie pliku"
      ]
    },
    {
      "cell_type": "code",
      "execution_count": 10,
      "id": "0e687b88",
      "metadata": {},
      "outputs": [
        {
          "name": "stdout",
          "output_type": "stream",
          "text": [
            "Wynik działania funkcji pliki_roz:\n",
            "python-cwiczenia-1-rozwiazania.ipynb\n",
            "python-cwiczenia-1.ipynb\n",
            "python-klasy-cwiczenia-1.ipynb\n",
            "python-klasy-cwiczenia-2.ipynb\n",
            "python-wyklad-1.ipynb\n",
            "python-wyklad-2.ipynb\n",
            "\n",
            "Wynik działania funkcji pliki_roz2:\n",
            "python-cwiczenia-1-rozwiazania.ipynb\n",
            "python-cwiczenia-1.ipynb\n",
            "python-klasy-cwiczenia-1.ipynb\n",
            "python-klasy-cwiczenia-2.ipynb\n",
            "python-wyklad-1.ipynb\n",
            "python-wyklad-2.ipynb\n"
          ]
        }
      ],
      "source": [
        "# Korzystając z modułu os\n",
        "def pliki_roz(katalog, ext):\n",
        "    import os\n",
        "    dir_path = \"./\" + katalog + \"/\"\n",
        "    list_of_files = []\n",
        "    for path in os.listdir(dir_path):\n",
        "    # sprawdź czy jest to plik\n",
        "        if os.path.isfile(os.path.join(dir_path, path)) and path.split(\".\")[-1] == ext:\n",
        "            list_of_files.append(path)\n",
        "    # uporządkuj alfabetycznie\n",
        "    list_of_files.sort()\n",
        "    print(*list_of_files, sep=\"\\n\")\n",
        "\n",
        "# Korzystając z modułu glob\n",
        "def pliki_roz2(katalog, ext):\n",
        "    import glob\n",
        "    path = f\"./{katalog}/\"\n",
        "    list_of_files = glob.glob(f\"{path}*.{ext}\")\n",
        "    list_of_files.sort()\n",
        "    for i in list_of_files: print(i.split(\"/\")[-1])\n",
        "\n",
        "print(\"Wynik działania funkcji pliki_roz:\")\n",
        "pliki_roz(\"notebooks\", \"ipynb\")\n",
        "print()\n",
        "print(\"Wynik działania funkcji pliki_roz2:\")\n",
        "pliki_roz2(\"notebooks\", \"ipynb\")"
      ]
    },
    {
      "attachments": {},
      "cell_type": "markdown",
      "id": "537c06da",
      "metadata": {},
      "source": [
        "## Napisz funkcję obliczająca ile dni mineło w tym roku"
      ]
    },
    {
      "cell_type": "code",
      "execution_count": 23,
      "id": "0f3e52b7",
      "metadata": {},
      "outputs": [
        {
          "name": "stdout",
          "output_type": "stream",
          "text": [
            "182\n"
          ]
        }
      ],
      "source": [
        "def ile_dni_minelo():\n",
        "    from datetime import date\n",
        "    now = date.today()\n",
        "\n",
        "    # określ aktulany rok\n",
        "    current_year = int(now.strftime(\"%Y\"))\n",
        "    # oblicz ile dni minęło\n",
        "    days_passed = now - date(current_year, 1, 1)\n",
        "    print(days_passed.days)\n",
        "\n",
        "ile_dni_minelo()"
      ]
    },
    {
      "attachments": {},
      "cell_type": "markdown",
      "id": "b2be4659",
      "metadata": {},
      "source": [
        "## Napisz funkcję, która tworzy losowe zdanie z podanej listy słow\n",
        "- utworzone zdanie powinno zaczynać sie z wielkiej litery i kończyć kropką\n",
        "- argumentem funkcji jest lista słow."
      ]
    },
    {
      "cell_type": "code",
      "execution_count": 17,
      "id": "9efbbc9b",
      "metadata": {},
      "outputs": [
        {
          "name": "stdout",
          "output_type": "stream",
          "text": [
            "Sklepu idzie piwo po kot do.\n"
          ]
        }
      ],
      "source": [
        "def losowe_zdanie(slowa):\n",
        "    import random\n",
        "    lista_slow = random.sample(slowa, len(slowa))\n",
        "    zdanie = (\" \".join(lista_slow) + \".\").capitalize()\n",
        "    print(zdanie)\n",
        "\n",
        "losowe_zdanie([\"kot\", \"idzie\", \"do\", \"sklepu\", \"po\", \"piwo\"])    "
      ]
    },
    {
      "attachments": {},
      "cell_type": "markdown",
      "id": "2f1ae88c",
      "metadata": {},
      "source": [
        "## Napisz funkcję, która wyświetla aktualny czas w Polsce\n",
        "\n",
        "- wykorzystaj url: [ http://worldtimeapi.org/api/timezone/Europe/Warsaw ] \n",
        "- wykorzystaj biblioteki urlib, json"
      ]
    },
    {
      "cell_type": "code",
      "execution_count": 27,
      "id": "b313be25",
      "metadata": {},
      "outputs": [
        {
          "name": "stdout",
          "output_type": "stream",
          "text": [
            "Aktualny czas w Polsce: 20:37:05\n"
          ]
        }
      ],
      "source": [
        "def czas():\n",
        "    from urllib.request import urlopen\n",
        "    import json\n",
        "    import re\n",
        "\n",
        "    url = \"http://worldtimeapi.org/api/timezone/Europe/Warsaw.json\"\n",
        "\n",
        "    # odczaytaj dane z adresu\n",
        "    with  urlopen(url) as response:\n",
        "    \n",
        "        # przypisz dane do zmiennej\n",
        "        data_json = json.loads(response.read())\n",
        "        # odnajdź aktualny czas w pozyskanych danych (HH:MM:SS)\n",
        "        time = re.search(r\"(\\d{2}\\:\\d{2}\\:\\d{2})\", data_json[\"datetime\"])\n",
        "        # wyświetl aktualny czas\n",
        "        print(\"Aktualny czas w Polsce:\", time.group())\n",
        "    \n",
        "czas()"
      ]
    },
    {
      "attachments": {},
      "cell_type": "markdown",
      "id": "3a501528",
      "metadata": {},
      "source": [
        "## Napisz funkcję, która wyświetla wszystkie argumenty funkcji na ekranie\n",
        "- dowolna liczba argumentów, nie jest określona ilość i nazwy argumentów\n",
        "- argumenty wyświetlane w oddzielnych liniach\n",
        "- argumenty posortowane w kolejnosci alfabetycznej"
      ]
    },
    {
      "cell_type": "code",
      "execution_count": 28,
      "id": "8f228742",
      "metadata": {
        "scrolled": true
      },
      "outputs": [
        {
          "name": "stdout",
          "output_type": "stream",
          "text": [
            "Argumenty funkcji:\n",
            "a = 0\n",
            "kon = 1\n",
            "kot = hehe\n",
            "michael_jackson = hee-hee\n"
          ]
        }
      ],
      "source": [
        "def argumenty(**kwargs):\n",
        "    # pozyskaj nazwy argumentów\n",
        "    nazwy_arg = list(kwargs.keys())\n",
        "\n",
        "    # posortuj argumenty alfabetycznie po nazwach\n",
        "    nazwy_arg.sort()\n",
        "\n",
        "    # wyświetl posortowane argumenty wraz z wartościami\n",
        "    print(\"Argumenty funkcji:\")\n",
        "    for arg in nazwy_arg:\n",
        "        print(f\"{arg} = {kwargs[arg]}\")\n",
        "\n",
        "argumenty(kon=1, kot=\"hehe\", michael_jackson=\"hee-hee\", a=0)"
      ]
    },
    {
      "attachments": {},
      "cell_type": "markdown",
      "id": "8a2cbef2",
      "metadata": {},
      "source": [
        "# Zadanie końcowe - Biblioteka"
      ]
    },
    {
      "attachments": {},
      "cell_type": "markdown",
      "id": "d36f886b",
      "metadata": {},
      "source": [
        "## Utworz modul biblioteka z następującymi funkcjami\n",
        "\n",
        "    - dodaj_ksiazke()  - dodaje pozycję do listy książek\n",
        "    - szukaj_ksiazke() - wyszukaj książki wg podanego słowa\n",
        "    - usun_ksiazke()   - usuwa daną książkę z listy\n",
        "    - pokaz_ksiazki() - wyswietla wszystkie książki\n",
        "\n",
        "- wykorzystaj bibliotekę json, pickle lub sqlite3 do przechowywania danych"
      ]
    },
    {
      "attachments": {},
      "cell_type": "markdown",
      "id": "0a32bf73",
      "metadata": {},
      "source": [
        "### Dodaj ksiazkę\n",
        "\n",
        "```python\n",
        "ksiazka = ('Lem', 'Solaris')\n",
        "dodaj_ksiazke(ksiazka)\n",
        "``` \n",
        "\n",
        "### Wyszukaj książkę\n",
        "```python\n",
        "szukaj_ksiazke('lem')\n",
        "```\n",
        "\n",
        "### Usuń ksiazkę\n",
        "\n",
        "```python\n",
        "ksiazka = ('Lem', 'Solaris')\n",
        "usun_ksiazke(ksiazka)\n",
        "``` \n",
        "\n",
        "### Pokaż ksiażki\n",
        "\n",
        "```python\n",
        "pokaz_ksiazki()\n",
        "``` "
      ]
    },
    {
      "attachments": {},
      "cell_type": "markdown",
      "id": "766a45f4",
      "metadata": {},
      "source": [
        "### Instalowanie dodatkowego modułu do wyświetlania ładnych tabelek"
      ]
    },
    {
      "cell_type": "code",
      "execution_count": 2,
      "id": "9e8eab2f",
      "metadata": {},
      "outputs": [
        {
          "name": "stdout",
          "output_type": "stream",
          "text": [
            "Requirement already satisfied: prettytable in g:\\python\\wsb_python_tasks\\.venv\\lib\\site-packages (3.8.0)\n",
            "Requirement already satisfied: wcwidth in g:\\python\\wsb_python_tasks\\.venv\\lib\\site-packages (from prettytable) (0.2.6)\n"
          ]
        }
      ],
      "source": [
        "# Zainstaluj pakiet pip w obecnym jądrze Jupytera\n",
        "import sys\n",
        "!{sys.executable} -m pip install prettytable"
      ]
    },
    {
      "attachments": {},
      "cell_type": "markdown",
      "id": "b1e5464b",
      "metadata": {},
      "source": [
        "### Test funkcji modułu biblioteka i tworzenie bazy testowej"
      ]
    },
    {
      "cell_type": "code",
      "execution_count": 1,
      "id": "4db5435b",
      "metadata": {},
      "outputs": [
        {
          "name": "stdout",
          "output_type": "stream",
          "text": [
            "+-------+-------+\n",
            "| Autor | Tytuł |\n",
            "+-------+-------+\n",
            "+-------+-------+\n",
            "+-------------------+-------------------+\n",
            "|       Autor       |       Tytuł       |\n",
            "+-------------------+-------------------+\n",
            "|  J. R. R. Tolkien |       Hobbit      |\n",
            "|  J. R. R. Tolkien | Władca pierścieni |\n",
            "|        Lem        |      Solaris      |\n",
            "| Andrzej Sapkowski |    Czas pogardy   |\n",
            "+-------------------+-------------------+\n",
            "+------------------+-------------------+\n",
            "|      Autor       |       Tytuł       |\n",
            "+------------------+-------------------+\n",
            "| J. R. R. Tolkien | Władca pierścieni |\n",
            "+------------------+-------------------+\n"
          ]
        }
      ],
      "source": [
        "import biblioteka as b\n",
        "\n",
        "# Wyczyść bibliotekę po poprzednich próbach\n",
        "# Uwaga, usuwa jedynie zawartość biblioteki (tabelę Ksiazki), a nie cały plik biblioteka.db\n",
        "b.wyczysc_biblioteke()\n",
        "\n",
        "# Stwórz tabelę Ksiazki w biblioteka.db\n",
        "b.stworz_baze_biblioteka()\n",
        "\n",
        "# Wyświetl aktualny stan biblioteki\n",
        "b.pokaz_ksiazki()\n",
        "\n",
        "# Dodaj książki\n",
        "b.dodaj_ksiazke(\"J. R. R. Tolkien\", \"Hobbit\")\n",
        "b.dodaj_ksiazke(\"J. R. R. Tolkien\", \"Władca pierścieni\")\n",
        "b.dodaj_ksiazke(\"Lem\", \"Solaris\")\n",
        "b.dodaj_ksiazke(\"Andrzej Sapkowski\", \"Czas pogardy\")\n",
        "\n",
        "# Wyświetl aktualny stan biblioteki\n",
        "b.pokaz_ksiazki()\n",
        "\n",
        "# Usuń jedną z książek\n",
        "b.usun_ksiazke(\"J. R. R. Tolkien\", \"Hobbit\")\n",
        "\n",
        "# Znajdź książkę zawierającą szukaną frazę w kolumnie autor lub tytuł\n",
        "b.szukaj_ksiazki('tolkien')\n"
      ]
    },
    {
      "attachments": {},
      "cell_type": "markdown",
      "id": "131b8ec2",
      "metadata": {},
      "source": [
        "# Napisz funkcje biblioteka() do obslugi książek\n",
        "* wykorzystaj funkcje stworzone w poprzednim poleceniu\n",
        "* biblioteka() wyświetli na początek menu i będzie oczekiwać na wprowadzenie liczby 1-5\n",
        "    1. dodaj\n",
        "    1. szukaj\n",
        "    1. usun\n",
        "    1. pokaz\n",
        "    1. wyjdz\n",
        "* 'pokaż' wyswietli listę książek wraz z numerem i wróci do menu\n",
        "* 'dodaj' zapyta o autora i tytul oraz doda książkę i wróci do menu\n",
        "* 'usun'  skasuje ksiązke na podstawie podanego numeru i wróci do menu\n",
        "* 'szukaj' wyswietli liste ksiąz\n",
        "* 'wyjdz' konczy działanie\n",
        "* ksiazki powinny być przechowywane w pliku\n",
        "    * przy ponownym uruchomieniu lista książek powinna zostac odczytana z pliku."
      ]
    },
    {
      "cell_type": "code",
      "execution_count": null,
      "id": "86ede806",
      "metadata": {},
      "outputs": [],
      "source": [
        "import biblioteka\n",
        "\n",
        "biblioteka.start()"
      ]
    }
  ],
  "metadata": {
    "kernelspec": {
      "display_name": "Python 3 (ipykernel)",
      "language": "python",
      "name": "python3"
    },
    "language_info": {
      "codemirror_mode": {
        "name": "ipython",
        "version": 3
      },
      "file_extension": ".py",
      "mimetype": "text/x-python",
      "name": "python",
      "nbconvert_exporter": "python",
      "pygments_lexer": "ipython3",
      "version": "3.10.0"
    },
    "nteract": {
      "version": "nteract-front-end@1.0.0"
    }
  },
  "nbformat": 4,
  "nbformat_minor": 5
}
